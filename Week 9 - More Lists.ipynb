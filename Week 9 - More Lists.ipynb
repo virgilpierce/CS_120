{
 "cells": [
  {
   "cell_type": "markdown",
   "id": "cd4026e2-7b8a-4a02-8984-b65c5d272ab8",
   "metadata": {},
   "source": [
    "# Week 9 - More Lists\n",
    "\n",
    "We have tried to treat *strings* as *lists* but there are some subtle differences that its worth discussing:\n",
    "\n",
    "## Membership\n",
    "\n",
    "- lists can have any type as their members:  numbers, strings, other lists, functions, etc.\n",
    "- strings can only have individual characters as their members, with the addition of special characters like *\\n*\n",
    "\n",
    "## Mutability\n",
    "\n",
    "Try the following:  \n",
    "\n",
    "- assign a list to a variable name; and then change one member of the list. Then check the value of the list, what happened?\n",
    "- assign a string to a variable name; and then change one character of the string. What happened?\n"
   ]
  },
  {
   "cell_type": "code",
   "execution_count": null,
   "id": "5d241a4e-c366-4be0-9f4b-065dfa817d04",
   "metadata": {},
   "outputs": [],
   "source": []
  },
  {
   "cell_type": "code",
   "execution_count": null,
   "id": "98326e6a-d539-4a5a-9680-69652789ac8a",
   "metadata": {},
   "outputs": [],
   "source": []
  },
  {
   "cell_type": "markdown",
   "id": "fcc03c8b-ac95-4fc9-bb54-24b36da27af3",
   "metadata": {},
   "source": [
    "Lists are called *mutable* their values can change after they are defined. Whereas strings are called *immutable* once they are defined they can only take that value unless we completely redefine them. \n",
    "\n",
    "Why would we want behavior like this?  \n",
    "\n",
    "- It is a choice that is made in every programming language. In Python the decision was made that strings would be immutable but lists would be mutable.\n",
    "- Immutability is not really strange - integers, floats, and functions are immutable as well. \n",
    "- Immutability avoids bugs - we do not need to worry that we did something that changed the value of a string.\n",
    "\n",
    "So why would we want mutability?\n",
    "\n",
    "- Lists on the other hand are used to collect data in a program and so we want to be able to adjust the values of individual members.\n",
    "\n",
    "## Methods\n",
    "\n",
    "Once the decision has been made that Strings are (a) only made up of characters and (b) are immutable, the find function makes sense and can be written to work efficiently.\n",
    "\n",
    "Whereas lists are sort of (a) too big and (b) could change after .find() is used and this makes the find method undesirable.\n",
    "\n",
    "We can write our own find function if we need it:"
   ]
  },
  {
   "cell_type": "code",
   "execution_count": null,
   "id": "dec1e0a7-c5d7-4150-81bc-0dc527758655",
   "metadata": {},
   "outputs": [],
   "source": []
  },
  {
   "cell_type": "markdown",
   "id": "2cceaeef-7915-4603-8747-249d1ac03313",
   "metadata": {},
   "source": [
    "## List Methods\n",
    "\n",
    "Because lists are mutable, there are some methods that do some interesting things to them, called *change in place* meaning we can modify the value of a list without doing an assignment:"
   ]
  },
  {
   "cell_type": "code",
   "execution_count": null,
   "id": "eff75230-8fd4-4697-8f1e-17d657230e84",
   "metadata": {},
   "outputs": [],
   "source": [
    "t = ['d', 'f', 'g'] "
   ]
  },
  {
   "cell_type": "code",
   "execution_count": null,
   "id": "3ef98ad4-22ae-4de7-9e83-b16f628a2820",
   "metadata": {},
   "outputs": [],
   "source": [
    "# list out the methods for a list\n",
    "[x for x in dir(t) if '__' not in x]"
   ]
  },
  {
   "cell_type": "markdown",
   "id": "02a405da-bf21-4a27-9f20-f09bbab18c1e",
   "metadata": {},
   "source": [
    "Find what each of these does."
   ]
  },
  {
   "cell_type": "code",
   "execution_count": null,
   "id": "70ea467a-8f2c-41c1-8864-ec216fc9bb56",
   "metadata": {},
   "outputs": [],
   "source": []
  },
  {
   "cell_type": "markdown",
   "id": "607fbba0-1026-490e-8daa-29cf707d5e95",
   "metadata": {},
   "source": [
    "## Objects and Values\n",
    "\n",
    "So now its time to get into some details about what is going on under the hood with Python. Our variables in Python are actually pointers to objects. For example if we do the following:"
   ]
  },
  {
   "cell_type": "code",
   "execution_count": null,
   "id": "f71d1c81-a853-4356-8b98-124da2b5e37b",
   "metadata": {},
   "outputs": [],
   "source": [
    "a = 'dog'"
   ]
  },
  {
   "cell_type": "markdown",
   "id": "4d2ee052-8f92-49b4-89da-3b983f938ca3",
   "metadata": {},
   "source": [
    "*a* is a pointer to the place in the computers memory where the string 'dog' is recorded. Python tries to save memory by reusing a pointer where possible. So for example if we do the following now:"
   ]
  },
  {
   "cell_type": "code",
   "execution_count": null,
   "id": "ae8f9e70-aa84-445d-98d0-700f94cec720",
   "metadata": {},
   "outputs": [],
   "source": [
    "b = 'dog'"
   ]
  },
  {
   "cell_type": "markdown",
   "id": "6013d60f-3ea1-4b67-833b-cac912cb4451",
   "metadata": {},
   "source": [
    "Then a and b are not just equal:"
   ]
  },
  {
   "cell_type": "code",
   "execution_count": null,
   "id": "43ecf935-f3a5-4b77-8831-2bf8535849d5",
   "metadata": {},
   "outputs": [],
   "source": [
    "a==b"
   ]
  },
  {
   "cell_type": "markdown",
   "id": "20f1ddd7-d3cb-4ff3-bf01-cfc7eb800165",
   "metadata": {},
   "source": [
    "They actually point to the same object in the computers memory:"
   ]
  },
  {
   "cell_type": "code",
   "execution_count": null,
   "id": "5752e820-eced-4751-8b9b-13a59c2996e7",
   "metadata": {},
   "outputs": [],
   "source": [
    "a is b"
   ]
  },
  {
   "cell_type": "markdown",
   "id": "ec8d7a89-b4cd-439e-8f18-4d82262535c0",
   "metadata": {},
   "source": [
    "This works for any immutable object. (think strings, integers, floats, functions etc.).\n",
    "\n",
    "However lists are different, because they are mutable.  If two strings are the same, because the string is immutable, it will always be the same. Lists are mutable, and just because two are equal now, Python has no guarantee that we will not do something that changes one of them and not the other."
   ]
  },
  {
   "cell_type": "code",
   "execution_count": null,
   "id": "fd3960e7-ebe6-4aac-acf7-677bb297d4d4",
   "metadata": {},
   "outputs": [],
   "source": [
    "a = [1, 1, 2]\n",
    "b = [1, 1, 2]"
   ]
  },
  {
   "cell_type": "code",
   "execution_count": null,
   "id": "60fef8b3-7eff-4e72-a350-3b3e361f0224",
   "metadata": {},
   "outputs": [],
   "source": [
    "# They are equal\n",
    "a == b"
   ]
  },
  {
   "cell_type": "code",
   "execution_count": null,
   "id": "c6961c56-f10e-4093-bebd-59d9015685ed",
   "metadata": {},
   "outputs": [],
   "source": [
    "# However they do not point ot the same object\n",
    "a is b"
   ]
  },
  {
   "cell_type": "code",
   "execution_count": null,
   "id": "7ef075fc-c1a5-4d78-b0c6-14440c574ba0",
   "metadata": {},
   "outputs": [],
   "source": [
    "# if we change one of them:\n",
    "a[0] = 100\n",
    "a"
   ]
  },
  {
   "cell_type": "code",
   "execution_count": null,
   "id": "5870131f-0fac-420f-a32b-1fd0aecbd9e5",
   "metadata": {},
   "outputs": [],
   "source": [
    "# the other one does not change\n",
    "b"
   ]
  },
  {
   "cell_type": "markdown",
   "id": "fa7eede3-b8ac-4abf-97d4-e43baf074b09",
   "metadata": {},
   "source": [
    "But. There is a problem. If we did the following:"
   ]
  },
  {
   "cell_type": "code",
   "execution_count": null,
   "id": "7dac4d44-f5fa-4d83-8c31-678d2d9f5fed",
   "metadata": {},
   "outputs": [],
   "source": [
    "a = [1, 5, 6]\n",
    "b = a"
   ]
  },
  {
   "cell_type": "markdown",
   "id": "841249e4-60bb-449d-bdce-37b1abb2afab",
   "metadata": {},
   "source": [
    "This is called *aliasing*, b is an *alias* of a.\n",
    "\n",
    "What we have told Python to do is to set the pointer b to match the pointer a. I.e. now they point at the same object:"
   ]
  },
  {
   "cell_type": "code",
   "execution_count": null,
   "id": "34e9ba07-4efb-4f78-a485-65e7228abf1a",
   "metadata": {},
   "outputs": [],
   "source": [
    "a == b, a is b"
   ]
  },
  {
   "cell_type": "markdown",
   "id": "d1438c30-df89-42ca-85c5-99ab489683a3",
   "metadata": {},
   "source": [
    "But this means if we use one of them to change the list, the other one will also now report a change **because** it points to the same object in memory:"
   ]
  },
  {
   "cell_type": "code",
   "execution_count": null,
   "id": "245faa66-5990-4ede-9c28-5b32036a647a",
   "metadata": {},
   "outputs": [],
   "source": [
    "a.extend([20, 25, 30])\n",
    "a"
   ]
  },
  {
   "cell_type": "code",
   "execution_count": null,
   "id": "e9f7283f-57bf-48fd-bc71-a938d53717bb",
   "metadata": {},
   "outputs": [],
   "source": [
    "b"
   ]
  },
  {
   "cell_type": "markdown",
   "id": "23b3f34a-62c7-4f4e-bf69-d70df92df0a2",
   "metadata": {},
   "source": [
    "## Pointers, Objects, and Aliasing:  Why?\n",
    "\n",
    "So why would we care? Well we can use this property as an additional way to return the results of a function.\n",
    "\n",
    "- What we are actually doing when we pass a value to a function is passing a pointer to an object. \n",
    "- If that object is immutable, then nothing special happens. If we reassign the pointer to another object then that is fine.\n",
    "- If that object is mutable, like a list, then we can change the values of the original object.\n",
    "\n",
    "For example:  Write a function that removes any strings from a list."
   ]
  },
  {
   "cell_type": "code",
   "execution_count": null,
   "id": "30f86043-d7a7-48f8-aa6b-256a43f2688a",
   "metadata": {},
   "outputs": [],
   "source": []
  },
  {
   "cell_type": "markdown",
   "id": "48f536d1-0b67-46ce-8094-57da4d8e738c",
   "metadata": {},
   "source": [
    "Note that if you change the previous function so that it reassigns the input string to the output it does not work. You need to be modifying the object pointed to, not the pointer itself."
   ]
  },
  {
   "cell_type": "code",
   "execution_count": null,
   "id": "2c4f97ee-ce67-4f44-b435-67c90dbd7df1",
   "metadata": {},
   "outputs": [],
   "source": []
  },
  {
   "cell_type": "markdown",
   "id": "99e00f8c-2390-4911-8d1c-e858fdaad569",
   "metadata": {},
   "source": [
    "## More Pointers\n",
    "\n",
    "If we build a list by first creating a bunch of variables and then putting those variables into a list. What happens if we change the object one of those points to:"
   ]
  },
  {
   "cell_type": "code",
   "execution_count": null,
   "id": "e0b262b8-6e82-4561-9132-39b9d74913f3",
   "metadata": {},
   "outputs": [],
   "source": [
    "a = 1\n",
    "b = 'dog'\n",
    "c = 1.2\n",
    "x = [a, b, c]\n",
    "x"
   ]
  },
  {
   "cell_type": "code",
   "execution_count": null,
   "id": "d3391bf5-1c96-4692-8a2d-f6385623a882",
   "metadata": {},
   "outputs": [],
   "source": [
    "b = 'good dog'\n",
    "x"
   ]
  },
  {
   "cell_type": "markdown",
   "id": "db757ccd-dce9-4547-a359-68f366cf11bc",
   "metadata": {},
   "source": [
    "On the other hand if the pointer b was to something mutable, and we changed it in place:"
   ]
  },
  {
   "cell_type": "code",
   "execution_count": null,
   "id": "5c0a140a-b69b-4e89-8fc4-5740c7aa384e",
   "metadata": {},
   "outputs": [],
   "source": [
    "b = ['d', 'o', 'g']\n",
    "x = [a, b, c]\n",
    "x"
   ]
  },
  {
   "cell_type": "code",
   "execution_count": null,
   "id": "db7bdfa4-2cb6-4586-9dfe-31e3c0d52eae",
   "metadata": {},
   "outputs": [],
   "source": [
    "for c in 'good'[-1::-1]:\n",
    "    b.insert(0, c)\n",
    "x"
   ]
  },
  {
   "cell_type": "markdown",
   "id": "cb2fc9ca-626d-431a-9f8b-51461def13cf",
   "metadata": {
    "tags": []
   },
   "source": [
    "we see that the value of x is also updated. \n",
    "\n"
   ]
  },
  {
   "cell_type": "code",
   "execution_count": null,
   "id": "73fcea00-0001-4a68-b0b2-bc799d89791f",
   "metadata": {},
   "outputs": [],
   "source": []
  }
 ],
 "metadata": {
  "kernelspec": {
   "display_name": "Python 3 (ipykernel)",
   "language": "python",
   "name": "python3"
  },
  "language_info": {
   "codemirror_mode": {
    "name": "ipython",
    "version": 3
   },
   "file_extension": ".py",
   "mimetype": "text/x-python",
   "name": "python",
   "nbconvert_exporter": "python",
   "pygments_lexer": "ipython3",
   "version": "3.9.7"
  }
 },
 "nbformat": 4,
 "nbformat_minor": 5
}
