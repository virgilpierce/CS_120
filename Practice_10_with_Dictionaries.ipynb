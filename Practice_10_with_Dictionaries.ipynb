{
  "nbformat": 4,
  "nbformat_minor": 0,
  "metadata": {
    "colab": {
      "name": "Practice - 10 - with Dictionaries.ipynb",
      "provenance": [],
      "authorship_tag": "ABX9TyMlUiFpNQ4b6y+jsi0Sg87+",
      "include_colab_link": true
    },
    "kernelspec": {
      "name": "python3",
      "display_name": "Python 3"
    },
    "language_info": {
      "name": "python"
    }
  },
  "cells": [
    {
      "cell_type": "markdown",
      "metadata": {
        "id": "view-in-github",
        "colab_type": "text"
      },
      "source": [
        "<a href=\"https://colab.research.google.com/github/virgilpierce/CS_120/blob/main/Practice_10_with_Dictionaries.ipynb\" target=\"_parent\"><img src=\"https://colab.research.google.com/assets/colab-badge.svg\" alt=\"Open In Colab\"/></a>"
      ]
    },
    {
      "cell_type": "code",
      "execution_count": 2,
      "metadata": {
        "colab": {
          "base_uri": "https://localhost:8080/"
        },
        "id": "KvpjUpvc4aL7",
        "outputId": "ae7b421a-d4c5-4118-930f-c187e7de1425"
      },
      "outputs": [
        {
          "output_type": "execute_result",
          "data": {
            "text/plain": [
              "{1: 'one', 2: 'two', 5: 'five', 20: 'twenty'}"
            ]
          },
          "metadata": {},
          "execution_count": 2
        }
      ],
      "source": [
        "example_dict = { 1:'one', 2:'two', 5:'five', 20:'twenty'}\n",
        "example_dict"
      ]
    },
    {
      "cell_type": "code",
      "source": [
        "example_dict[3]"
      ],
      "metadata": {
        "colab": {
          "base_uri": "https://localhost:8080/",
          "height": 166
        },
        "id": "Z2h8v-VR6UZH",
        "outputId": "f4bfea7e-34f9-4355-a3bc-d80e9c2e89cf"
      },
      "execution_count": 4,
      "outputs": [
        {
          "output_type": "error",
          "ename": "KeyError",
          "evalue": "ignored",
          "traceback": [
            "\u001b[0;31m---------------------------------------------------------------------------\u001b[0m",
            "\u001b[0;31mKeyError\u001b[0m                                  Traceback (most recent call last)",
            "\u001b[0;32m<ipython-input-4-b3f188545359>\u001b[0m in \u001b[0;36m<module>\u001b[0;34m()\u001b[0m\n\u001b[0;32m----> 1\u001b[0;31m \u001b[0mexample_dict\u001b[0m\u001b[0;34m[\u001b[0m\u001b[0;36m3\u001b[0m\u001b[0;34m]\u001b[0m\u001b[0;34m\u001b[0m\u001b[0;34m\u001b[0m\u001b[0m\n\u001b[0m",
            "\u001b[0;31mKeyError\u001b[0m: 3"
          ]
        }
      ]
    },
    {
      "cell_type": "code",
      "source": [
        "counts = dict() # Start with an empty dictionary\n",
        "\n",
        "def count_letters(s, counts):\n",
        "    s = s.lower()\n",
        "    \n",
        "    for c in s:\n",
        "        \n",
        "        if c in counts:\n",
        "            # If c is already a key incremement its counter\n",
        "            counts[c] += 1\n",
        "        else:\n",
        "            # If c is not already a key, initialize it with count 1\n",
        "            counts[c] = 1"
      ],
      "metadata": {
        "id": "_1DAA4m-60vO"
      },
      "execution_count": 5,
      "outputs": []
    },
    {
      "cell_type": "code",
      "source": [
        "counts = dict()\n",
        "count_letters('It is a good thing it is Friday!!', counts)"
      ],
      "metadata": {
        "id": "GeCfqSKX7wIJ"
      },
      "execution_count": 6,
      "outputs": []
    },
    {
      "cell_type": "code",
      "source": [
        "counts"
      ],
      "metadata": {
        "colab": {
          "base_uri": "https://localhost:8080/"
        },
        "id": "rPbzScZi8AY2",
        "outputId": "327683e3-5e21-4637-abc1-3bf7958651eb"
      },
      "execution_count": 7,
      "outputs": [
        {
          "output_type": "execute_result",
          "data": {
            "text/plain": [
              "{' ': 7,\n",
              " '!': 2,\n",
              " 'a': 2,\n",
              " 'd': 2,\n",
              " 'f': 1,\n",
              " 'g': 2,\n",
              " 'h': 1,\n",
              " 'i': 6,\n",
              " 'n': 1,\n",
              " 'o': 2,\n",
              " 'r': 1,\n",
              " 's': 2,\n",
              " 't': 3,\n",
              " 'y': 1}"
            ]
          },
          "metadata": {},
          "execution_count": 7
        }
      ]
    },
    {
      "cell_type": "code",
      "source": [
        "counts['z']"
      ],
      "metadata": {
        "colab": {
          "base_uri": "https://localhost:8080/",
          "height": 166
        },
        "id": "DKO0T53x8Boe",
        "outputId": "e853904a-36c1-49ff-c9ca-213b20738429"
      },
      "execution_count": 12,
      "outputs": [
        {
          "output_type": "error",
          "ename": "KeyError",
          "evalue": "ignored",
          "traceback": [
            "\u001b[0;31m---------------------------------------------------------------------------\u001b[0m",
            "\u001b[0;31mKeyError\u001b[0m                                  Traceback (most recent call last)",
            "\u001b[0;32m<ipython-input-12-e6e2c2095b86>\u001b[0m in \u001b[0;36m<module>\u001b[0;34m()\u001b[0m\n\u001b[0;32m----> 1\u001b[0;31m \u001b[0mcounts\u001b[0m\u001b[0;34m[\u001b[0m\u001b[0;34m'z'\u001b[0m\u001b[0;34m]\u001b[0m\u001b[0;34m\u001b[0m\u001b[0;34m\u001b[0m\u001b[0m\n\u001b[0m",
            "\u001b[0;31mKeyError\u001b[0m: 'z'"
          ]
        }
      ]
    },
    {
      "cell_type": "code",
      "source": [
        "def invert_dict(input_dict):\n",
        "  out = dict()\n",
        "  for x in input_dict:\n",
        "    value = input_dict[x]\n",
        "    if value in out:\n",
        "      out[value] += [x]  # If value is already a *key of out* increment the result\n",
        "    else:\n",
        "      out[value] = [x]\n",
        "\n",
        "  return out"
      ],
      "metadata": {
        "id": "NJVV1uFe8KpB"
      },
      "execution_count": 13,
      "outputs": []
    },
    {
      "cell_type": "code",
      "source": [
        "invert_counts = invert_dict(counts)"
      ],
      "metadata": {
        "id": "alfzeOy7-aNF"
      },
      "execution_count": 15,
      "outputs": []
    },
    {
      "cell_type": "code",
      "source": [
        "invert_counts[1]"
      ],
      "metadata": {
        "colab": {
          "base_uri": "https://localhost:8080/"
        },
        "id": "kQQpn__5_nU_",
        "outputId": "f0f89956-191e-406e-ab1f-203075a5403b"
      },
      "execution_count": 17,
      "outputs": [
        {
          "output_type": "execute_result",
          "data": {
            "text/plain": [
              "['h', 'n', 'f', 'r', 'y']"
            ]
          },
          "metadata": {},
          "execution_count": 17
        }
      ]
    },
    {
      "cell_type": "code",
      "source": [
        ""
      ],
      "metadata": {
        "id": "H59d3fWZ_zPP"
      },
      "execution_count": null,
      "outputs": []
    }
  ]
}