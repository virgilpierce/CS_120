{
 "cells": [
  {
   "cell_type": "markdown",
   "id": "f1e3ab7d-e345-4b92-8264-95b3533d6211",
   "metadata": {},
   "source": [
    "# Final Project\n",
    "\n",
    "The final project should be a programming exercise that:\n",
    "\n",
    "- demonstrates the knowledge you have gained with Python and programming;\n",
    "- uses loops, conditions, and functions;\n",
    "- uses text file input/output;\n",
    "- uses lists, tuples, or dictionaries; and\n",
    "- uses a library or module as part of the problem (either one you have written as a py file or one written by a project like scipy).\n",
    "\n",
    "You can choose anything you like provided that it demonstrates your knowledge of Python. If it is built around one of the activities, homeworks, or other projects you should be sure to extend the idea further than we took it.\n",
    "\n",
    "Some ideas (just riffing you can choose anything that will satisfy the requirements above):\n",
    "\n",
    "- Quaternion Numbers are a generalization of Complex Numbers. Write a package for doing arithemetic with them or taking square roots of them.\n",
    "- Sudoku: write a package for reading and writing sudoku puzzles from a text file and solving them.\n",
    "- Grade Book: write a package for reading and writing, and entering students grades for class assignments.\n",
    "- Simulate a group of ducks with a marker gene through a number of generation to track where the marker gene appears.\n",
    "- Polynomial Arithmetic and Calculus: write a package for doing arithemetic and calculus with polynomial functions.\n",
    "- Wordle:  Write a program that assists with solving wordle.\n",
    "\n",
    "Other past project ideas that used modules:\n",
    "- Python can scrape information from websites using Selenium.\n",
    "- Python can play sounds on your computer using a number of modules.\n",
    "- Image Manipulation Python can manipulate image files.\n",
    "\n",
    "It is especially interesting to choose a project related to your major. I.e. if you are a Biology major a project involving simmulating the progress of a marker gene through a population would be particularly interesting.\n",
    "\n",
    "## Submission\n",
    "\n",
    "1. You will submit the .py, .ipynb, and any .txt files that are part of running your project and demonstrating what it does.\n",
    "\n",
    "2. The final exam will be:  With Google Colab or Jupyter and the files from your project you will answer some questions explaining your project, the design decisions you made, and how and why it works. In particular, be ready to discuss why you used the variable types you choose, and what the functions you use do.  You also should be able to discuss what additions or extensions might be next for your project.\n",
    "\n",
    "3. You will also make a short video explaining what your program does to the rest of the class."
   ]
  },
  {
   "cell_type": "code",
   "execution_count": null,
   "id": "d56dd942-07f4-4697-a007-b6d8cee8169f",
   "metadata": {},
   "outputs": [],
   "source": []
  }
 ],
 "metadata": {
  "kernelspec": {
   "display_name": "Python 3 (ipykernel)",
   "language": "python",
   "name": "python3"
  },
  "language_info": {
   "codemirror_mode": {
    "name": "ipython",
    "version": 3
   },
   "file_extension": ".py",
   "mimetype": "text/x-python",
   "name": "python",
   "nbconvert_exporter": "python",
   "pygments_lexer": "ipython3",
   "version": "3.9.7"
  }
 },
 "nbformat": 4,
 "nbformat_minor": 5
}
