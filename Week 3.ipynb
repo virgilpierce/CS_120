{
 "cells": [
  {
   "cell_type": "markdown",
   "id": "7d356b11-56f2-4b4f-a43e-6501c725f85a",
   "metadata": {},
   "source": [
    "# Conditionals and Recursion\n",
    "\n",
    "Consider our motivating activity for this week:  Acitivity 3.\n",
    "\n",
    "We want to write a function that computes $N!$ for some positive integer N.  The factorial is defined to be:\n",
    "\n",
    "$$ 1! = 1 $$ \n",
    "$$ 2! = 2 \\cdot 1 $$\n",
    "$$ 3! = 3 \\cdot 2 \\cdot 1 $$\n",
    "\n",
    "etc. \n",
    "\n",
    "Before we get into it, this function is already written in the numpy:"
   ]
  },
  {
   "cell_type": "code",
   "execution_count": 4,
   "id": "3597426f-3196-4404-bc70-08fc48f9b9ba",
   "metadata": {},
   "outputs": [],
   "source": [
    "from numpy import math"
   ]
  },
  {
   "cell_type": "code",
   "execution_count": 5,
   "id": "4a2429c0-c1ba-437d-9bef-23362f8d34a7",
   "metadata": {},
   "outputs": [
    {
     "data": {
      "text/plain": [
       "6"
      ]
     },
     "execution_count": 5,
     "metadata": {},
     "output_type": "execute_result"
    }
   ],
   "source": [
    "math.factorial(3)"
   ]
  },
  {
   "cell_type": "markdown",
   "id": "986c66c8-411b-4d03-af24-cc7eef68e98f",
   "metadata": {},
   "source": [
    "Which is going to work better than the one we will write, but the next function we want is not already written in numpy and it builds on the idea in factorial, so starting with factorial is a good exercise.\n",
    "\n",
    "## What do we need to do to compute Factorial?\n",
    "\n",
    "With the people near you, work out what the procedure is, in pseudo code and then let's see what we need.  \n",
    "\n",
    "Note if there is a decision you need the computer to make, just say that and then we will see if there is a way to do that."
   ]
  },
  {
   "cell_type": "code",
   "execution_count": null,
   "id": "7b5b0deb-2809-4a4d-afe9-d1ec7798f8ca",
   "metadata": {},
   "outputs": [],
   "source": []
  }
 ],
 "metadata": {
  "kernelspec": {
   "display_name": "Python 3 (ipykernel)",
   "language": "python",
   "name": "python3"
  },
  "language_info": {
   "codemirror_mode": {
    "name": "ipython",
    "version": 3
   },
   "file_extension": ".py",
   "mimetype": "text/x-python",
   "name": "python",
   "nbconvert_exporter": "python",
   "pygments_lexer": "ipython3",
   "version": "3.9.7"
  }
 },
 "nbformat": 4,
 "nbformat_minor": 5
}
