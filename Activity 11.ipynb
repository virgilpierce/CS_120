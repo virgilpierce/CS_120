{
 "cells": [
  {
   "cell_type": "markdown",
   "id": "65dfe274-9732-49ad-a1e3-92bfb35c0907",
   "metadata": {},
   "source": [
    "# Activity 11 and 12 - Complex and Quaternionic Numbers\n",
    "\n",
    "Let's review where we are at this point in the class:  \n",
    "\n",
    "- We have learned about the fundamental types that Python has built-in for doing computations - integers and floats.\n",
    "- We have learned how to write our own functions to break our code up into manageable and repeatable pieces; and to have those functions return values, do tasks like print, and to use mutable variables to change values.\n",
    "- We have learned how to use the control structures:  if, elif, and else.\n",
    "- We have learned how to write loops using:  recursion, for, and while.\n",
    "- We have learned about the data structure types that are built-in:  lists, strings, sets, dictionaries, and tuples.\n",
    "\n",
    "These are the basic building blocks of a programming language, and nearly every programming language has some version of each of these things (dictionaries and sets are a bit special).\n",
    "\n",
    "So now the rest of this course is learning how to put these things together to solve some problems. Our textbook focuses on doing more work with the analysis of texts - and this is interesting, but I want to have us also see how these tools can answer some mathematics questions. \n",
    "\n",
    "The process is going to be similar to what we have already seen, except one of our first questions we will need to ask for these problems is:  Which of our data structures is the one we should use?\n",
    "\n",
    "- **Lists**  data is sequenential. Either adding to it each time or knowing ahead how much we need.\n",
    "- **Strings** data is a character or list of characters\n",
    "- **Sets** data is not sequential and duplicates are not wanted.\n",
    "- **Dictionaries** data is non-sequential and keyed; or speed is a primary consideration.\n",
    "- **Tuples** data is sequential and immutability is prefered; or we are returning multiple values with a function; or we need to utlize the gather or scatter features.\n",
    "\n",
    "Note that these are just the basic data structures. There are many more and you can also make your own. Also functions can be thought of as being data structures as well.\n",
    "\n",
    "\n"
   ]
  },
  {
   "cell_type": "markdown",
   "id": "4cea3c3c-86b1-4497-bc99-144810e85e48",
   "metadata": {},
   "source": [
    "## Complex Numbers\n",
    "\n",
    "So you have probably heard before that we cannot take the $\\sqrt{-1}$.  \n",
    "\n",
    "Well the truth is that we can't because we don't have a name for such a thing, but if we give it a name:  say $i$, then we can proceed to talk about it as if it is a number. It's not a real number, and so we call it an *imaginary* number. \n",
    "\n",
    "It is by definition one of the two numbers that satisfies:  $$i^2 = -1 $$\n",
    "\n",
    "--\n",
    "\n",
    "### Q1. Basic Structure\n",
    "\n",
    "Complex numbers are then made by taking pairs of real and imaginary numbers and adding them together:  $$ z = a + b i $$ \n",
    "\n",
    "\n",
    "We say that a is the real part of z, and that b is the imaginary part. \n",
    "\n",
    "0. You will need to make a decision about what data structure you will use to record the data in a complex number.\n",
    "\n",
    "Here are some other properties of complex numbers - write functions that compute each of these:\n",
    "\n",
    "1. We **add** two complex numbers by adding their real and imaginary parts:\n",
    "\n",
    "$$ (a_1 + b_1 i) + (a_2 + b_2 i) = (a_1 + a_2) + (b_1 + b_2) i $$\n",
    "\n",
    "2. We **product** two complex numbers by using distribution (FOIL):\n",
    "\n",
    "$$ (a_1 + b_1 i) (a_2 + b_2 i) = a_1 a_2 + b_1 b_2 i^2 + (a_1 b_2 + a_2 b_1) i = (a_1 a_2 - b_1 b_2) + (a_1 b_2 + a_2 b_1 ) i $$\n",
    "\n",
    "where the last equality is true because $i^2 = -1$\n",
    "\n",
    "3. You will need a function that takes the **negative** of a complex number:\n",
    "\n",
    "$$ - (a + b i) = (-a) + (-b) i $$\n",
    "\n",
    "4. You might want a function that takes the **power** of a complex number:  $(a+bi)^n$ using your product.\n",
    "\n",
    "5. The **magnitude** of a complex number is found by taking:  $|a + b i| = \\sqrt{ a^2 + b^2 } $\n",
    "\n"
   ]
  },
  {
   "cell_type": "code",
   "execution_count": null,
   "id": "49084604-8725-4772-b345-a410e24c329e",
   "metadata": {},
   "outputs": [],
   "source": []
  },
  {
   "cell_type": "markdown",
   "id": "dcd0d2c1-0b1d-457a-8c81-97986318b518",
   "metadata": {},
   "source": [
    "## Q2 - Division\n",
    "\n",
    "A formula for division can be derived. Write a function that finds the complex number that results from dividing two complex numbers (provided that the denominator is not $0 + 0 i$).\n",
    "\n",
    "$$ \\frac{a_1 + b_1 i}{ a_2 + b_2 i} = (a_1 a_2 + b_1 b_2)/r^2 + (a_2 b_1 - a_1 b_2 )/r^2 i $$\n",
    "\n",
    "where $$r^2 = a_2^2 + b_2^2$$\n",
    "\n",
    "Verify using your product function that your division function is working correctly."
   ]
  },
  {
   "cell_type": "code",
   "execution_count": null,
   "id": "e2ec742c-ed49-4f0f-9b30-5ef639c6e0ea",
   "metadata": {},
   "outputs": [],
   "source": []
  },
  {
   "cell_type": "markdown",
   "id": "c09b2a84-9526-40c7-b963-2906cb6ec29f",
   "metadata": {},
   "source": [
    "### Q3 - Square Root\n",
    "\n",
    "We can update our square root computation from earlier to take the square root of a complex number. Do that. This will require your product, negation, addition, and division functions.\n",
    "\n",
    "Note that it will find one of the square roots (there are two) for the number, but it is difficult to control which one it finds. \n",
    "\n",
    "1. Show that your function can find $\\sqrt{-1}$ and returns either $i$ or $-i$.\n",
    "\n",
    "2. Find the $\\sqrt{i}$.  What do you notice about the result?"
   ]
  },
  {
   "cell_type": "code",
   "execution_count": null,
   "id": "c2eca0f6-f1ab-4f1d-bb73-f03406e0d261",
   "metadata": {},
   "outputs": [],
   "source": []
  }
 ],
 "metadata": {
  "kernelspec": {
   "display_name": "Python 3 (ipykernel)",
   "language": "python",
   "name": "python3"
  },
  "language_info": {
   "codemirror_mode": {
    "name": "ipython",
    "version": 3
   },
   "file_extension": ".py",
   "mimetype": "text/x-python",
   "name": "python",
   "nbconvert_exporter": "python",
   "pygments_lexer": "ipython3",
   "version": "3.9.7"
  }
 },
 "nbformat": 4,
 "nbformat_minor": 5
}
