{
 "cells": [
  {
   "cell_type": "markdown",
   "id": "0e889f08-bf9a-42a7-a006-943b95c3eb7f",
   "metadata": {},
   "source": [
    "# Activity 5: Using Numpy and Sympy\n"
   ]
  },
  {
   "cell_type": "markdown",
   "id": "283a7e3c-f70f-46d1-81a8-3281a6c5fdcb",
   "metadata": {},
   "source": [
    "To explore this package more, lets work on a disease model example.\n",
    "\n",
    "The SIR model is a classic model for how an infectious disease moves through a population. It is particularly good at short term modeling of non-deadly diseases that are transmitted through person-to-person contact like Gonorhea or Common Colds. It does not capture seasonal patterns, and it needs to be modified before it can inform diseases that are more likely to have deadly outcomes.\n",
    "\n",
    "The idea is to model the population of $S(t)$ people sucsetible to infection, $I(t)$ infected, and $R(t)$ recovered from infection by tracking the rate at which these populations change in a small amount of time.\n",
    "\n",
    "- Susceptible people could become infected if they encounter an infected person.\n",
    "- Infected people recover from the infection at a given rate.\n",
    "- Recovered people are immune from reinfection.\n",
    "\n",
    "The only trick we need is to note that the likliehod that susceptible people meet infected people is proportional to the product of the size of the two populations. I.e. the more of either group there are, the more likely a new infection is.\n",
    "\n",
    "This gives us the system of differential equations:\n",
    "\n",
    "$$ \\frac{dS}{dt} = - r S I $$\n",
    "$$ \\frac{dI}{dt} = r SI - a I $$\n",
    "$$ \\frac{dR}{dt} = a I $$\n",
    "\n",
    "and r is the rate of infection; and a is the rate of recovery. \n",
    "\n",
    "## STEP 1: \n",
    "\n",
    "Let's explore this using Numpy. Firstly we need to write a function that f(t, y) that takes t and a numpy array y giving the S, I, and R values and which returns the three values for the derivatives of those variables above.\n",
    "\n",
    "One annoying thing is that in order for this to work you have to set the values of r and a ahead of time they can't be parameters in the function def. So do that as well. I've started the cell but you will need to finish it."
   ]
  },
  {
   "cell_type": "code",
   "execution_count": 17,
   "id": "driving-progressive",
   "metadata": {},
   "outputs": [],
   "source": [
    "def f(t, y, r, a):\n",
    "    # y[0] is S\n",
    "    # y[1] is I\n",
    "    # y[2] is R\n",
    "    \n",
    "    dy = [0, 0, 0]\n",
    "    # dy[0] is dS/dt; dy[1] is dI/dt; and dy[2] is dR/dt.\n",
    "    \n",
    "    dy[0] = - r * y[0] * y[1]\n",
    "    dy[1] = r * y[0] * y[1] - a * y[1]\n",
    "    dy[2] = a * y[1]\n",
    "    \n",
    "    return dy"
   ]
  },
  {
   "cell_type": "markdown",
   "id": "80062116-4ffc-4041-a1b8-d64689681e86",
   "metadata": {},
   "source": [
    "## Step 2:\n",
    "\n",
    "Now let's use scipy.integrate.odeint to take an initial value for the S, I, and R populations and see where it ends up after t units of time.\n",
    "\n",
    "Note that the t value you pass odeint must be a list with the first element 0.0 (our starting t) and then our final t.\n",
    "\n",
    "Note we need tfirst = True set; and then we can use args = (2, 0.1) to pass values for r and a.\n",
    "\n",
    "\n",
    "Try different values for the starting point, r and a and see what changes. Note it is helpful to keep the intitial values so that the sum of them is 1."
   ]
  },
  {
   "cell_type": "code",
   "execution_count": 20,
   "id": "4048ff69-6f94-4b6b-a04a-b1ed20d90833",
   "metadata": {},
   "outputs": [
    {
     "data": {
      "text/plain": [
       "array([[9.00000000e-01, 1.00000000e-01, 0.00000000e+00],\n",
       "       [3.99489526e-08, 1.53416211e-01, 8.46583749e-01]])"
      ]
     },
     "execution_count": 20,
     "metadata": {},
     "output_type": "execute_result"
    }
   ],
   "source": [
    "from scipy.integrate import odeint\n",
    "\n",
    "# set out initial condition\n",
    "y0 = [0.9, 0.1, 0.0]\n",
    "r = 2\n",
    "a = 0.1\n",
    "\n",
    "odeint(f, y0, [0.0, 20.0], tfirst = True, args = (r, a) )"
   ]
  },
  {
   "cell_type": "markdown",
   "id": "f4ea35b2-a38c-4275-8035-dccb1a9a7073",
   "metadata": {},
   "source": [
    "## Step 3:\n",
    "\n",
    "So the real way odeint works is that we pass a whole list of numbers of t (using numpy.arange) and then we get back a list of numbers for the y values, which we can then use in making plots."
   ]
  },
  {
   "cell_type": "code",
   "execution_count": 25,
   "id": "9b33a96b-9274-49ab-83a1-e8e8b42b7c04",
   "metadata": {},
   "outputs": [
    {
     "data": {
      "text/plain": [
       "[<matplotlib.lines.Line2D at 0x7f6be3261310>,\n",
       " <matplotlib.lines.Line2D at 0x7f6be3261370>,\n",
       " <matplotlib.lines.Line2D at 0x7f6be3261490>]"
      ]
     },
     "execution_count": 25,
     "metadata": {},
     "output_type": "execute_result"
    },
    {
     "data": {
      "image/png": "[encoded data removed]",
      "text/plain": [
       "<Figure size 432x288 with 1 Axes>"
      ]
     },
     "metadata": {
      "needs_background": "light"
     },
     "output_type": "display_data"
    }
   ],
   "source": [
    "import numpy as np\n",
    "import matplotlib.pyplot as plt\n",
    "\n",
    "t = np.arange(0, 100, 1)\n",
    "y0 = [0.9, 0.1, 0.0]\n",
    "r = 0.2\n",
    "a = 0.1\n",
    "\n",
    "y = odeint(f, y0, t, tfirst = True, args = (r, a) )\n",
    "\n",
    "plt.plot(t, y)"
   ]
  },
  {
   "cell_type": "markdown",
   "id": "3763cf75-6907-4d56-a90e-535c86f50e1a",
   "metadata": {},
   "source": [
    "Again try some different values for the initial values, the r, the a, and also the bounds on t and see what you can learn.\n",
    "\n"
   ]
  },
  {
   "cell_type": "code",
   "execution_count": null,
   "id": "de67de69-8491-47b4-9b1b-eb09e7b4f2d9",
   "metadata": {},
   "outputs": [],
   "source": []
  }
 ],
 "metadata": {
  "kernelspec": {
   "display_name": "Python 3 (ipykernel)",
   "language": "python",
   "name": "python3"
  },
  "language_info": {
   "codemirror_mode": {
    "name": "ipython",
    "version": 3
   },
   "file_extension": ".py",
   "mimetype": "text/x-python",
   "name": "python",
   "nbconvert_exporter": "python",
   "pygments_lexer": "ipython3",
   "version": "3.9.7"
  }
 },
 "nbformat": 4,
 "nbformat_minor": 5
}
