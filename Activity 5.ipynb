{
 "cells": [
  {
   "cell_type": "markdown",
   "id": "0e889f08-bf9a-42a7-a006-943b95c3eb7f",
   "metadata": {},
   "source": [
    "# Activity 5: Using Numpy and Sympy\n"
   ]
  },
  {
   "cell_type": "markdown",
   "id": "137f4adf-df9b-4fae-b4cf-624748d53760",
   "metadata": {
    "tags": []
   },
   "source": [
    "\n",
    "\n",
    "To explore this package more. Here is an activity for us:\n",
    "\n",
    "Some laws for electrical circuits:\n",
    "\n",
    "- (Kirkhoff's Current Law) The sum of the currents into a junction point is zero.\n",
    "- (Kirkhoff's Voltage Law) The sum of the voltages of a circuit is equal to zero.\n",
    "- (Ohm's Law) The voltage on a resistor is proportional to the current:  $ E_R = R I$\n",
    "- The voltage drop across a capacitor is proportional to the electrical charge q of the capacitor: $ E_C = \\frac{1}{C} q $\n",
    "\n",
    "- Considering the charge q of a capacitor, the rate at which the charge changes is the current throught the capacitor (capacitors store or release current as charge $q$):  $$ I = \\frac{dq}{dt} $$\n",
    "\n",
    "###  An RC Circuit\n",
    "\n",
    "So if we have an RC circuit - a resisitor, a capacitor, and a voltage source in series, we can add up the voltages we get and we find:\n",
    "\n",
    "$$ V_R + V_C = E = \\mbox{the source voltage} $$\n",
    "\n",
    "and the current of the whole circuit is $I(t)$.\n",
    "\n",
    "Writing this sum out in terms of the above laws we get:  \n",
    "\n",
    "$$ R I + \\frac{1}{C} q = E $$ \n",
    "\n",
    "and then everything on the LHS can be written in terms of $q$ and its rate of change:\n",
    "\n",
    "$$ R \\frac{dq}{dt} + \\frac{1}{C} q = E $$\n",
    "\n",
    "Suppose our resisitor is $R = 1 \\mbox{Ohms}$ and the capacitor is $10^{-2} \\mbox{Faradays}$, if the applied voltage is a constant $V$ volts, what happens to the circuit for different values of $V$?\n",
    "\n",
    "#### Step One\n",
    "\n",
    "Fix a value for $E = V$ and write a function that takes a value for charge $q$ and a time $t$, and returns the value of $\\frac{dq}{dt}$. Note that $t$ is not actually used in computing the return value, but it needs to be there for the *odeint* command to work correctly."
   ]
  },
  {
   "cell_type": "code",
   "execution_count": null,
   "id": "beginning-thursday",
   "metadata": {},
   "outputs": [],
   "source": []
  },
  {
   "cell_type": "markdown",
   "id": "259f647c-33d6-47bb-99a6-fe6310d29d72",
   "metadata": {},
   "source": [
    "#### Step Two\n",
    "\n",
    "Use the odeint function we introduced above, and the matplotlib.pyplot to graph the value of the charge $q$, with an initial value of $q = 2$. "
   ]
  },
  {
   "cell_type": "code",
   "execution_count": null,
   "id": "atlantic-projector",
   "metadata": {},
   "outputs": [],
   "source": []
  },
  {
   "cell_type": "markdown",
   "id": "f4ea0587-6796-45c1-8019-de9936a4f708",
   "metadata": {},
   "source": [
    "#### Step Three\n",
    "\n",
    "An annoying thing in how this works is that our function we pass to odeint needs to take just the $t$ and $q$ variables, and nothing else. We would rather be able to change $V$ and produce a new graph so that we could easily move the value of $V$ around. \n",
    "\n",
    "Write a function that takes a value for V as an input and produces a graph of the charge $q$ as a function of time.\n",
    "\n",
    "HINT:  We can define functions inside of our functions!!"
   ]
  },
  {
   "cell_type": "code",
   "execution_count": null,
   "id": "driving-progressive",
   "metadata": {},
   "outputs": [],
   "source": []
  }
 ],
 "metadata": {
  "kernelspec": {
   "display_name": "Python 3 (ipykernel)",
   "language": "python",
   "name": "python3"
  },
  "language_info": {
   "codemirror_mode": {
    "name": "ipython",
    "version": 3
   },
   "file_extension": ".py",
   "mimetype": "text/x-python",
   "name": "python",
   "nbconvert_exporter": "python",
   "pygments_lexer": "ipython3",
   "version": "3.9.5"
  }
 },
 "nbformat": 4,
 "nbformat_minor": 5
}
