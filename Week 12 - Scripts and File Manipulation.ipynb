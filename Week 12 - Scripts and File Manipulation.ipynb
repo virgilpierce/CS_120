{
 "cells": [
  {
   "cell_type": "markdown",
   "id": "787bbf31-774c-4954-9313-bf753039dfe4",
   "metadata": {},
   "source": [
    "# Python Interacting with the rest of your computer\n",
    "\n",
    "Python is capable of interacting with the rest of your computer.\n",
    "\n",
    "**Warning** with the right modules, Python can issue system commands on your computer, and can on a PC cause some damage or compromise the security of your machine. Do not run Python code you have received from someone you do not trust without first inspecting it and understanding what it does. \n",
    "\n",
    "For today's lesson we first learn about scripts and modules, and then we will revisit file input and output:\n",
    "\n",
    "Take the functions you wrote for Activity 9 last week and open them in Jupyter or Google Colab. Change the name of the file to something that would be a valid variable name (i.e. no spaces!)\n",
    "\n",
    "I have mine in a file called *complex.ipynb* - note for what we are doing I like using lowercase only. \n",
    "\n",
    "Before we proceed add an empty cell at the top and put a doc string in it:\n",
    "\n",
    "\n"
   ]
  },
  {
   "cell_type": "code",
   "execution_count": 1,
   "id": "b411c7eb-92b4-45f7-bbcc-a35375f1b243",
   "metadata": {},
   "outputs": [
    {
     "data": {
      "text/plain": [
       "'\\nFunctions for complex arithemetic\\n'"
      ]
     },
     "execution_count": 1,
     "metadata": {},
     "output_type": "execute_result"
    }
   ],
   "source": [
    "'''\n",
    "Functions for complex arithemetic\n",
    "'''"
   ]
  },
  {
   "cell_type": "markdown",
   "id": "4dcf05df-bc53-4be0-9e27-89ba3d5278c7",
   "metadata": {},
   "source": [
    "Be sure each of your functions also has a doc string attached describing what it does.\n",
    "\n",
    "#### Jupyter\n",
    "In Jupyter now, choose *File > Export As > Executable Script* save the resulting .py file in your working directory for Jupyter. Or after you have saved it, move it to that working directory using File Explorer.\n",
    "\n",
    "#### Google Colab\n",
    "In Google Colab now, choose *File > Download > As .py* and save the resulting .py file on your local computer. You will then need to open Google Drive and upload this file to the *Colab Notebooks* folder.\n",
    "\n",
    "Open up this .py file by either double clicking on it from Jupyter's file list; or double clicking on it in Google Drive and you will see that it is a text file with your code.\n",
    "\n",
    "## In Jupyter\n",
    "\n",
    "You can now import this .py file similar to how we have imported modules like numpy."
   ]
  },
  {
   "cell_type": "code",
   "execution_count": 2,
   "id": "4e7fdd27-53be-43fe-af73-50505ccccb2d",
   "metadata": {},
   "outputs": [],
   "source": [
    "import complex"
   ]
  },
  {
   "cell_type": "code",
   "execution_count": 3,
   "id": "5d96fdf6-52de-4d2b-a229-4079ff686473",
   "metadata": {},
   "outputs": [
    {
     "name": "stdout",
     "output_type": "stream",
     "text": [
      "Help on module complex:\n",
      "\n",
      "NAME\n",
      "    complex - Functions for dealing with Complex Numbers as tuples\n",
      "\n",
      "FUNCTIONS\n",
      "    add(z1, z2)\n",
      "        Add two complex numbers\n",
      "    \n",
      "    conj(z)\n",
      "        Give the complex conjugate of a complex number\n",
      "    \n",
      "    div(z1, z2)\n",
      "        Take the ratio of two complex numbers\n",
      "    \n",
      "    e(S, x)\n",
      "    \n",
      "    mag(z)\n",
      "        Find the magnitude of a complex number\n",
      "    \n",
      "    neg(z)\n",
      "        Take the negative of a complex number\n",
      "    \n",
      "    power(z, n)\n",
      "    \n",
      "    prod(z1, z2)\n",
      "        Take the product of two complex numbers\n",
      "    \n",
      "    sqrt(S, x)\n",
      "\n",
      "DATA\n",
      "    pi = 3.14\n",
      "\n",
      "FILE\n",
      "    /home/virgilpierce/Documents/GitHub/CS_120/complex.py\n",
      "\n",
      "\n"
     ]
    }
   ],
   "source": [
    "# Notice that the help function does two things -- it pulls the doc string at the top of the \n",
    "# .py file; and it also prints each of the functions defined with their doc strings.\n",
    "\n",
    "# We notice a couple of mine need doc strings added to be complete. Particularly for \n",
    "# e(S, x) as the name of the function gives us no idea what it does.\n",
    "\n",
    "# However it is possible that I don't want e(S, x) to appear in this list - we can fix that.\n",
    "\n",
    "help(complex)"
   ]
  },
  {
   "cell_type": "markdown",
   "id": "a0e448fe-89ea-4115-ba12-e9cebfb8dac9",
   "metadata": {},
   "source": [
    "### In Google Colabs\n",
    "\n",
    "In Google Colabs we first have to mount the drive. When you run this it will prompt you to open a website, authorize your google account to log in, and then give you a code to copy and paste into the input field.\n",
    "\n",
    "After you have done that it should eventually return \"Mounted at /content/drive\"\n",
    "\n",
    "(Note that on my Jupyter it does not work because I do not have the google.colab package installed."
   ]
  },
  {
   "cell_type": "code",
   "execution_count": 6,
   "id": "90951bc7-90b2-4815-b25b-4b180dee3aa7",
   "metadata": {},
   "outputs": [
    {
     "ename": "ModuleNotFoundError",
     "evalue": "No module named 'google.colab'",
     "output_type": "error",
     "traceback": [
      "\u001b[0;31m---------------------------------------------------------------------------\u001b[0m",
      "\u001b[0;31mModuleNotFoundError\u001b[0m                       Traceback (most recent call last)",
      "\u001b[0;32m<ipython-input-6-8e29cc1821a0>\u001b[0m in \u001b[0;36m<module>\u001b[0;34m\u001b[0m\n\u001b[0;32m----> 1\u001b[0;31m \u001b[0;32mfrom\u001b[0m \u001b[0mgoogle\u001b[0m\u001b[0;34m.\u001b[0m\u001b[0mcolab\u001b[0m \u001b[0;32mimport\u001b[0m \u001b[0mdrive\u001b[0m\u001b[0;34m\u001b[0m\u001b[0;34m\u001b[0m\u001b[0m\n\u001b[0m\u001b[1;32m      2\u001b[0m \u001b[0mdrive\u001b[0m\u001b[0;34m.\u001b[0m\u001b[0mmount\u001b[0m\u001b[0;34m(\u001b[0m\u001b[0;34m'content/drive'\u001b[0m\u001b[0;34m)\u001b[0m\u001b[0;34m\u001b[0m\u001b[0;34m\u001b[0m\u001b[0m\n",
      "\u001b[0;31mModuleNotFoundError\u001b[0m: No module named 'google.colab'"
     ]
    }
   ],
   "source": [
    "from google.colab import drive\n",
    "drive.mount('/content/drive')"
   ]
  },
  {
   "cell_type": "code",
   "execution_count": 7,
   "id": "4100f2db-5bda-4f61-a142-a490972205c4",
   "metadata": {},
   "outputs": [
    {
     "ename": "SyntaxError",
     "evalue": "unexpected character after line continuation character (<ipython-input-7-19a3fcd03984>, line 3)",
     "output_type": "error",
     "traceback": [
      "\u001b[0;36m  File \u001b[0;32m\"<ipython-input-7-19a3fcd03984>\"\u001b[0;36m, line \u001b[0;32m3\u001b[0m\n\u001b[0;31m    cd /content/drive/My\\ Drive/Colab\\ Notebooks\u001b[0m\n\u001b[0m                                               ^\u001b[0m\n\u001b[0;31mSyntaxError\u001b[0m\u001b[0;31m:\u001b[0m unexpected character after line continuation character\n"
     ]
    }
   ],
   "source": [
    "# Then we issue a command to change the working directory\n",
    "import os\n",
    "os.chdir(\"/content/drive/My Drive/Colab Notebooks/\")"
   ]
  },
  {
   "cell_type": "code",
   "execution_count": 8,
   "id": "dbafc28d-bc4f-462e-98ab-066647a05fcf",
   "metadata": {},
   "outputs": [],
   "source": [
    "# Then we can run\n",
    "\n",
    "import complex\n",
    "help(complex)"
   ]
  },
  {
   "cell_type": "markdown",
   "id": "99ad198f-e127-4fdd-9058-8bb11e8a260e",
   "metadata": {},
   "source": [
    "We can now access the functions in complex:"
   ]
  },
  {
   "cell_type": "code",
   "execution_count": 9,
   "id": "6bcdc6d6-727f-4a8f-b27d-af38d088327e",
   "metadata": {},
   "outputs": [
    {
     "data": {
      "text/plain": [
       "(3, 0)"
      ]
     },
     "execution_count": 9,
     "metadata": {},
     "output_type": "execute_result"
    }
   ],
   "source": [
    "complex.add( (1, 1), (2, -1) )"
   ]
  },
  {
   "cell_type": "markdown",
   "id": "16712831-afaf-47f5-86a4-158c8c4b7f7f",
   "metadata": {},
   "source": [
    "You could import the functions directly, use an alias, or import individual functions:"
   ]
  },
  {
   "cell_type": "code",
   "execution_count": 10,
   "id": "e661258e-08eb-4c45-9db0-069a31c4cc08",
   "metadata": {},
   "outputs": [],
   "source": [
    "from complex import *  # Import all of the functions"
   ]
  },
  {
   "cell_type": "code",
   "execution_count": 11,
   "id": "30372714-7b20-477e-8da5-075fc6720640",
   "metadata": {},
   "outputs": [
    {
     "data": {
      "text/plain": [
       "(2, 0)"
      ]
     },
     "execution_count": 11,
     "metadata": {},
     "output_type": "execute_result"
    }
   ],
   "source": [
    "# Now all of the functions are available in the top name space\n",
    "\n",
    "prod( (1, 1), (1, -1) )"
   ]
  },
  {
   "cell_type": "code",
   "execution_count": 12,
   "id": "b0595a29-24f2-4cde-bd96-4be89c8cf3f1",
   "metadata": {},
   "outputs": [],
   "source": [
    "import complex as cp # Import the module with an alias\n"
   ]
  },
  {
   "cell_type": "code",
   "execution_count": 13,
   "id": "36a18f79-6bb9-44e3-9bdd-a0984b5a2ce2",
   "metadata": {},
   "outputs": [
    {
     "data": {
      "text/plain": [
       "(-1, -1)"
      ]
     },
     "execution_count": 13,
     "metadata": {},
     "output_type": "execute_result"
    }
   ],
   "source": [
    "# Now we can access the functions via their alias\n",
    "\n",
    "cp.neg( (1, 1))"
   ]
  },
  {
   "cell_type": "markdown",
   "id": "837badab-5d33-4182-a445-5ee78c029ca7",
   "metadata": {},
   "source": [
    "### Minimal Loading\n",
    "\n",
    "Restart the kernel on your machine now. And if you are on Google Colab rerun the mounting command and cd command above."
   ]
  },
  {
   "cell_type": "code",
   "execution_count": 1,
   "id": "501272bc-c478-4d34-a651-720a4dd362f2",
   "metadata": {},
   "outputs": [],
   "source": [
    "from complex import sqrt # If we only need one function we can import that one"
   ]
  },
  {
   "cell_type": "code",
   "execution_count": 2,
   "id": "be07de9f-85dc-4409-afe2-c380353474ff",
   "metadata": {},
   "outputs": [
    {
     "data": {
      "text/plain": [
       "((8.463576318323332e-23, 1.0), 8.463576318323332e-23, 6)"
      ]
     },
     "execution_count": 2,
     "metadata": {},
     "output_type": "execute_result"
    }
   ],
   "source": [
    "sqrt( (-1, 0), (1, 1))"
   ]
  },
  {
   "cell_type": "markdown",
   "id": "20a16146-eee0-49ad-b61b-0029dcae234b",
   "metadata": {},
   "source": [
    "Note that it has access to the other functions in complex, even if we do not.\n",
    "\n",
    "The other caveat is while working with .py files, that import commands will not reload the file once we have loaded it. This saves memory and time with our programs, but it does mean if you are editing the .py file, you will need to reset the kernel in your Jupyter or Google Colab space to load the updated version.\n",
    "\n",
    "Note why we would do this. Once we have the functions for working with Complex numbers set, we don't need to edit them again, and we also do not need them cluttering up our .ipynb notebook. So the workflow is that as functions become less crucial to understanding what we are doing in a notebook, we would tend to move them to script files and then read them with import instead.\n",
    "\n",
    "### In addition to functions - Variables are available through import\n",
    "\n",
    "Variables defined in a script are also available through import. Try it. \n",
    "\n",
    "1. Quit your kernel. \n",
    "2. Add the following line to your complex.py file (using whatever type class you are using for complex numbers):"
   ]
  },
  {
   "cell_type": "code",
   "execution_count": 4,
   "id": "b8b24696-7c3e-40f3-a8f8-7311528a0f5c",
   "metadata": {},
   "outputs": [],
   "source": [
    "from numpy import pi\n",
    "pi = (pi, 0)  # Or however you would represent pi and i\n",
    "i = (0, 1)"
   ]
  },
  {
   "cell_type": "markdown",
   "id": "4c06058f-1dbe-4f43-b116-bda193085571",
   "metadata": {},
   "source": [
    "3. and now reimport the complex.py file:"
   ]
  },
  {
   "cell_type": "code",
   "execution_count": 1,
   "id": "714b4244-59d1-4668-a4fd-9813c00214a3",
   "metadata": {},
   "outputs": [],
   "source": [
    "import complex"
   ]
  },
  {
   "cell_type": "code",
   "execution_count": 3,
   "id": "30db2419-67dd-45b0-83fb-be383e2383b4",
   "metadata": {},
   "outputs": [
    {
     "data": {
      "text/plain": [
       "3.14"
      ]
     },
     "execution_count": 3,
     "metadata": {},
     "output_type": "execute_result"
    }
   ],
   "source": [
    "complex.pi # The variable is now available but with the same restrictions \n",
    "           # functions from modules come with, namely they live within the namespace\n",
    "           # of the module"
   ]
  },
  {
   "cell_type": "markdown",
   "id": "688089eb-00eb-41e1-a5a5-2f47c0b159f5",
   "metadata": {},
   "source": [
    "If you look at the notebook that is our course syllabus, you might notice that I used this feature to import the schedule as a variable that is computed in a separate .py file. If you look at that .py file you will see that it is a long list of code none of which is necessary for just inspecting the result -- This is a common use of modules and scripts."
   ]
  },
  {
   "cell_type": "markdown",
   "id": "135a1190-c708-4775-9801-ebb0414a5c6a",
   "metadata": {},
   "source": [
    "# Reading and Writing Files\n",
    "\n",
    "We have already seen examples of reading data from text files. Today we will also write data to a text file. \n",
    "\n",
    "If you download the numbers.txt file and put it in your working directory (or in Colab Notebooks in drive) and inspect it, you will see it is a list of 200 complex numbers.\n",
    "\n",
    "What we would like to do is find the square root of each of these numbers and make a new file that has the complex numbers and their square root separated by a comma on each line."
   ]
  },
  {
   "cell_type": "code",
   "execution_count": 4,
   "id": "6f71a0b2-2617-4890-b9ef-a7d34cb213ae",
   "metadata": {},
   "outputs": [],
   "source": [
    "# Read the numbers: You need to read the numbers in. The problem is that we get strings:"
   ]
  },
  {
   "cell_type": "code",
   "execution_count": 26,
   "id": "138a585d-57a5-4460-b7c3-b8f031489956",
   "metadata": {},
   "outputs": [],
   "source": [
    "f = open(\"numbers.txt\", \"r\")  # r = read - this keeps us from writing data to the file by mistake."
   ]
  },
  {
   "cell_type": "code",
   "execution_count": 27,
   "id": "00c05e52-73e9-4eeb-bd68-bd58f81a5ad9",
   "metadata": {},
   "outputs": [
    {
     "data": {
      "text/plain": [
       "'3.65103678910749+3.544341161794355i\\n'"
      ]
     },
     "execution_count": 27,
     "metadata": {},
     "output_type": "execute_result"
    }
   ],
   "source": [
    "f.readline()"
   ]
  },
  {
   "cell_type": "markdown",
   "id": "130d3640-5cd9-4b20-8151-b5765fd70852",
   "metadata": {},
   "source": [
    "## Parsing the data\n",
    "\n",
    "This is a really common situation:  We have the data we want, but it is not exactly in a format we can use and in particular Python thinks it is just a string. Converting information like this into actual numbers that Python can compute with is called *parsing* the data. https://en.wiktionary.org/wiki/parse\n",
    "\n",
    "Okay so let's write a function that parses this data into complex numbers (however you are representing them) and makes a list of them. So this is a list of lists, tuples, or dictionaries depending on how you are representing your complex numbers."
   ]
  },
  {
   "cell_type": "code",
   "execution_count": 9,
   "id": "51575b60-c6ee-40fe-a641-30d94071114c",
   "metadata": {},
   "outputs": [],
   "source": [
    "def parse_line(line):\n",
    "    \n",
    "    loc = line.find('+')\n",
    "    if loc == -1:\n",
    "        loc = line.find('-', 1)  # note that there could be a negative for the first number as well\n",
    "    \n",
    "    re = float(line[:loc])\n",
    "    im = float(line[loc:-2])\n",
    "    \n",
    "    return re, im ## For my complex package, complex numbers are tuples of two numbers"
   ]
  },
  {
   "cell_type": "markdown",
   "id": "71d8a8ed-4985-4e63-8d98-b03156a0efb6",
   "metadata": {},
   "source": [
    "Now let's write a function that uses our sqrt function to find the square root of each of these numbers, and then writes that result with the number out to a new text file."
   ]
  },
  {
   "cell_type": "code",
   "execution_count": 10,
   "id": "d4f31d5b-2903-48f0-a3bd-15af6bba6ebf",
   "metadata": {},
   "outputs": [],
   "source": [
    "from complex import sqrt\n",
    "f = open(\"numbers.txt\", \"r\")\n",
    "new_f = open(\"sqr_root.txt\", \"w\")  # use the \"w\" flag for write to file\n",
    "\n",
    "for line in f:\n",
    "    w = parse_line(line)\n",
    "    z = sqrt(w, (1, 1))[0]\n",
    "    new_f.write(\"{}+{}i, {}+{}i\\n\".format(w[0], w[1], z[0], z[1]))  # note the \\n character so each output is on its own line\n",
    "    \n",
    "new_f.close()  # it is important to close files we are writing to.\n",
    "f.close()"
   ]
  },
  {
   "cell_type": "markdown",
   "id": "d0bdd26f-0de7-4ed7-b64e-f205b55bb54c",
   "metadata": {},
   "source": [
    "## Why might we want to do this?\n",
    "\n",
    "Note that now that we have this new text file, we could read it back in for another program to then do something with the result. We wouldn't have to recompute the approximate square roots as we already have that done.\n",
    "\n",
    "This gives our programs now the ability to rembember their state in between executions. Examples of software that needs to do this are: \n",
    "\n",
    "- programs that run as part of our operating systems, \n",
    "- programs that compile data from inputs as they are received and need to be turned off, \n",
    "- programs whose memory space is going to be so big that keeping every variable in memory all the time will slow down the computer, and \n",
    "- finally programs that need to communicate with other programs particularly those running on other computers. "
   ]
  },
  {
   "cell_type": "code",
   "execution_count": null,
   "id": "92f21f2f-5369-4692-9ffb-10ec88c19b85",
   "metadata": {},
   "outputs": [],
   "source": []
  }
 ],
 "metadata": {
  "kernelspec": {
   "display_name": "Python 3 (ipykernel)",
   "language": "python",
   "name": "python3"
  },
  "language_info": {
   "codemirror_mode": {
    "name": "ipython",
    "version": 3
   },
   "file_extension": ".py",
   "mimetype": "text/x-python",
   "name": "python",
   "nbconvert_exporter": "python",
   "pygments_lexer": "ipython3",
   "version": "3.9.7"
  }
 },
 "nbformat": 4,
 "nbformat_minor": 5
}
