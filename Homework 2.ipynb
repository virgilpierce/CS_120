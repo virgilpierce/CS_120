{
 "cells": [
  {
   "cell_type": "markdown",
   "id": "a7226225-51fe-406c-aa3f-9b7a98bcff11",
   "metadata": {},
   "source": [
    "# Homework 2\n",
    "\n",
    "**Reading:** Read Chapter 5 in the textbook. Remember it is online.\n",
    "\n",
    "## Question 1:\n",
    "\n",
    "De Morgans Law states that: not (A and B) = (not A) or (not B) \n",
    "\n",
    "and also that:  not (A or B) = (not A) and (not B)\n",
    "\n",
    "Use Python's Boolean Variables, and the keywords not and and to very De Morgans Laws.\n",
    "\n",
    "## Question 2: \n",
    "\n",
    "Using the factorial function we have written (or the one in numpy if you rather) write a function that given $x$ find the larges $n$ such that $n! < x < (n+1)!$.\n",
    "\n",
    "## Quesiton 3:\n",
    "\n",
    "If you are given three sticks, you may or may not be able to form them into a triangle. The test is if any of the three sticks is longer than the sum of the lengths of the other two then you cannot form a triangle.\n",
    "\n",
    "Write a function that takes the lengths of the three sticks and produces an output indicating whether we can form a triangle with them or not: True if we can find such a triangle; False if we cannot.\n"
   ]
  },
  {
   "cell_type": "code",
   "execution_count": null,
   "id": "790d0218-7300-4747-93e5-9b39abd0c061",
   "metadata": {},
   "outputs": [],
   "source": []
  }
 ],
 "metadata": {
  "kernelspec": {
   "display_name": "Python 3 (ipykernel)",
   "language": "python",
   "name": "python3"
  },
  "language_info": {
   "codemirror_mode": {
    "name": "ipython",
    "version": 3
   },
   "file_extension": ".py",
   "mimetype": "text/x-python",
   "name": "python",
   "nbconvert_exporter": "python",
   "pygments_lexer": "ipython3",
   "version": "3.9.5"
  }
 },
 "nbformat": 4,
 "nbformat_minor": 5
}
