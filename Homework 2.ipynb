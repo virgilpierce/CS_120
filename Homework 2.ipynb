{
 "cells": [
  {
   "cell_type": "markdown",
   "id": "a7226225-51fe-406c-aa3f-9b7a98bcff11",
   "metadata": {},
   "source": [
    "# Homework 1\n",
    "\n",
    "**Reading:** Read chapters 2 and 3 in the textbook. Remember it is online. Where it is discussing the *math* pakcage you can use the *numpy* package instead as you are following along.\n",
    "\n",
    "## Question 1:\n",
    "\n",
    "Suppose that the cover price of a book is 24.95 dollars, however bookstores get a 40% discount. Shipping costs 3 dollars for the first copy and 75 cents for each additional copy. \n",
    "\n",
    "Write a function *wholesale(n)* that returns the total wholesale cost for an order of n books.\n",
    "\n",
    "## Question 2: \n",
    "\n",
    "What type is the input *n*, what type is the output *wholesale(n)*?\n",
    "\n",
    "## Quesiton 3:\n",
    "\n",
    "If you were to pass your function a float as an input, what happens? Does it work?\n",
    "\n",
    "## Question 4:\n",
    "\n",
    "Write a second wholesale function for a different book that costs 22.95 dollars, has the same discount, but that ships for 3 dollars for the first copy and 85 cents for each additional copy. Call this function wholesale2.\n",
    "\n",
    "## Question 5:\n",
    "\n",
    "Functions are actually objects themselves, and they have a type. As a result you can pass functions to other functions. Write a function *total_cost(wholesale, wholesale2, n)* and returns a Boolean value True if wholesale(n) > wholesale2(n); and False if wholesale(n) $\\leq$ wholesale2(n).\n",
    "\n"
   ]
  },
  {
   "cell_type": "code",
   "execution_count": null,
   "id": "790d0218-7300-4747-93e5-9b39abd0c061",
   "metadata": {},
   "outputs": [],
   "source": []
  }
 ],
 "metadata": {
  "kernelspec": {
   "display_name": "Python 3 (ipykernel)",
   "language": "python",
   "name": "python3"
  },
  "language_info": {
   "codemirror_mode": {
    "name": "ipython",
    "version": 3
   },
   "file_extension": ".py",
   "mimetype": "text/x-python",
   "name": "python",
   "nbconvert_exporter": "python",
   "pygments_lexer": "ipython3",
   "version": "3.9.5"
  }
 },
 "nbformat": 4,
 "nbformat_minor": 5
}
