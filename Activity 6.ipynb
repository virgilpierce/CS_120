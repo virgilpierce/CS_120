{
 "cells": [
  {
   "cell_type": "markdown",
   "id": "e0c694bd-5c1e-400b-bcea-7e8a7dd76d15",
   "metadata": {},
   "source": [
    "# Activity 6 - Weird Approximations for Pi\n",
    "\n",
    "1. One thing I collect are ways to approximate $\\pi$. In the early 20th century Srinivasa Ramanujan found the following infinite series that would give $\\frac{1}{\\pi}$:\n",
    "\n",
    "$$ \\frac{1}{\\pi} = \\frac{2\\sqrt{2}}{9801} \\sum_{k=0}^\\infty \\frac{(4k)! (1103 + 26390 k) }{(k!)^4 396^{4k} } $$\n",
    "\n",
    "Write a while loop to determine how far out in the sum you need to go so that the last term is smaller than $10^{-15}$. \n",
    "\n",
    "2. Use a list generator to add up those first terms to get an approximation of $\\frac{1}{\\pi}$ that is accurate to $10^{-15}$, and then take the reciprical to get an approximation for $\\pi$. Check how accurate it is using the numpy $\\pi$. \n"
   ]
  },
  {
   "cell_type": "code",
   "execution_count": null,
   "id": "1d77641c-86f0-4e3e-9c80-ea94f7a60cc7",
   "metadata": {},
   "outputs": [],
   "source": []
  }
 ],
 "metadata": {
  "kernelspec": {
   "display_name": "Python 3 (ipykernel)",
   "language": "python",
   "name": "python3"
  },
  "language_info": {
   "codemirror_mode": {
    "name": "ipython",
    "version": 3
   },
   "file_extension": ".py",
   "mimetype": "text/x-python",
   "name": "python",
   "nbconvert_exporter": "python",
   "pygments_lexer": "ipython3",
   "version": "3.9.5"
  }
 },
 "nbformat": 4,
 "nbformat_minor": 5
}
