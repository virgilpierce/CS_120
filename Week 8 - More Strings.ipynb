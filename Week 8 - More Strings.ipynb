{
 "cells": [
  {
   "cell_type": "markdown",
   "id": "2f3cead9-27dd-4ab0-87e8-8d1108d95a60",
   "metadata": {},
   "source": [
    "# More Strings\n",
    "\n",
    "Arguably one of the things Python does best is strings. It is capable of processing large strings en masse and doing operations on them. \n",
    "\n",
    "Today we will analyze a list of *puzzle words* that was compiled as part of the Moby lexicon project. This will also be our first example of Python working with files from our computer.\n",
    "\n",
    "To start - you need to get a copy of these notes and the file with our data \"CROSSWD.TXT\" into the same directory. Or you can follow the instructions and use the second cell to get the file via the URL in Github.\n",
    "\n",
    "## Jupyter\n",
    "\n",
    "On Jupyter this is as simple as - before you open a notebook, uploading the .TXT file to the directory you are in.\n"
   ]
  },
  {
   "cell_type": "code",
   "execution_count": 1,
   "id": "2491cadc-9408-46ad-bc1f-9d0e34f1bfe1",
   "metadata": {},
   "outputs": [],
   "source": [
    "words_file = open('CROSSWD.TXT')\n",
    "# open creates a file object in Python for us to manipulate"
   ]
  },
  {
   "cell_type": "markdown",
   "id": "c17c4175-1b8f-4aaf-9771-2e18d4f0fec6",
   "metadata": {},
   "source": [
    "\n",
    "## Google Colab\n",
    "\n",
    "You need to use a module in order to read the file from a URL or use a module in order to read it from your Google Drive account. I like reading it from a URL because this means anyone with the .ipynb file can run the code and get the file. This method will work in Jupyter as well. Just choose the option you want and run that, and comment out the other one."
   ]
  },
  {
   "cell_type": "code",
   "execution_count": null,
   "id": "dc39c6df-c9af-492f-b107-7d29bd729bfd",
   "metadata": {},
   "outputs": [],
   "source": [
    "## Commenting this out - you would want to uncomment it if you are using Google Colab\n",
    "\n",
    "#from urllib.request import urlopen\n",
    "#words_file = urlopen('https://github.com/virgilpierce/CS_120/raw/main/CROSSWD.TXT')\n",
    "# Github is public facing so I just add the link to the file I get by right clicking on the \"Download\" button for the file in Github and choosing copy url.\n",
    "\n",
    "# If you get an error in Jupyter you either need to access the file using the cell above; or you need to install \n",
    "# the urllib module by using a Terminal and typing: pip install urllib\n",
    "\n",
    "# Note that the urlopen does behave a little strangely. It is not loading the file all at once and instead queries the server line by line for it\n",
    "# this will with a slow internet connection make this method slower than the open() above.\n"
   ]
  },
  {
   "cell_type": "code",
   "execution_count": 2,
   "id": "09a35ff5-3e9b-4e4b-a02e-4423492563f2",
   "metadata": {},
   "outputs": [
    {
     "data": {
      "text/plain": [
       "_io.TextIOWrapper"
      ]
     },
     "execution_count": 2,
     "metadata": {},
     "output_type": "execute_result"
    }
   ],
   "source": [
    "type(words_file)\n",
    "# The type indicates that it is an Input/Output stream"
   ]
  },
  {
   "cell_type": "code",
   "execution_count": 4,
   "id": "ede0893d-f7a0-4be5-8ace-3647e58ffe0c",
   "metadata": {},
   "outputs": [
    {
     "data": {
      "text/plain": [
       "['buffer',\n",
       " 'close',\n",
       " 'closed',\n",
       " 'detach',\n",
       " 'encoding',\n",
       " 'errors',\n",
       " 'fileno',\n",
       " 'flush',\n",
       " 'isatty',\n",
       " 'line_buffering',\n",
       " 'mode',\n",
       " 'name',\n",
       " 'newlines',\n",
       " 'read',\n",
       " 'readable',\n",
       " 'readline',\n",
       " 'readlines',\n",
       " 'reconfigure',\n",
       " 'seek',\n",
       " 'seekable',\n",
       " 'tell',\n",
       " 'truncate',\n",
       " 'writable',\n",
       " 'write',\n",
       " 'write_through',\n",
       " 'writelines']"
      ]
     },
     "execution_count": 4,
     "metadata": {},
     "output_type": "execute_result"
    }
   ],
   "source": [
    "[x for x in dir(words_file) if '_' != x[0]]\n",
    "# Let's check what methods we have"
   ]
  },
  {
   "cell_type": "code",
   "execution_count": 5,
   "id": "633b32e3-e59d-44b8-8963-74a65f5878a5",
   "metadata": {},
   "outputs": [
    {
     "name": "stdout",
     "output_type": "stream",
     "text": [
      "Help on built-in function readline:\n",
      "\n",
      "readline(size=-1, /) method of _io.TextIOWrapper instance\n",
      "    Read until newline or EOF.\n",
      "    \n",
      "    Returns an empty string if EOF is hit immediately.\n",
      "\n"
     ]
    }
   ],
   "source": [
    "help(words_file.readline)\n",
    "# we can get information about a method"
   ]
  },
  {
   "cell_type": "code",
   "execution_count": 6,
   "id": "714f68bd-128f-4f4b-b461-2cb9974b969d",
   "metadata": {},
   "outputs": [
    {
     "data": {
      "text/plain": [
       "'aa\\n'"
      ]
     },
     "execution_count": 6,
     "metadata": {},
     "output_type": "execute_result"
    }
   ],
   "source": [
    "words_file.readline()\n",
    "# each time we execute .readline() it reads the next line in the file as a string. Try it."
   ]
  },
  {
   "cell_type": "markdown",
   "id": "00781386-fb74-4c23-87d2-b62884665f76",
   "metadata": {},
   "source": [
    "### Byte-Strings\n",
    "\n",
    "If you are doing this using the URL method above for Google Colab - the string you just got probably has a *b* in front of it. This is how Python designates\n",
    "a type called a byte-string. Byte strings are how computers encode characters beyond the standard alphabet we are using, and because the internet is international\n",
    "sites like Github have to deliver their content in byte-strings rather than regular strings.\n",
    "\n",
    "We know this file is made up entirely of regular strings and so we might want to remove the *b*.  We can do that by adding a .decode('utf-8') after the .readline().\n",
    "\n",
    "'utf-8' specifies the encoding that the byte-string is using (in this case Github uses *Unicode Transformation 8-bit*). "
   ]
  },
  {
   "cell_type": "markdown",
   "id": "d51dcf14-1dc6-455c-adfd-8ea0796b5feb",
   "metadata": {},
   "source": [
    "We don't really need the '\\n' new line character and we can use the .strip() method to remove it:"
   ]
  },
  {
   "cell_type": "code",
   "execution_count": 7,
   "id": "0b760bd4-02c8-42d4-b070-cf8b2df0fe3c",
   "metadata": {},
   "outputs": [
    {
     "data": {
      "text/plain": [
       "'aah'"
      ]
     },
     "execution_count": 7,
     "metadata": {},
     "output_type": "execute_result"
    }
   ],
   "source": [
    "words_file.readline().strip()\n",
    "# Note that we can just string together methods - and you can start to see the reason they are written as .method()"
   ]
  },
  {
   "cell_type": "markdown",
   "id": "0c2c6d61-8985-4993-9855-e5cf128bb51e",
   "metadata": {},
   "source": [
    "Even better, the file object is an iterable:  meaning we can use it in a for loop:  Note if you execute the command that follows, you will probably have to use Interupt to stop it unless you want to wait a long time."
   ]
  },
  {
   "cell_type": "code",
   "execution_count": null,
   "id": "18524e7a-05c3-4471-abc9-ec94db2b3cd3",
   "metadata": {},
   "outputs": [],
   "source": [
    "for line in words_file:\n",
    "    word = line.strip()\n",
    "    print(word)"
   ]
  },
  {
   "cell_type": "markdown",
   "id": "026d6b07-98af-4e2d-8f91-ab675af06878",
   "metadata": {},
   "source": [
    "## Program 1\n",
    "\n",
    "Write a program that reads CROSSWD.TXT and prints only the words with more than 20 characters.\n",
    "\n",
    "Note that in each of the Programs below we need to start by opening the file (or URL). It used to be very important to close the file when you are done - it is now less important **UNLESS** you are writing data to the file - in that case you need to close it before your operating system will ensure that the data sent to the file is actually stored to your systems disk. We will play with some file manipulation later in the semester."
   ]
  },
  {
   "cell_type": "code",
   "execution_count": 9,
   "id": "bc7e3242-be45-471f-979a-b2580bb17d75",
   "metadata": {},
   "outputs": [
    {
     "name": "stdout",
     "output_type": "stream",
     "text": [
      "counterdemonstrations\n",
      "hyperaggressivenesses\n",
      "microminiaturizations\n"
     ]
    }
   ],
   "source": [
    "words_file = open('CROSSWD.TXT')\n",
    "for line in words_file:\n",
    "    word = line.strip()\n",
    "    if len(word) > 20:\n",
    "        print(word)"
   ]
  },
  {
   "cell_type": "markdown",
   "id": "e039e002-b222-439f-b9b2-f5a211857679",
   "metadata": {},
   "source": [
    "## Program 2\n",
    "\n",
    "Write a function called *has_no_e* that takes a word and returns True if it has no e and False if it has an e.  \n",
    "\n",
    "Then modify your Program 1 to print all the words that have no e."
   ]
  },
  {
   "cell_type": "code",
   "execution_count": 11,
   "id": "3a0a337b-c897-485a-89a4-c9ac03e682c0",
   "metadata": {},
   "outputs": [],
   "source": [
    "def has_no_e(word):\n",
    "    if 'e' in word:\n",
    "        return False\n",
    "    else:\n",
    "        return True"
   ]
  },
  {
   "cell_type": "code",
   "execution_count": 12,
   "id": "0737df63-3413-47eb-8499-78c9a9e58565",
   "metadata": {},
   "outputs": [
    {
     "data": {
      "text/plain": [
       "(37641, 76168)"
      ]
     },
     "execution_count": 12,
     "metadata": {},
     "output_type": "execute_result"
    }
   ],
   "source": [
    "words_file = open('CROSSWD.TXT')\n",
    "count_e = 0\n",
    "count_no_e = 0\n",
    "for line in words_file:\n",
    "    word = line.strip()\n",
    "    if has_no_e(word):\n",
    "        count_no_e += 1\n",
    "    else:\n",
    "        count_e += 1\n",
    "        \n",
    "count_no_e, count_e"
   ]
  },
  {
   "cell_type": "markdown",
   "id": "3e644e0f-801f-4e3f-b4fe-787643370e48",
   "metadata": {},
   "source": [
    "## Program 3\n",
    "\n",
    "Write a function named *uses_only* that takes a word and a string of letters and returns True only if the word uses letters from the list.\n",
    "\n",
    "Then modify Program 1 so that you can construct a sentence that uses the only the letters 'asdfjkl' if possible."
   ]
  },
  {
   "cell_type": "code",
   "execution_count": null,
   "id": "9841100d-8865-4be7-9aaa-37b884870e66",
   "metadata": {},
   "outputs": [],
   "source": []
  },
  {
   "cell_type": "markdown",
   "id": "2cfad954-d66e-48c3-92e1-6db61548efbe",
   "metadata": {},
   "source": [
    "## Program 4 \n",
    "\n",
    "Write a function named *uses_all* that takes a word and a string of letters and returns True if the word uses all of the letters from the list at least once but also uses any other letters.\n",
    "\n",
    "How many words are there that use all of the vowels 'aeiou'?  How about 'aeiouy'?"
   ]
  },
  {
   "cell_type": "code",
   "execution_count": null,
   "id": "ee0d0914-2f42-41be-ba86-856c2985446f",
   "metadata": {},
   "outputs": [],
   "source": []
  },
  {
   "cell_type": "markdown",
   "id": "d2560a03-49ef-497c-b3ea-58a8783f08dc",
   "metadata": {},
   "source": [
    "## Program 5\n",
    "\n",
    "Write a function called *is_alphabetical* that retursn True if the letters in a word appear in alphabetical order."
   ]
  },
  {
   "cell_type": "code",
   "execution_count": null,
   "id": "2348ec0e-3547-4d46-ab1b-5cc4ef0bcf0b",
   "metadata": {},
   "outputs": [],
   "source": []
  },
  {
   "cell_type": "code",
   "execution_count": null,
   "id": "9c43c8fb-3ac8-4948-8bb4-f0c44f3283c6",
   "metadata": {},
   "outputs": [],
   "source": []
  }
 ],
 "metadata": {
  "kernelspec": {
   "display_name": "Python 3 (ipykernel)",
   "language": "python",
   "name": "python3"
  },
  "language_info": {
   "codemirror_mode": {
    "name": "ipython",
    "version": 3
   },
   "file_extension": ".py",
   "mimetype": "text/x-python",
   "name": "python",
   "nbconvert_exporter": "python",
   "pygments_lexer": "ipython3",
   "version": "3.9.5"
  }
 },
 "nbformat": 4,
 "nbformat_minor": 5
}
