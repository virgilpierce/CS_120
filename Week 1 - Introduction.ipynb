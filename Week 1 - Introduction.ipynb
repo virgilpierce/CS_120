{
 "cells": [
  {
   "cell_type": "markdown",
   "id": "aa76ae47-cc94-4a46-8bcc-4ebf6f9177d5",
   "metadata": {
    "tags": []
   },
   "source": [
    "# Introduction to Programming\n",
    "\n",
    "An intro to the intro:  This class is going to be about my favorite mathematics subject - programming. Programming for me is the reason I got interested in mathematics and science. This question:\n",
    "\n",
    "*How would I have a computer find an example of this, compute this, prove this?* \n",
    "\n",
    "has guided me through more than 10 years of learning mathematics, physics, and chemistry.\n",
    "\n",
    "----\n",
    "\n",
    "## Python and Jupyter\n",
    "\n",
    "This course will introduce you to programming with the language Python. Python is a fantastic first programming language to learn. It has also become the default language for scientific computations at least in the cases where low power is needed. Before I explain why it is such a great language, let me also introduce you to Jupyter -- Jupyter is the software I recommend you use to interact with Python. You have a couple of options for accessing it:\n",
    "\n",
    "\n",
    "1. If you have your own laptop here with you in class today, or if you are using a Chromebook or Tablet, and you have a Google Account:  go to https://colab.research.google.com/notebooks/intro.ipynb?utm_source=scs-index#recent=true\n",
    "\n",
    "2. If you have your own laptop here with you in class today, or if you are using a Chromebook or Tablet, and you do not have a Google Account:  go to https://unco.apporto.com/\n",
    "\n",
    "3. Finally you can log in to the machine in front of you and start Jupyter by searching for it in the start menu.\n",
    "\n",
    "4. Additionally you can also install Jupyter and Python on your own computer, there are isntructions in Canvas, but do not do it today as it takes time.\n",
    "\n",
    "----\n",
    "\n",
    "Now for why Python is such a nice first language, and follow along by executing the commands yourself.  A couple of notes: to a great extent you cannot hurt your computer and while Python may complain and flash red messages, there is really very little that can go wrong. So try things. Computer languages have to be used and explored to see how they work. Don't ask what will happen, change it and see. *Eff Around and Find Out* is literally more than half of programming.\n",
    "\n",
    "(we will talk later in the course about some ways that Python code could hurt your computer, but it is impossible with the things we will be doing in class).\n",
    "\n",
    "- Dynamic Typing: Python will guess what type of object you are using.\n"
   ]
  },
  {
   "cell_type": "code",
   "execution_count": 2,
   "id": "35736715-648d-48b2-9722-b9e6c17b1733",
   "metadata": {},
   "outputs": [
    {
     "data": {
      "text/plain": [
       "int"
      ]
     },
     "execution_count": 2,
     "metadata": {},
     "output_type": "execute_result"
    }
   ],
   "source": [
    "## Integer\n",
    "\n",
    "r = 592\n",
    "type(r)"
   ]
  },
  {
   "cell_type": "code",
   "execution_count": 3,
   "id": "90d892e8-c2ad-440d-883f-b9ebd1774e50",
   "metadata": {},
   "outputs": [
    {
     "data": {
      "text/plain": [
       "float"
      ]
     },
     "execution_count": 3,
     "metadata": {},
     "output_type": "execute_result"
    }
   ],
   "source": [
    "## Float (Real Number)\n",
    "\n",
    "x = 592.0\n",
    "type(x)"
   ]
  },
  {
   "cell_type": "markdown",
   "id": "8505a26e-818b-43df-8734-85b478c328e7",
   "metadata": {},
   "source": [
    "In addition to number types, Python has built-in Strings:"
   ]
  },
  {
   "cell_type": "code",
   "execution_count": 6,
   "id": "7cf97bd3-b525-4e70-afa0-b293cf03adaf",
   "metadata": {},
   "outputs": [
    {
     "data": {
      "text/plain": [
       "str"
      ]
     },
     "execution_count": 6,
     "metadata": {},
     "output_type": "execute_result"
    }
   ],
   "source": [
    "## Strings\n",
    "\n",
    "c = 'strings are words'\n",
    "type(c)"
   ]
  },
  {
   "cell_type": "markdown",
   "id": "64e70adb-9b10-4446-abfe-8dc9b9bf3957",
   "metadata": {},
   "source": [
    "And then there are types that combine these basic types.  There are four main ones we will use:  \n",
    "\n",
    "Lists are sequences of other objects:"
   ]
  },
  {
   "cell_type": "code",
   "execution_count": 1,
   "id": "4e0aaa08-8739-4ec8-afd5-73c8d4eb1969",
   "metadata": {},
   "outputs": [
    {
     "data": {
      "text/plain": [
       "list"
      ]
     },
     "execution_count": 1,
     "metadata": {},
     "output_type": "execute_result"
    }
   ],
   "source": [
    "list_of_integers = [1,2, 6, 8, 10, 12]\n",
    "list_of_strings = ['go', 'unc', 'bears']\n",
    "list_of_lists = [ [], [1], [1,2], [1,2,3] ]\n",
    "\n",
    "type(list_of_lists)"
   ]
  },
  {
   "cell_type": "markdown",
   "id": "266e6022-d0a7-4790-940b-8fd6698724dd",
   "metadata": {},
   "source": [
    "Tuples, which are like lists but have a subtle difference we will talk about later:"
   ]
  },
  {
   "cell_type": "code",
   "execution_count": 9,
   "id": "6d37879d-5e09-42da-ab81-bfa0c23d8f84",
   "metadata": {},
   "outputs": [
    {
     "data": {
      "text/plain": [
       "tuple"
      ]
     },
     "execution_count": 9,
     "metadata": {},
     "output_type": "execute_result"
    }
   ],
   "source": [
    "tuple_of_things = (1, 'one')\n",
    "type(tuple_of_things)"
   ]
  },
  {
   "cell_type": "markdown",
   "id": "d00eb77f-c207-4de4-b966-22a2d8b63572",
   "metadata": {},
   "source": [
    "Python is unique among the languages I have learned in that sets are a built-in type. \n",
    "\n",
    "This is because Python was created by a Mathematician, and we are often thinking about sets. Sets are different from lists and tuples in that order does not matter, and duplicate elements are not allowed."
   ]
  },
  {
   "cell_type": "code",
   "execution_count": 10,
   "id": "a86ce6bb-9488-40c1-a531-69ad92c1735b",
   "metadata": {},
   "outputs": [
    {
     "data": {
      "text/plain": [
       "set"
      ]
     },
     "execution_count": 10,
     "metadata": {},
     "output_type": "execute_result"
    }
   ],
   "source": [
    "dogs = {'chloe', 'sophie', 'missy', 'molly', 'elle', 'elton'}\n",
    "type(dogs)"
   ]
  },
  {
   "cell_type": "code",
   "execution_count": 11,
   "id": "2da070bc-9387-498f-bedb-6de9e39f8e0c",
   "metadata": {},
   "outputs": [
    {
     "data": {
      "text/plain": [
       "{'chloe', 'elle', 'elton', 'missy', 'molly', 'sophie'}"
      ]
     },
     "execution_count": 11,
     "metadata": {},
     "output_type": "execute_result"
    }
   ],
   "source": [
    "# order does not matter; and in particular this means the order a set is displayed may not be the order I typed it\n",
    "\n",
    "dogs"
   ]
  },
  {
   "cell_type": "code",
   "execution_count": 12,
   "id": "269518b7-9558-4060-af7e-1159650160b8",
   "metadata": {},
   "outputs": [
    {
     "data": {
      "text/plain": [
       "{1, 2, 3}"
      ]
     },
     "execution_count": 12,
     "metadata": {},
     "output_type": "execute_result"
    }
   ],
   "source": [
    "# duplicates are automatically removed\n",
    "\n",
    "numbers = {1, 1, 2, 2, 3, 3}\n",
    "numbers"
   ]
  },
  {
   "cell_type": "markdown",
   "id": "438d4c1c-e51b-4ca2-9685-3bd0de7b886d",
   "metadata": {},
   "source": [
    "Finally the last type is a dictionary. Dictionaries are fantastic data structures, and it will be towards the end of the class when we learn how to use them, but for the sake of completness here is an example of a dictionary:"
   ]
  },
  {
   "cell_type": "code",
   "execution_count": 2,
   "id": "a112040d-cb27-4280-b958-bfe8673455b8",
   "metadata": {},
   "outputs": [
    {
     "data": {
      "text/plain": [
       "dict"
      ]
     },
     "execution_count": 2,
     "metadata": {},
     "output_type": "execute_result"
    }
   ],
   "source": [
    "# dictionaries look like sets of keys and then values for those keys separated with a colon. The keys and values can be any type\n",
    "\n",
    "ages = {'virgil':44, 'nancy':49, 'chloe':5, 'sophie':7, 'nick':42}\n",
    "type(ages)"
   ]
  },
  {
   "cell_type": "code",
   "execution_count": 3,
   "id": "84dcc730-de43-49d8-ba32-ee35d7e717dc",
   "metadata": {},
   "outputs": [
    {
     "data": {
      "text/plain": [
       "44"
      ]
     },
     "execution_count": 3,
     "metadata": {},
     "output_type": "execute_result"
    }
   ],
   "source": [
    "# The primary thing that dictionaries do is they perform a \"lookup\" of a key:\n",
    "ages['virgil']"
   ]
  },
  {
   "cell_type": "markdown",
   "id": "90deb814-458d-47b6-b9e1-4aa4d7aa1866",
   "metadata": {},
   "source": [
    "Why is dynamic typing unique?  Well many other languages require you to declare what type of object a variable will be before you can use it. Reasons for this are that the program needs to reserve appropriate memory, and it also serves as an error checking as if part of the program expects *dogs* to be a list and it is actually an integer we might want to know something is wrong.\n",
    "\n",
    "However Python will do this for you. This is a Pro: You will not need to worry about declaring types so there is one less thing that can go wrong; and in addition sometimes we might want a variable to change types. \n",
    "\n",
    "For example can you think of a function that sometimes gives a number, but that sometimes is 'undefined'?\n",
    "\n",
    "It is also a Con:  because variables are not typed sometimes you might be treating a variable as if its a number when it turns out it is a list -- it is now your job to avoid this."
   ]
  },
  {
   "cell_type": "markdown",
   "id": "8dceacef-721c-4c7f-82d8-7ff58a2ec093",
   "metadata": {},
   "source": [
    "- Python has a syntax that encourages us to write readable code"
   ]
  },
  {
   "cell_type": "code",
   "execution_count": 5,
   "id": "46d9eb57-f88b-4247-b0ea-fda23c464e0e",
   "metadata": {},
   "outputs": [],
   "source": [
    "# for example Python uses <tab> alignment to identify what parts of a code go with which other parts:\n",
    "\n",
    "## Consider this function that computes the area of a number of circles of the same radius\n",
    "\n",
    "def distance(number, radius):\n",
    "    \n",
    "    pi = 3.14\n",
    "    area_of_each = pi * radius**2\n",
    "    \n",
    "    return number * area_of_each\n",
    "\n",
    "\n"
   ]
  },
  {
   "cell_type": "code",
   "execution_count": 6,
   "id": "d7992f57-53b0-4eda-b783-357d67a296c0",
   "metadata": {},
   "outputs": [
    {
     "data": {
      "text/plain": [
       "2.355"
      ]
     },
     "execution_count": 6,
     "metadata": {},
     "output_type": "execute_result"
    }
   ],
   "source": [
    "distance(3, 0.5)"
   ]
  },
  {
   "cell_type": "markdown",
   "id": "8f92b87f-24e7-4db0-a9fc-5b2ad42161a0",
   "metadata": {},
   "source": [
    "Note how all of the commands that are part of the function line up. That they line up tells Python that they all belong inside of the *def*. \n",
    "\n",
    "Other programming languages make extensive use of brackets { } or other punctuation like semi-colons ; to identify which commands go with which.\n",
    "\n",
    "The result is that Python forces you to arrange commands so that they are easy to read and make use of your human minds ability to see shapes and patterns."
   ]
  },
  {
   "cell_type": "markdown",
   "id": "372f84ea-1b75-4088-b11b-7349a4dfee2c",
   "metadata": {},
   "source": [
    "- Human Readable Code:  Python is a language designed to be human readable as much as possible, while still being an effective logical structure for giving instructions. \n",
    "\n",
    "We won't see this until later in class, but for example we can do things like this:"
   ]
  },
  {
   "cell_type": "code",
   "execution_count": 1,
   "id": "462571b3-15ea-45a0-97c2-2b7dc286d887",
   "metadata": {},
   "outputs": [
    {
     "data": {
      "text/plain": [
       "[-3, -2, -1, 0, 1, 2, 3]"
      ]
     },
     "execution_count": 1,
     "metadata": {},
     "output_type": "execute_result"
    }
   ],
   "source": [
    "# make a list of numbers \n",
    "my_list = [-5, -3, -1, 1, 3, 5, 7]\n",
    "\n",
    "# make a new list of numbers\n",
    "\n",
    "[ (x-1)//2 for x in my_list]"
   ]
  },
  {
   "cell_type": "markdown",
   "id": "e853ae5c-b918-41e2-a1af-734599d20177",
   "metadata": {},
   "source": [
    "and notice how it does exactly what we said it will do. "
   ]
  },
  {
   "cell_type": "markdown",
   "id": "56bb42c8-7452-4324-8540-4152b64f5546",
   "metadata": {},
   "source": [
    "Other languages are not always as human readable. In fact there are some famous examples of languages made to be as non-human readable as possible for example there is Brainfuck: https://en.wikipedia.org/wiki/Brainfuck   a language written to have the minimal number of symbols (6) for making a programming language that is complete and could express any mathematical function."
   ]
  },
  {
   "cell_type": "markdown",
   "id": "75799e66-2309-438c-83c1-ca1544b11cec",
   "metadata": {},
   "source": [
    "## Markdown\n",
    "\n",
    "You have seen a few examples now of Markdown, which is the thing that Jupyter brings to the table.  \n",
    "\n",
    "Markdown is a simple formatting language for making text, effectively more detailed comments to go with our code. Jupyter is becoming an industry standard in places that use Python because it allows you to wrap extensive explanations around the code you are writing. I encourage you to make use of it. Always be aiming to explain your code to someone who might be reading it.\n",
    "\n",
    "Markdown can:  \n",
    "\n",
    "- Do bullets\n",
    "\n",
    "- Make **boldface**\n",
    "\n",
    "- Make *italics*\n",
    "\n",
    "1. Enumerate lists\n",
    "\n",
    "2. and include mathematics written in a language called Latex:  $$ \\sum_{j=0}^n \\frac{2^n}{n!} $$"
   ]
  },
  {
   "cell_type": "markdown",
   "id": "f16d48e0-4ca0-47e9-920a-41afe5a6aa46",
   "metadata": {},
   "source": [
    "# Variables\n",
    "\n",
    "We've already used variables above. There is a small set of rules about variables, lets explore them together.\n",
    "\n",
    "Find some examples of variables we cannot use, and help me identify what the rules are we are breaking."
   ]
  },
  {
   "cell_type": "markdown",
   "id": "138435f3-9303-49dc-a5c5-8b1251143955",
   "metadata": {},
   "source": [
    "# Operations on Numbers\n",
    "\n",
    "The following symbols perform operations on numbers, what do they mean:  \n",
    "\n",
    "- +\n",
    "\n",
    "- -\n",
    "\n",
    "- *\n",
    "\n",
    "- /\n",
    "\n",
    "- //\n",
    "\n",
    "- %\n",
    "\n",
    "- **\n",
    "\n",
    "\n",
    "Note that the symbol ^ does do something to numbers, but it is beyond the scope of this class, unless you want to look into it for a project, to get into exactly what it is doing."
   ]
  },
  {
   "cell_type": "markdown",
   "id": "4c690a7e-9ece-4d28-a8a1-2a646967be55",
   "metadata": {},
   "source": [
    "# Functions\n",
    "\n",
    "We've also seen a function already. For lots of reasons we will often want to write our own functions. Functions make our code easier to read by setting aside a particular sequence of commands or a computation; make our code easier to debug, by letting us isolate the parts of our program; help combine the work from different people; and finally allow us to reuse code in multiple places in our program or even across multiple programs.\n",
    "\n",
    "I think about functions as the parts of my car. All of those parts fit together and work together to make the car go (and stop!). They are also the same parts used in other cars.\n",
    "\n",
    "Here is an example of a function in Python:"
   ]
  },
  {
   "cell_type": "code",
   "execution_count": 24,
   "id": "c44b97ce-7059-4a45-bfed-cbd6cd77c557",
   "metadata": {},
   "outputs": [],
   "source": [
    "# The first line starts with the keyword def, gives a name for the function, \n",
    "# in parenthesis identifies the variables and then parameters the function will use\n",
    "# and then ends with a colon\n",
    "\n",
    "def name_of_function(variable1, variable2, parameter1 = 3.14):\n",
    "    # We can pass the function variables, and then parameters which are variables with predefined values\n",
    "    \n",
    "    # our function then contains a list of commands that are lined up with the same spacing\n",
    "    \n",
    "    area_of_circle = parameter1 * variable1**2\n",
    "    area_of_cylinder = variable2 * area_of_circle\n",
    "    \n",
    "    # the variables passed to the function and the ones defined within it are local \n",
    "    # local variables are only available inside of the function, your program will not remember \n",
    "    # area_of_circle after the function has run.\n",
    "    \n",
    "    return area_of_cylinder\n",
    "\n",
    "# The function ends with a return. We can return a varaible, a value, or even the keyword None\n",
    "# In truth you could write a function that does not have a return command, but it is good programming practice to at least return None. \n",
    "\n",
    "# Later in the course we will see examples of functions that have multiple return values depending on the computation.\n",
    "\n"
   ]
  },
  {
   "cell_type": "code",
   "execution_count": 25,
   "id": "73ac8b79-5b22-42e1-baaf-9b7ab0c84fff",
   "metadata": {},
   "outputs": [
    {
     "data": {
      "text/plain": [
       "94.2"
      ]
     },
     "execution_count": 25,
     "metadata": {},
     "output_type": "execute_result"
    }
   ],
   "source": [
    "# once the function is defined we can call it by using its name and passing variables or objects for each of the variables in the definition:\n",
    "\n",
    "name_of_function(5.0, 1.2)"
   ]
  },
  {
   "cell_type": "code",
   "execution_count": 28,
   "id": "e1a895cf-121f-4a6b-ae59-126a7606a11c",
   "metadata": {},
   "outputs": [
    {
     "data": {
      "text/plain": [
       "94.25999999999999"
      ]
     },
     "execution_count": 28,
     "metadata": {},
     "output_type": "execute_result"
    }
   ],
   "source": [
    "# We can override the value of the parameter by passing it as well\n",
    "# I suggest naming the parameter if you are overriding it, but Python would also accept it by position\n",
    "\n",
    "name_of_function(5.0, 1.2, parameter1 = 3.142)"
   ]
  },
  {
   "cell_type": "code",
   "execution_count": 29,
   "id": "22ee3d95-18d5-45ab-a227-9193a4c6741a",
   "metadata": {},
   "outputs": [
    {
     "data": {
      "text/plain": [
       "150"
      ]
     },
     "execution_count": 29,
     "metadata": {},
     "output_type": "execute_result"
    }
   ],
   "source": [
    "# note that Python dynmaically types the result:\n",
    "\n",
    "name_of_function(5, 2, parameter1 = 3)"
   ]
  },
  {
   "cell_type": "code",
   "execution_count": 33,
   "id": "251e30d5-1723-4039-b28f-863675745534",
   "metadata": {},
   "outputs": [
    {
     "data": {
      "text/plain": [
       "[1, 1, 1, 1, 1, 1, 1, 1, 1, 1, 1, 1]"
      ]
     },
     "execution_count": 33,
     "metadata": {},
     "output_type": "execute_result"
    }
   ],
   "source": [
    "# note that this could lead to some weirdness; again because of dynamic typing it is our responsibility to make sure what we use for a variable and its value\n",
    "# makes sense.\n",
    "\n",
    "name_of_function(2, [1], parameter1=3)"
   ]
  },
  {
   "cell_type": "markdown",
   "id": "2eb6aa47-dede-48b3-a6c2-0c4576fb84c9",
   "metadata": {},
   "source": [
    "# Textbook\n",
    "\n",
    "The textbook is available online: https://greenteapress.com/thinkpython2/html/index.html\n",
    "\n",
    "Note there is one major difference between what we will be doing and muhc of what the textbook does. This is our Introduction to Programming class and as such I will show you in the class how to use Python and Jupyter as a tool. One of the things Jupyter does for us that we have already seen it doing is that it displays the last line of a sell if that line is just a command.\n",
    "\n",
    "Some of the textbook spends a lot of time having you format output and use the *print()* command. We will use this command for debugging, but we will not spend a lot of time worrying about output. The textbook also spends a lot of time with user input, and we will also be skipping this as again when you are using Jupyter, it is a step you can skip. \n",
    "\n",
    "You can use Input and Output in your homework, and particularly in the projects for the class.\n",
    "\n",
    "One of the major differences in the CS 160 course is that there input and output are much more important."
   ]
  },
  {
   "cell_type": "code",
   "execution_count": 1,
   "id": "957cc4ef-c279-44ca-9307-900a122d6dd5",
   "metadata": {},
   "outputs": [],
   "source": [
    "# a function that checks if the square of an integer is greater than x \n",
    "\n",
    "# The way we will write it:\n",
    "\n",
    "def f(n, x):\n",
    "    \n",
    "    if n**2 > x:\n",
    "        return True\n",
    "    else:\n",
    "        return False"
   ]
  },
  {
   "cell_type": "code",
   "execution_count": 2,
   "id": "6856ce0c-9b39-458e-a8e3-f0bd24288ee4",
   "metadata": {},
   "outputs": [
    {
     "data": {
      "text/plain": [
       "True"
      ]
     },
     "execution_count": 2,
     "metadata": {},
     "output_type": "execute_result"
    }
   ],
   "source": [
    "f(9, 80)"
   ]
  },
  {
   "cell_type": "code",
   "execution_count": 3,
   "id": "57c0d7cd-bf62-47d6-81d7-c1d6b3ccba32",
   "metadata": {},
   "outputs": [],
   "source": [
    "# a function that checks if the square of an integer is greater and prints out the result\n",
    "\n",
    "# if instead you wanted to use a print:\n",
    "\n",
    "def f(n, x):\n",
    "    \n",
    "    if n**2 > x:\n",
    "        print('True')\n",
    "    else:\n",
    "        print('False')"
   ]
  },
  {
   "cell_type": "code",
   "execution_count": 6,
   "id": "225e8d84-e913-413f-bd98-b01193805ff2",
   "metadata": {},
   "outputs": [
    {
     "name": "stdout",
     "output_type": "stream",
     "text": [
      "True\n"
     ]
    }
   ],
   "source": [
    "# Note the subtle difference in how Jupyter displays things.\n",
    "f(9, 80)"
   ]
  },
  {
   "cell_type": "markdown",
   "id": "b00040bf-5020-4b78-9eaa-ae60474c2ca0",
   "metadata": {},
   "source": [
    "## Now you\n",
    "\n",
    "That is the basic structure. Let's use it!!\n",
    "\n",
    "We drop a bowling ball from a window of Ross Hall. Write a (Python) function that computes its height after t seconds. Here is the mathematical function:\n",
    "\n",
    "$$ h(t) = d_0 + v_0 t - \\frac{9.8}{2} t^2 $$\n"
   ]
  },
  {
   "cell_type": "code",
   "execution_count": null,
   "id": "5288cea7-64ae-4655-acb4-c38fdf02ecde",
   "metadata": {},
   "outputs": [],
   "source": [
    "\n",
    "\n",
    "\n"
   ]
  },
  {
   "cell_type": "markdown",
   "id": "815e8da3-67e3-479e-a8df-9044c22c8aed",
   "metadata": {},
   "source": [
    "# Modules \n",
    "\n",
    "So we have learned about built-in function and operators; variables; and learned how to make our own user defined functions. However in many many cases in science and engineering the functions we want to use $\\sin(x)$, $\\cos(x)$, $e^x = \\exp(x)$, $\\log(x)$ etc. are commonly known and used enough that they have been written by someone so we can use them in Python.\n",
    "\n",
    "They are available in what we call *Modules*.  There are thousands of modules for Python, to do specialized tasks in hundreds of fields. \n",
    "\n",
    "For the first module, let's meet *numpy* for *numerical python*. \n",
    "\n",
    "We can load the whole module with import."
   ]
  },
  {
   "cell_type": "code",
   "execution_count": 1,
   "id": "e71d53e4-7a23-4dfa-936f-94d4fbc04098",
   "metadata": {},
   "outputs": [],
   "source": [
    "import numpy"
   ]
  },
  {
   "cell_type": "code",
   "execution_count": 2,
   "id": "8ddc4070-a574-4637-a9c0-185351cd2370",
   "metadata": {},
   "outputs": [
    {
     "data": {
      "text/plain": [
       "0.9320390859672263"
      ]
     },
     "execution_count": 2,
     "metadata": {},
     "output_type": "execute_result"
    }
   ],
   "source": [
    "# we access commands in the module after importing by using the name of the module and a period and then the name of the function\n",
    "\n",
    "numpy.sin(1.2)"
   ]
  },
  {
   "cell_type": "code",
   "execution_count": 3,
   "id": "b0076c4e-e0dc-4181-8290-d710d4586181",
   "metadata": {},
   "outputs": [
    {
     "data": {
      "text/plain": [
       "3.141592653589793"
      ]
     },
     "execution_count": 3,
     "metadata": {},
     "output_type": "execute_result"
    }
   ],
   "source": [
    "# commonly used constants are available\n",
    "\n",
    "numpy.pi"
   ]
  },
  {
   "cell_type": "markdown",
   "id": "de240fb0-1f22-4fd6-a893-c968bca28106",
   "metadata": {},
   "source": [
    "This can get a bit tedious to keep typing *numpy* everytime we need to use a function from numpy so there are two things we can do:"
   ]
  },
  {
   "cell_type": "code",
   "execution_count": 8,
   "id": "e13baf19-d997-4475-92ed-af6b3961d5e0",
   "metadata": {},
   "outputs": [
    {
     "data": {
      "text/plain": [
       "(0.7071067811865475, 0.7071067811865476)"
      ]
     },
     "execution_count": 8,
     "metadata": {},
     "output_type": "execute_result"
    }
   ],
   "source": [
    "# we can give the module an alias:\n",
    "\n",
    "import numpy as np\n",
    "\n",
    "# now we can type np.sin instead of numpy.sin and save ourselves some typing:\n",
    "\n",
    "np.sin(np.pi/4), np.sqrt(2)/2"
   ]
  },
  {
   "cell_type": "code",
   "execution_count": 9,
   "id": "9a3241a8-bb9e-4e50-819a-be80042f6640",
   "metadata": {},
   "outputs": [
    {
     "data": {
      "text/plain": [
       "(0.7071067811865475, 0.7071067811865476)"
      ]
     },
     "execution_count": 9,
     "metadata": {},
     "output_type": "execute_result"
    }
   ],
   "source": [
    "# Or if we are only using a few functions from the module we can import just them with from:\n",
    "\n",
    "from numpy import sin, pi, sqrt\n",
    "\n",
    "sin(pi/4), sqrt(2)/2"
   ]
  },
  {
   "cell_type": "markdown",
   "id": "e35fe40b-820c-41d3-8005-576e4a51bcd8",
   "metadata": {},
   "source": [
    "Note that there are other modules that also have *sin* and *sqrt* defined, and so we might not want to use *from* if we are also using those to avoid losing track of what we are doing. Using the *as* alias method will mean we always know which *sin* we are using. However in many case it will not matter and so the *from* method is fine and saves us a lot of typing."
   ]
  },
  {
   "cell_type": "code",
   "execution_count": null,
   "id": "4c388877-6ae5-4862-84f5-d5a8eec4858a",
   "metadata": {},
   "outputs": [],
   "source": [
    "\n",
    "\n",
    "\n",
    "\n"
   ]
  },
  {
   "cell_type": "markdown",
   "id": "9fd62aa5-1185-4305-bd04-4744485b1f37",
   "metadata": {},
   "source": [
    "### Plotting\n",
    "\n",
    "Let's meet our next module:  matplotlib  this is a module that is used for making plots of functions. \n",
    "\n",
    "It is easiest to demonstrate how it works with an example:"
   ]
  },
  {
   "cell_type": "code",
   "execution_count": 15,
   "id": "117916c8-a266-46f1-8fd5-f6b19cc7d20e",
   "metadata": {},
   "outputs": [],
   "source": [
    "# import the package with an alias\n",
    "\n",
    "import matplotlib.pyplot as plt"
   ]
  },
  {
   "cell_type": "code",
   "execution_count": 11,
   "id": "891c5c4f-c397-4c4e-a844-3780bf1f2fb4",
   "metadata": {},
   "outputs": [
    {
     "data": {
      "text/plain": [
       "[0, 1, 4, 9, 16]"
      ]
     },
     "execution_count": 11,
     "metadata": {},
     "output_type": "execute_result"
    }
   ],
   "source": [
    "# we make two lists:  one list of inputs and one list of outputs; the only rule is that these two lists need to have the same length\n",
    "\n",
    "inputs = [0, 1, 2, 3, 4]\n",
    "outputs = [x**2 for x in inputs ]\n",
    "outputs"
   ]
  },
  {
   "cell_type": "code",
   "execution_count": 13,
   "id": "a0677ae1-4167-465d-9423-9a7623713489",
   "metadata": {},
   "outputs": [
    {
     "data": {
      "text/plain": [
       "True"
      ]
     },
     "execution_count": 13,
     "metadata": {},
     "output_type": "execute_result"
    }
   ],
   "source": [
    "# we can check that the lengths match:\n",
    "# note the double == sign. This means \"is equal?\"  \n",
    "# a single = sign means \"set equal\"\n",
    "\n",
    "len(inputs) == len(outputs)"
   ]
  },
  {
   "cell_type": "code",
   "execution_count": 18,
   "id": "bb803726-6e53-42ac-8345-e9efa7dc3d4e",
   "metadata": {},
   "outputs": [
    {
     "data": {
      "text/plain": [
       "[<matplotlib.lines.Line2D at 0x7f9870073d60>]"
      ]
     },
     "execution_count": 18,
     "metadata": {},
     "output_type": "execute_result"
    },
    {
     "data": {
      "image/png": "[encoded data removed]",
      "text/plain": [
       "<Figure size 432x288 with 1 Axes>"
      ]
     },
     "metadata": {
      "needs_background": "light"
     },
     "output_type": "display_data"
    }
   ],
   "source": [
    "plt.plot(inputs, outputs, 'r.')\n",
    "\n",
    "# The r means what?\n",
    "# The . means what?"
   ]
  },
  {
   "cell_type": "markdown",
   "id": "fb80194e-0989-498f-abbe-7d6e2c319bd5",
   "metadata": {},
   "source": [
    "You can plot a continuous function by breaking your inputs into a fine sequence, which the *numpy.arange* function does for us. Recall that we have imported numpy with an alias of np:"
   ]
  },
  {
   "cell_type": "code",
   "execution_count": 24,
   "id": "77260a61-3758-4a8f-92fe-be4bdea93e46",
   "metadata": {},
   "outputs": [],
   "source": [
    "# The first argument of numpy.arange is the starting point; the second is the ending point; and the third is the distance between each point\n",
    "# in the mesh\n",
    "inputs = np.arange(0, 4, 0.1)\n",
    "outputs = [ x**2 for x in inputs ]"
   ]
  },
  {
   "cell_type": "code",
   "execution_count": 25,
   "id": "577cdd1f-14c7-439c-9e23-7ebdda2925a3",
   "metadata": {},
   "outputs": [
    {
     "data": {
      "text/plain": [
       "array([0. , 0.1, 0.2, 0.3, 0.4, 0.5, 0.6, 0.7, 0.8, 0.9, 1. , 1.1, 1.2,\n",
       "       1.3, 1.4, 1.5, 1.6, 1.7, 1.8, 1.9, 2. , 2.1, 2.2, 2.3, 2.4, 2.5,\n",
       "       2.6, 2.7, 2.8, 2.9, 3. , 3.1, 3.2, 3.3, 3.4, 3.5, 3.6, 3.7, 3.8,\n",
       "       3.9])"
      ]
     },
     "execution_count": 25,
     "metadata": {},
     "output_type": "execute_result"
    }
   ],
   "source": [
    "inputs"
   ]
  },
  {
   "cell_type": "code",
   "execution_count": 26,
   "id": "6da67df3-591c-4973-8bda-0e602b55037c",
   "metadata": {},
   "outputs": [
    {
     "data": {
      "text/plain": [
       "[<matplotlib.lines.Line2D at 0x7f9863d308e0>]"
      ]
     },
     "execution_count": 26,
     "metadata": {},
     "output_type": "execute_result"
    },
    {
     "data": {
      "image/png": "[encoded data removed]",
      "text/plain": [
       "<Figure size 432x288 with 1 Axes>"
      ]
     },
     "metadata": {
      "needs_background": "light"
     },
     "output_type": "display_data"
    }
   ],
   "source": [
    "plt.plot(inputs, outputs, 'r-')"
   ]
  },
  {
   "cell_type": "code",
   "execution_count": null,
   "id": "63e54716-05a9-4d41-8506-a071b9fe2235",
   "metadata": {},
   "outputs": [],
   "source": []
  }
 ],
 "metadata": {
  "kernelspec": {
   "display_name": "Python 3 (ipykernel)",
   "language": "python",
   "name": "python3"
  },
  "language_info": {
   "codemirror_mode": {
    "name": "ipython",
    "version": 3
   },
   "file_extension": ".py",
   "mimetype": "text/x-python",
   "name": "python",
   "nbconvert_exporter": "python",
   "pygments_lexer": "ipython3",
   "version": "3.9.7"
  }
 },
 "nbformat": 4,
 "nbformat_minor": 5
}
