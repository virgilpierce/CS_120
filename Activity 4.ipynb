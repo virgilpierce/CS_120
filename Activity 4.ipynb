{
 "cells": [
  {
   "cell_type": "markdown",
   "id": "0e889f08-bf9a-42a7-a006-943b95c3eb7f",
   "metadata": {},
   "source": [
    "# Activity 4:  Approximating a Square Root\n",
    "\n",
    "Similar to our previous activities, this one is about recreating a function that already exists:  $$\\sqrt{S}$$. \n",
    "\n",
    "This function is in numpy as:"
   ]
  },
  {
   "cell_type": "code",
   "execution_count": 1,
   "id": "f80e6fe1-d0f3-4af7-8aa9-bd95ee7ef9be",
   "metadata": {},
   "outputs": [],
   "source": [
    "from numpy import sqrt"
   ]
  },
  {
   "cell_type": "code",
   "execution_count": 2,
   "id": "23d58255-5f7a-4f28-ad8c-3f7506b5bb68",
   "metadata": {},
   "outputs": [
    {
     "data": {
      "text/plain": [
       "1.4142135623730951"
      ]
     },
     "execution_count": 2,
     "metadata": {},
     "output_type": "execute_result"
    }
   ],
   "source": [
    "sqrt(2)"
   ]
  },
  {
   "cell_type": "markdown",
   "id": "6937ca12-5ddc-4a1f-8777-c95a1d5ade62",
   "metadata": {},
   "source": [
    "There are actually a lot of approaches to approximating square roots with some interesting mathematics contained within them:  https://en.wikipedia.org/wiki/Methods_of_computing_square_roots\n",
    "\n",
    "## Babylonian Method (Herons Method)\n",
    "\n",
    "The idea here is to take an estimate $x$ for $\\sqrt{S}$. This estimate has some error, i.e. there is an $\\epsilon$ such that:\n",
    "\n",
    "$$ x + \\epsilon = \\sqrt{S} $$\n",
    "\n",
    "and therefore some algebra gives us:\n",
    "\n",
    "$$(x+\\epsilon)^2 = S $$\n",
    "\n",
    "and then\n",
    "\n",
    "$$ x^2 + 2 x\\epsilon + \\epsilon^2 = S $$ \n",
    "\n",
    "and solving for $\\epsilon$ \n",
    "\n",
    "$$ \\epsilon = \\frac{S- x^2}{2x + \\epsilon} \\approx = \\frac{S-x^2}{2x} $$\n",
    "\n",
    "We can then add this approximate value for $\\epsilon$ to $x$ to obtain a new estimate:\n",
    "\n",
    "$$ x_{\\mbox{revised}} = x + \\epsilon $$"
   ]
  },
  {
   "cell_type": "markdown",
   "id": "51ecfd02-6162-424a-b3bf-27d8b9f070a7",
   "metadata": {
    "tags": []
   },
   "source": [
    "## Step 1\n",
    "\n",
    "Write a function that revises an estimate of a square root of S using the Babylonian Method\n",
    "\n"
   ]
  },
  {
   "cell_type": "code",
   "execution_count": null,
   "id": "a20167e6-b11c-42ec-957b-72d965774955",
   "metadata": {},
   "outputs": [],
   "source": []
  },
  {
   "cell_type": "markdown",
   "id": "6d13eee5-26f1-4cf4-9e79-c1e171a03ccb",
   "metadata": {},
   "source": [
    "## Step 2\n",
    "\n",
    "Write a second function that takes an intiail estimate, and then computes 5 iterations of the Babylonian Method."
   ]
  },
  {
   "cell_type": "code",
   "execution_count": null,
   "id": "8926596d-d681-4ba6-909d-a92f0ed82f61",
   "metadata": {},
   "outputs": [],
   "source": []
  },
  {
   "cell_type": "markdown",
   "id": "ca54708c-16af-4f20-bc32-9dfcd5bafe41",
   "metadata": {},
   "source": [
    "## Step 3 \n",
    "\n",
    "How can you check how good your approximation is without using the numpy.sqrt()?\n",
    "\n",
    "How many iterations do you need to find the first five digits of $\\sqrt{5}$?"
   ]
  },
  {
   "cell_type": "code",
   "execution_count": null,
   "id": "1b219614-e564-49b0-a6d9-2a7f52bf297d",
   "metadata": {},
   "outputs": [],
   "source": []
  }
 ],
 "metadata": {
  "kernelspec": {
   "display_name": "Python 3 (ipykernel)",
   "language": "python",
   "name": "python3"
  },
  "language_info": {
   "codemirror_mode": {
    "name": "ipython",
    "version": 3
   },
   "file_extension": ".py",
   "mimetype": "text/x-python",
   "name": "python",
   "nbconvert_exporter": "python",
   "pygments_lexer": "ipython3",
   "version": "3.9.5"
  }
 },
 "nbformat": 4,
 "nbformat_minor": 5
}
