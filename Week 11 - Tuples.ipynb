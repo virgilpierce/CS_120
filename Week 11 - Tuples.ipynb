{
 "cells": [
  {
   "cell_type": "markdown",
   "id": "5a72c191-f4a5-4848-b095-e61679c8c0e1",
   "metadata": {},
   "source": [
    "# Review - Memoization\n",
    "\n",
    "Let's look at memoization and discuss what Python is doing:"
   ]
  },
  {
   "cell_type": "code",
   "execution_count": null,
   "id": "21a7865d-f04c-46cf-9585-793d1d6d86c2",
   "metadata": {},
   "outputs": [],
   "source": []
  },
  {
   "cell_type": "markdown",
   "id": "0e4de4a8-2580-4162-8e98-b7471f95a325",
   "metadata": {},
   "source": [
    "# Tuples\n",
    "\n",
    "Chapter 12 in our book.\n",
    "\n",
    "We come to the last built-in data type we will study. Tuples are lists that are immutable. Because mutability is a fundamental feature of lists, and yet passing multiple values at a time is also a useful feature, and using lists as a key in a dictionary is something we would want to do sometimes, the writers of Python created tuples to fill the role of a list that is immutable.\n",
    "\n",
    "Firstly we can define a tuple by just putting values separated by a comma:"
   ]
  },
  {
   "cell_type": "code",
   "execution_count": 1,
   "id": "6af40c31-57e5-4ddf-a7db-8525619cde7f",
   "metadata": {},
   "outputs": [],
   "source": [
    "a = 1, 'dog', 'choloe', [3]"
   ]
  },
  {
   "cell_type": "code",
   "execution_count": 2,
   "id": "ed84ebeb-d78c-4867-8fca-732f1350a12c",
   "metadata": {},
   "outputs": [
    {
     "data": {
      "text/plain": [
       "(1, 'dog', 'choloe', [3])"
      ]
     },
     "execution_count": 2,
     "metadata": {},
     "output_type": "execute_result"
    }
   ],
   "source": [
    "a"
   ]
  },
  {
   "cell_type": "markdown",
   "id": "0f658aa9-842a-4acd-adb9-3ecb917f2ffd",
   "metadata": {},
   "source": [
    "Note that when Python displays a tuple, it does so with parenthesis enclosing the itmes, and it is common for people to define tuples using the parenthesis themselves -- I for one like to have the parenthesis."
   ]
  },
  {
   "cell_type": "code",
   "execution_count": 3,
   "id": "559b33a5-1e47-4588-8f91-68e28f6a7906",
   "metadata": {},
   "outputs": [
    {
     "data": {
      "text/plain": [
       "(50, 25, 20, 10, 1)"
      ]
     },
     "execution_count": 3,
     "metadata": {},
     "output_type": "execute_result"
    }
   ],
   "source": [
    "b = (50, 25, 20, 10, 1)\n",
    "b"
   ]
  },
  {
   "cell_type": "markdown",
   "id": "141ecd51-59df-4e79-856a-d2d161901bcb",
   "metadata": {},
   "source": [
    "Tuples are a lot like lists:"
   ]
  },
  {
   "cell_type": "code",
   "execution_count": 5,
   "id": "3cf2390c-43e7-4be6-b046-a0374cd1be4f",
   "metadata": {},
   "outputs": [
    {
     "data": {
      "text/plain": [
       "10"
      ]
     },
     "execution_count": 5,
     "metadata": {},
     "output_type": "execute_result"
    }
   ],
   "source": [
    "b[3]"
   ]
  },
  {
   "cell_type": "code",
   "execution_count": 6,
   "id": "9eafd40a-8473-47ce-bdee-397706aee0fe",
   "metadata": {},
   "outputs": [
    {
     "data": {
      "text/plain": [
       "(25, 20, 10, 1)"
      ]
     },
     "execution_count": 6,
     "metadata": {},
     "output_type": "execute_result"
    }
   ],
   "source": [
    "b[1:]"
   ]
  },
  {
   "cell_type": "markdown",
   "id": "aa4e2772-c29e-40b3-afea-f622fb4a2d57",
   "metadata": {},
   "source": [
    "However again they are immutable, so something like assigning a value to an element will give an error:"
   ]
  },
  {
   "cell_type": "code",
   "execution_count": 7,
   "id": "09ab9ed0-0871-4fab-9dc4-10920f9c7838",
   "metadata": {},
   "outputs": [
    {
     "ename": "TypeError",
     "evalue": "'tuple' object does not support item assignment",
     "output_type": "error",
     "traceback": [
      "\u001b[0;31m---------------------------------------------------------------------------\u001b[0m",
      "\u001b[0;31mTypeError\u001b[0m                                 Traceback (most recent call last)",
      "\u001b[0;32m<ipython-input-7-d768fd713f88>\u001b[0m in \u001b[0;36m<module>\u001b[0;34m\u001b[0m\n\u001b[0;32m----> 1\u001b[0;31m \u001b[0ma\u001b[0m\u001b[0;34m[\u001b[0m\u001b[0;36m1\u001b[0m\u001b[0;34m]\u001b[0m \u001b[0;34m=\u001b[0m \u001b[0;36m0\u001b[0m\u001b[0;34m\u001b[0m\u001b[0;34m\u001b[0m\u001b[0m\n\u001b[0m",
      "\u001b[0;31mTypeError\u001b[0m: 'tuple' object does not support item assignment"
     ]
    }
   ],
   "source": [
    "a[1] = 0"
   ]
  },
  {
   "cell_type": "markdown",
   "id": "d2f01726-4514-4160-8014-e5e89928926e",
   "metadata": {},
   "source": [
    "Methods for Tuples:"
   ]
  },
  {
   "cell_type": "code",
   "execution_count": 8,
   "id": "f83c5f2e-ea84-4cad-a0c8-d924b9d30123",
   "metadata": {},
   "outputs": [
    {
     "data": {
      "text/plain": [
       "['count', 'index']"
      ]
     },
     "execution_count": 8,
     "metadata": {},
     "output_type": "execute_result"
    }
   ],
   "source": [
    "[x for x in dir(a) if '_' != x[0] ]"
   ]
  },
  {
   "cell_type": "markdown",
   "id": "04bd438f-4053-4324-bd33-938cbef695c4",
   "metadata": {},
   "source": [
    "Why would we need immutable lists?"
   ]
  },
  {
   "cell_type": "code",
   "execution_count": null,
   "id": "7eeb2a14-51eb-4890-ad9b-679c435e6c6f",
   "metadata": {},
   "outputs": [],
   "source": []
  },
  {
   "cell_type": "markdown",
   "id": "aabf6c55-bc07-4446-aa2b-ea131dbcdf33",
   "metadata": {},
   "source": [
    "## Tuples and Assignments\n",
    "\n",
    "One of the big things that tuples accomplish for us is by letting us make multiple assignments at once. For example:"
   ]
  },
  {
   "cell_type": "code",
   "execution_count": 11,
   "id": "4cbed2eb-fa6d-474a-a46c-9b808f177d97",
   "metadata": {},
   "outputs": [],
   "source": [
    "a, b = 1, 2"
   ]
  },
  {
   "cell_type": "code",
   "execution_count": 12,
   "id": "78776621-9103-4ca5-8afd-3104bfe2ed7c",
   "metadata": {},
   "outputs": [
    {
     "data": {
      "text/plain": [
       "1"
      ]
     },
     "execution_count": 12,
     "metadata": {},
     "output_type": "execute_result"
    }
   ],
   "source": [
    "a"
   ]
  },
  {
   "cell_type": "code",
   "execution_count": 13,
   "id": "6b548b35-8f83-438f-8d84-eefd0450d796",
   "metadata": {},
   "outputs": [
    {
     "data": {
      "text/plain": [
       "2"
      ]
     },
     "execution_count": 13,
     "metadata": {},
     "output_type": "execute_result"
    }
   ],
   "source": [
    "b"
   ]
  },
  {
   "cell_type": "markdown",
   "id": "e842e209-0bde-45c1-8d3a-ad8a6e927c6b",
   "metadata": {},
   "source": [
    "What Python has done here is set the tuple (a, b) on the left equal to the tuple on the right by setting a to be the pointer to 1, and b to be the pointer to 2. As a result we can now ask what value a has and we see it returns 1.\n",
    "\n",
    "This let us fix an annoying problem from two weeks ago. Recall our swap function:"
   ]
  },
  {
   "cell_type": "code",
   "execution_count": 14,
   "id": "86f30e83-4f05-4bba-b39c-3a233cac930b",
   "metadata": {},
   "outputs": [],
   "source": [
    "def swap(x, i, j):\n",
    "    y = x.copy()\n",
    "    temp = y[i]\n",
    "    y[i] = y[j]\n",
    "    y[j] = temp\n",
    "    return y\n"
   ]
  },
  {
   "cell_type": "code",
   "execution_count": 15,
   "id": "7a595b6a-83c9-4144-b6a5-683d165c76a9",
   "metadata": {},
   "outputs": [
    {
     "data": {
      "text/plain": [
       "[3, 20, 1, 30, 2]"
      ]
     },
     "execution_count": 15,
     "metadata": {},
     "output_type": "execute_result"
    }
   ],
   "source": [
    "swap([3, 20, 1, 2, 30], 4, 3)"
   ]
  },
  {
   "cell_type": "markdown",
   "id": "4c85d920-f831-440d-b731-526a1194ca3e",
   "metadata": {},
   "source": [
    "It's sort of annoying that we have to do that temp variable business - it adds an extra line and it forces us to define a variable to hold the value of $y[i]$.  Tuples let us write the three assignment lines above as one line, and without having ot use a temporary variable:"
   ]
  },
  {
   "cell_type": "code",
   "execution_count": 16,
   "id": "6c4b8db8-db8d-428e-a700-5337cf013077",
   "metadata": {},
   "outputs": [],
   "source": [
    "def swap(x, i, j):\n",
    "    y = x.copy()\n",
    "    y[i], y[j] = y[j], y[i]\n",
    "    return y"
   ]
  },
  {
   "cell_type": "code",
   "execution_count": 17,
   "id": "2623268a-3936-43f5-a6fa-17e9ac8d0397",
   "metadata": {},
   "outputs": [
    {
     "data": {
      "text/plain": [
       "[3, 20, 1, 30, 2]"
      ]
     },
     "execution_count": 17,
     "metadata": {},
     "output_type": "execute_result"
    }
   ],
   "source": [
    "swap([3, 20, 1, 2, 30], 4, 3)"
   ]
  },
  {
   "cell_type": "markdown",
   "id": "a46e259e-6e35-432f-9d41-1317726f09af",
   "metadata": {},
   "source": [
    "## Tuples and Lists, Sets, Strings, and Dictionaries:\n",
    "\n",
    "We can use the *tuple()* function to convert our other buil-in types to tuples. Try it and see what we get."
   ]
  },
  {
   "cell_type": "code",
   "execution_count": 3,
   "id": "fac4b536-9d6c-419c-9e61-fe91f1de1930",
   "metadata": {},
   "outputs": [
    {
     "data": {
      "text/plain": [
       "dict_items([(1, 0.1), (2, 0.2), (3, [1, 1, 1])])"
      ]
     },
     "execution_count": 3,
     "metadata": {},
     "output_type": "execute_result"
    }
   ],
   "source": [
    "x_dict = {1:0.1, 2:0.2, 3:[1,1,1]}\n",
    "x_dict.items()"
   ]
  },
  {
   "cell_type": "markdown",
   "id": "faa067f8-331a-4823-80b5-8e95bfa48d85",
   "metadata": {},
   "source": [
    "## Passing and Returning Tuples\n",
    "\n",
    "One feature in Python that we have sorted of avoided dealing with is that a function can only return one object. However there are cases where we would want a function to return two things. Suppose for example we want to write a version of our square root function that computes the approximate square root and returns an estimate of the error:"
   ]
  },
  {
   "cell_type": "code",
   "execution_count": 2,
   "id": "4f32a1a1-5530-49af-970c-ef41adbe396d",
   "metadata": {},
   "outputs": [],
   "source": [
    "def sqrt(S):\n",
    "    \n",
    "    x = S/2\n",
    "    e = (S - x**2)/(2*x)\n",
    "    count = 0\n",
    "    while (abs(e) > 10**(-15)) and (count < 20):\n",
    "        x += e\n",
    "        e = (S - x**2)/(2*x)\n",
    "        count += 1\n",
    "        \n",
    "    return x, e"
   ]
  },
  {
   "cell_type": "code",
   "execution_count": 7,
   "id": "ace1a6f8-39bd-4f32-a037-143113164459",
   "metadata": {},
   "outputs": [
    {
     "data": {
      "text/plain": [
       "(1596.8719422671313, -1.4580420476504356e-13)"
      ]
     },
     "execution_count": 7,
     "metadata": {},
     "output_type": "execute_result"
    }
   ],
   "source": [
    "sqrt(2550000)"
   ]
  },
  {
   "cell_type": "markdown",
   "id": "9ac44f00-6eab-46b0-bce1-9c23353fa7f8",
   "metadata": {},
   "source": [
    "However suppose we want to use this to just do something with the square root?"
   ]
  },
  {
   "cell_type": "code",
   "execution_count": 32,
   "id": "eecd6b05-93d4-4ab7-a1bf-bc8537990fcb",
   "metadata": {},
   "outputs": [
    {
     "data": {
      "text/plain": [
       "254.99999999999997"
      ]
     },
     "execution_count": 32,
     "metadata": {},
     "output_type": "execute_result"
    }
   ],
   "source": [
    "sqt, er = sqrt(255)\n",
    "sqt**2"
   ]
  },
  {
   "cell_type": "markdown",
   "id": "f38ced6f-94c6-497c-859f-33dc761d1b5a",
   "metadata": {},
   "source": [
    "Modify our *sqrt* function so it also reports the number of iterations that were needed."
   ]
  },
  {
   "cell_type": "code",
   "execution_count": null,
   "id": "56a9fe29-c495-4afb-966b-3f6be0cc0ecb",
   "metadata": {},
   "outputs": [],
   "source": []
  },
  {
   "cell_type": "markdown",
   "id": "69bcdcc2-87f2-465b-bc0c-836f0eff5f8a",
   "metadata": {},
   "source": [
    "So we are seeing that tuples give us a convenient way to return values from our functions -- numpy functions in particular often have error estimates attached to the values they compute.\n",
    "\n",
    "### Gather\n",
    "\n",
    "However they are also useful for when we are sending values to a function. Suppose we want to write a function, but we don't know how many arguments we will be sending it?\n",
    "\n",
    "This is a feature called *Gather*"
   ]
  },
  {
   "cell_type": "code",
   "execution_count": 39,
   "id": "a775aaae-a742-496e-99de-484b44d075fc",
   "metadata": {},
   "outputs": [],
   "source": [
    "def print_strings(*args):\n",
    "    \n",
    "    for y in args:\n",
    "        if type(y)==str:\n",
    "            print(y)"
   ]
  },
  {
   "cell_type": "code",
   "execution_count": 40,
   "id": "b4d0c8d5-00b3-46ce-aa9b-816fd709fe6c",
   "metadata": {},
   "outputs": [
    {
     "name": "stdout",
     "output_type": "stream",
     "text": [
      "dog\n",
      "cat\n"
     ]
    }
   ],
   "source": [
    "print_strings(3, 'dog', 'cat', [1,2,3])"
   ]
  },
  {
   "cell_type": "markdown",
   "id": "952f20ac-0aed-490d-813a-3fa586a82641",
   "metadata": {},
   "source": [
    "This type of function takes any set of inputs and converts them into a tuple. \n",
    "\n",
    "There are all sorts of things we can then do:\n"
   ]
  },
  {
   "cell_type": "code",
   "execution_count": 41,
   "id": "60b1c140-f315-4bbd-8c6f-4bbfcaa29108",
   "metadata": {},
   "outputs": [],
   "source": [
    "def print_multiple(n, *args):\n",
    "    \n",
    "    for j in range(n):\n",
    "        for y in args:\n",
    "            print(y)\n",
    "            "
   ]
  },
  {
   "cell_type": "code",
   "execution_count": 42,
   "id": "0a7b1c16-3390-440b-ba7d-e73f21581fa7",
   "metadata": {},
   "outputs": [
    {
     "name": "stdout",
     "output_type": "stream",
     "text": [
      "dog\n",
      "cat\n",
      "[1, 2, 3]\n",
      "dog\n",
      "cat\n",
      "[1, 2, 3]\n",
      "dog\n",
      "cat\n",
      "[1, 2, 3]\n"
     ]
    }
   ],
   "source": [
    "print_multiple(3, 'dog', 'cat', [1,2,3])"
   ]
  },
  {
   "cell_type": "markdown",
   "id": "c967fba8-16a7-462b-b6a0-819ca4af9313",
   "metadata": {},
   "source": [
    "### Scatter\n",
    "\n",
    "Similarly sometimes we might want to break a tuple up into its parts. For example if we have a function that expects two arguments:\n"
   ]
  },
  {
   "cell_type": "code",
   "execution_count": 43,
   "id": "1ef2ad44-3b72-4a60-8c84-56df5d4947fc",
   "metadata": {},
   "outputs": [],
   "source": [
    "def print_n(s, n):\n",
    "    \n",
    "    for j in range(n):\n",
    "        print(s)\n",
    "    "
   ]
  },
  {
   "cell_type": "code",
   "execution_count": 44,
   "id": "17ce0742-da09-478a-9cf0-3df9ba238620",
   "metadata": {},
   "outputs": [
    {
     "name": "stdout",
     "output_type": "stream",
     "text": [
      "jack and jill went up the hill\n",
      "jack and jill went up the hill\n",
      "jack and jill went up the hill\n"
     ]
    }
   ],
   "source": [
    "print_n('jack and jill went up the hill', 3)"
   ]
  },
  {
   "cell_type": "markdown",
   "id": "a4efbd37-caa1-4f75-a4f1-d18b34c04068",
   "metadata": {},
   "source": [
    "We might have a tuple that we want to pass to this function:"
   ]
  },
  {
   "cell_type": "code",
   "execution_count": 46,
   "id": "fe9cf12a-1d84-49fc-9a15-70d189c26491",
   "metadata": {},
   "outputs": [
    {
     "ename": "TypeError",
     "evalue": "print_n() missing 1 required positional argument: 'n'",
     "output_type": "error",
     "traceback": [
      "\u001b[0;31m---------------------------------------------------------------------------\u001b[0m",
      "\u001b[0;31mTypeError\u001b[0m                                 Traceback (most recent call last)",
      "\u001b[0;32m<ipython-input-46-11f034822bbc>\u001b[0m in \u001b[0;36m<module>\u001b[0;34m\u001b[0m\n\u001b[1;32m      1\u001b[0m \u001b[0minstructions\u001b[0m \u001b[0;34m=\u001b[0m \u001b[0;34m(\u001b[0m\u001b[0;34m\"let's print this a few times\"\u001b[0m\u001b[0;34m,\u001b[0m \u001b[0;36m20\u001b[0m\u001b[0;34m)\u001b[0m\u001b[0;34m\u001b[0m\u001b[0;34m\u001b[0m\u001b[0m\n\u001b[1;32m      2\u001b[0m \u001b[0;34m\u001b[0m\u001b[0m\n\u001b[0;32m----> 3\u001b[0;31m \u001b[0mprint_n\u001b[0m\u001b[0;34m(\u001b[0m\u001b[0minstructions\u001b[0m\u001b[0;34m)\u001b[0m\u001b[0;34m\u001b[0m\u001b[0;34m\u001b[0m\u001b[0m\n\u001b[0m",
      "\u001b[0;31mTypeError\u001b[0m: print_n() missing 1 required positional argument: 'n'"
     ]
    }
   ],
   "source": [
    "instructions = (\"let's print this a few times\", 20)\n",
    "\n",
    "print_n(instructions)"
   ]
  },
  {
   "cell_type": "code",
   "execution_count": 47,
   "id": "fe6143a1-08ce-4ddc-91cb-33ddb810c3c6",
   "metadata": {},
   "outputs": [
    {
     "name": "stdout",
     "output_type": "stream",
     "text": [
      "let's print this a few times\n",
      "let's print this a few times\n",
      "let's print this a few times\n",
      "let's print this a few times\n",
      "let's print this a few times\n",
      "let's print this a few times\n",
      "let's print this a few times\n",
      "let's print this a few times\n",
      "let's print this a few times\n",
      "let's print this a few times\n",
      "let's print this a few times\n",
      "let's print this a few times\n",
      "let's print this a few times\n",
      "let's print this a few times\n",
      "let's print this a few times\n",
      "let's print this a few times\n",
      "let's print this a few times\n",
      "let's print this a few times\n",
      "let's print this a few times\n",
      "let's print this a few times\n"
     ]
    }
   ],
   "source": [
    "# We can user a scatter expression:\n",
    "\n",
    "print_n(*instructions)"
   ]
  },
  {
   "cell_type": "code",
   "execution_count": null,
   "id": "b4f1e506-472f-483a-bce8-3d4efef20a4c",
   "metadata": {},
   "outputs": [],
   "source": []
  }
 ],
 "metadata": {
  "kernelspec": {
   "display_name": "Python 3 (ipykernel)",
   "language": "python",
   "name": "python3"
  },
  "language_info": {
   "codemirror_mode": {
    "name": "ipython",
    "version": 3
   },
   "file_extension": ".py",
   "mimetype": "text/x-python",
   "name": "python",
   "nbconvert_exporter": "python",
   "pygments_lexer": "ipython3",
   "version": "3.9.7"
  }
 },
 "nbformat": 4,
 "nbformat_minor": 5
}
