{
 "cells": [
  {
   "cell_type": "markdown",
   "id": "8bb772cf-ba98-4ccf-b31c-8e11af7f7d78",
   "metadata": {},
   "source": [
    "# Activity 1\n",
    "\n",
    "We have a couple of syntax things to explore:\n",
    "\n",
    "1. You have seen a few variables defined so far. There are a few rules about what we can name variables. Play around with some examples and see if you can find some variable names that Python will not let you use; and ultimately let's see if we can figure out what the rules are."
   ]
  },
  {
   "cell_type": "code",
   "execution_count": null,
   "id": "a43d83f7-c7bd-45e3-9e2e-9bec6bee3564",
   "metadata": {},
   "outputs": [],
   "source": []
  },
  {
   "cell_type": "markdown",
   "id": "c8a1b116-5c7e-4c92-8645-fb4a6540bf3f",
   "metadata": {},
   "source": [
    "2. Operations on numbers:  We have seen a few examples of operations we can do with numbers. Determine, by experimenting, what these symbols do to two numbers; you may want to try a mix of integers and floats:\n",
    "\n",
    "- +\n",
    "\n",
    "- -\n",
    "\n",
    "- *\n",
    "\n",
    "- /\n",
    "\n",
    "- //\n",
    "\n",
    "- %\n",
    "\n",
    "- **\n",
    "\n",
    "\n",
    "Note that the symbol ^ does do something to numbers, but it is beyond the scope of this class, unless you want to look into it for a project, to get into exactly what it is doing."
   ]
  },
  {
   "cell_type": "code",
   "execution_count": null,
   "id": "b861acbb-46c5-41b0-8dba-0db959659579",
   "metadata": {},
   "outputs": [],
   "source": []
  },
  {
   "cell_type": "markdown",
   "id": "01ab2081-82eb-4ce6-ab01-3d7e85a46d59",
   "metadata": {},
   "source": [
    "3. Write a function giving the height of a bowling ball t seconds after being dropped from a window in Ross.\n",
    "\n",
    "$$ h(t) = d_0 + v_0 t - \\frac{9.8}{2} t^2 $$"
   ]
  },
  {
   "cell_type": "code",
   "execution_count": null,
   "id": "33121d2a-abcd-4125-ae35-9daf521f2a6e",
   "metadata": {},
   "outputs": [],
   "source": []
  },
  {
   "cell_type": "markdown",
   "id": "8a2a156c-faba-4a65-b73c-89abe2ea4bbe",
   "metadata": {},
   "source": [
    "4. Use *matplotlib.pyplot* to plot a graph of your ball falling for a couple of initial velocities.\n"
   ]
  },
  {
   "cell_type": "code",
   "execution_count": null,
   "id": "5a423882-04b6-497c-bad1-05247bb7ac0b",
   "metadata": {},
   "outputs": [],
   "source": []
  }
 ],
 "metadata": {
  "kernelspec": {
   "display_name": "Python 3 (ipykernel)",
   "language": "python",
   "name": "python3"
  },
  "language_info": {
   "codemirror_mode": {
    "name": "ipython",
    "version": 3
   },
   "file_extension": ".py",
   "mimetype": "text/x-python",
   "name": "python",
   "nbconvert_exporter": "python",
   "pygments_lexer": "ipython3",
   "version": "3.9.7"
  }
 },
 "nbformat": 4,
 "nbformat_minor": 5
}
