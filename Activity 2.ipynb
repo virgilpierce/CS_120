{
 "cells": [
  {
   "cell_type": "markdown",
   "id": "08bd66e1-dfe9-4a16-8341-d22ee5b6ac34",
   "metadata": {},
   "source": [
    "# Activity 2\n",
    "\n"
   ]
  },
  {
   "cell_type": "markdown",
   "id": "2ad1137c-8b09-476f-8be0-a6890243ac0c",
   "metadata": {},
   "source": [
    "## 1. Gradians\n",
    "\n",
    "You have probably learned about Radians and Degrees as two ways of measuring angles. What you might not be aware of is that there are actually many different units we might use for measuring angles. \n",
    "\n",
    "https://en.wikipedia.org/wiki/Degree_(angle)#Alternative_units\n",
    "\n",
    "For example the French Army uses a unit called **gradian** for which a right angle measures 100 Gradians (abbreviated gons). \n",
    "\n",
    "Maybe not surprisingly, the trigonometric functions in *numpy* use **radians** as their unit of angle (for which a right angle measures $\\pi/2$ radians (abbreviated rad). Radians are intuitive because they give the arc length of the unit circle swept out by the corresponding angle. However Gradians are nice because, ..., well no $\\pi$!!\n",
    "\n",
    "We can convert a gradian mesurment: $x$ into a radian measurment by computing the ratio $x \\frac{\\pi}{200} $ (why?).\n",
    "\n",
    "Write Python functions using the numpy sin, cos, and tan that will return the sin, cos, or tan of an angle measured in **gradians**"
   ]
  },
  {
   "cell_type": "markdown",
   "id": "88ee5fff-c744-4ca0-9a20-3a0bb17086b4",
   "metadata": {},
   "source": [
    "## 2. Plotting \n",
    "\n",
    "Make plots of your bowling ball height and trig functions using *matplotlib.pyplot*.  "
   ]
  },
  {
   "cell_type": "code",
   "execution_count": null,
   "id": "4bb5c1ea-7587-459a-9c38-e637688f79f7",
   "metadata": {},
   "outputs": [],
   "source": []
  }
 ],
 "metadata": {
  "kernelspec": {
   "display_name": "Python 3 (ipykernel)",
   "language": "python",
   "name": "python3"
  },
  "language_info": {
   "codemirror_mode": {
    "name": "ipython",
    "version": 3
   },
   "file_extension": ".py",
   "mimetype": "text/x-python",
   "name": "python",
   "nbconvert_exporter": "python",
   "pygments_lexer": "ipython3",
   "version": "3.9.7"
  }
 },
 "nbformat": 4,
 "nbformat_minor": 5
}
