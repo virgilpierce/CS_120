{
 "cells": [
  {
   "cell_type": "markdown",
   "id": "986c66c8-411b-4d03-af24-cc7eef68e98f",
   "metadata": {},
   "source": [
    "\n",
    "## What do we need to do to compute Factorial?\n"
   ]
  },
  {
   "cell_type": "code",
   "execution_count": 8,
   "id": "eae4d088-bc9f-4f7d-a253-eaabfbbad88d",
   "metadata": {},
   "outputs": [],
   "source": [
    "def factorial(n):\n",
    "    \n",
    "    if type(n)!=int:\n",
    "        print(n, 'is not an integer.')\n",
    "        return None\n",
    "    elif n<=1:\n",
    "        return 1\n",
    "    else:\n",
    "        return n*factorial(n-1)\n"
   ]
  },
  {
   "cell_type": "markdown",
   "id": "506047f7-e99c-4347-87a3-adbbd65b4b31",
   "metadata": {},
   "source": [
    "I've made a couple of changes to the function we wrote last week:\n",
    "\n",
    "1. What is the *elif* doing in this function?\n",
    "\n",
    "2. Note that I have changed our error handling here. We now print a message about the error; and then the function returns the keyword *None*.  This is a subtle difference from what we had in class last week."
   ]
  },
  {
   "cell_type": "code",
   "execution_count": 14,
   "id": "7b5b0deb-2809-4a4d-afe9-d1ec7798f8ca",
   "metadata": {},
   "outputs": [
    {
     "name": "stdout",
     "output_type": "stream",
     "text": [
      "5.2 is not an integer.\n"
     ]
    }
   ],
   "source": [
    "factorial(5.2)\n",
    "\n",
    "# we get a message printed to what is called \"Standard Output\" -- which for Jupyter is just the line below the cell."
   ]
  },
  {
   "cell_type": "code",
   "execution_count": 15,
   "id": "6c2c0fc6-5c15-4745-b648-98c29e65d2a4",
   "metadata": {},
   "outputs": [
    {
     "name": "stdout",
     "output_type": "stream",
     "text": [
      "5.2 is not an integer.\n"
     ]
    },
    {
     "data": {
      "text/plain": [
       "True"
      ]
     },
     "execution_count": 15,
     "metadata": {},
     "output_type": "execute_result"
    }
   ],
   "source": [
    "factorial(5.2) == None\n",
    "\n",
    "# However the actual value the function returns is None."
   ]
  },
  {
   "cell_type": "markdown",
   "id": "89ae25fd-47b9-4ef8-a7f5-d0ba5530bf70",
   "metadata": {},
   "source": [
    "### What other error messages do we want our function to return?"
   ]
  },
  {
   "cell_type": "code",
   "execution_count": null,
   "id": "763163f6-3f6f-4b4b-88fe-5764aad73ade",
   "metadata": {},
   "outputs": [],
   "source": []
  },
  {
   "cell_type": "markdown",
   "id": "3584742d-29ee-4eec-83e5-b726412f8812",
   "metadata": {},
   "source": [
    "## Other features of functions we should start using\n",
    "\n",
    "### Doc strings\n",
    "\n",
    "So you might have noticed that if you type a ? mark after a function (or object) sometimes you get some information about it."
   ]
  },
  {
   "cell_type": "code",
   "execution_count": 16,
   "id": "83c7b091-ec7c-47de-8416-c5819f65bccd",
   "metadata": {},
   "outputs": [
    {
     "data": {
      "text/plain": [
       "\u001b[0;31mInit signature:\u001b[0m \u001b[0mtype\u001b[0m\u001b[0;34m(\u001b[0m\u001b[0mself\u001b[0m\u001b[0;34m,\u001b[0m \u001b[0;34m/\u001b[0m\u001b[0;34m,\u001b[0m \u001b[0;34m*\u001b[0m\u001b[0margs\u001b[0m\u001b[0;34m,\u001b[0m \u001b[0;34m**\u001b[0m\u001b[0mkwargs\u001b[0m\u001b[0;34m)\u001b[0m\u001b[0;34m\u001b[0m\u001b[0;34m\u001b[0m\u001b[0m\n",
       "\u001b[0;31mDocstring:\u001b[0m     \n",
       "type(object_or_name, bases, dict)\n",
       "type(object) -> the object's type\n",
       "type(name, bases, dict) -> a new type\n",
       "\u001b[0;31mType:\u001b[0m           type\n",
       "\u001b[0;31mSubclasses:\u001b[0m     ABCMeta, EnumMeta, NamedTupleMeta, _TypedDictMeta, _ABC, MetaHasDescriptors, LexerMeta, StyleMeta, _NormalizerMeta, PyCStructType, ...\n"
      ]
     },
     "metadata": {},
     "output_type": "display_data"
    }
   ],
   "source": [
    "type?"
   ]
  },
  {
   "cell_type": "markdown",
   "id": "e1a73d45-c713-4e91-906b-50de9824ad34",
   "metadata": {},
   "source": [
    "The *Init signature* is what follows the def in the definition of the function.\n",
    "\n",
    "The *Docstring* field is information that is entered as a comment immediately after the signature line:"
   ]
  },
  {
   "cell_type": "code",
   "execution_count": 18,
   "id": "1acef7ce-2b7d-4c4c-8e44-cb39b853a2a1",
   "metadata": {},
   "outputs": [],
   "source": [
    "def factorial(n):\n",
    "    '''\n",
    "    Factorial function produces n! when given an integer value.\n",
    "    '''\n",
    "\n",
    "    if type(n)!=int:\n",
    "        print(n, 'is not an integer.')\n",
    "        return None\n",
    "    elif n<=1:\n",
    "        return 1\n",
    "    else:\n",
    "        return n*factorial(n-1)"
   ]
  },
  {
   "cell_type": "code",
   "execution_count": 19,
   "id": "8bbc0560-b4b0-4b9d-bbde-603157834912",
   "metadata": {},
   "outputs": [
    {
     "data": {
      "text/plain": [
       "\u001b[0;31mSignature:\u001b[0m \u001b[0mfactorial\u001b[0m\u001b[0;34m(\u001b[0m\u001b[0mn\u001b[0m\u001b[0;34m)\u001b[0m\u001b[0;34m\u001b[0m\u001b[0;34m\u001b[0m\u001b[0m\n",
       "\u001b[0;31mDocstring:\u001b[0m Factorial function produces n! when given an integer value.\n",
       "\u001b[0;31mFile:\u001b[0m      ~/Documents/GitHub/CS_120/<ipython-input-18-40e49afed407>\n",
       "\u001b[0;31mType:\u001b[0m      function\n"
      ]
     },
     "metadata": {},
     "output_type": "display_data"
    }
   ],
   "source": [
    "# You can access the doc string with ?\n",
    "\n",
    "factorial?"
   ]
  },
  {
   "cell_type": "code",
   "execution_count": 21,
   "id": "7725c7ab-ee45-4c13-b743-111f8a4238fa",
   "metadata": {},
   "outputs": [
    {
     "name": "stdout",
     "output_type": "stream",
     "text": [
      "Help on function factorial in module __main__:\n",
      "\n",
      "factorial(n)\n",
      "    Factorial function produces n! when given an integer value.\n",
      "\n"
     ]
    }
   ],
   "source": [
    "# You can also get the doc string with the help() function\n",
    "\n",
    "help(factorial)"
   ]
  },
  {
   "cell_type": "markdown",
   "id": "f47d87aa-5565-4781-9e3b-e36f809c83e5",
   "metadata": {},
   "source": [
    "### Producing Error Messages\n",
    "\n",
    "We might want our function to produce a formal error message, like Python does when we annoy it."
   ]
  },
  {
   "cell_type": "code",
   "execution_count": 22,
   "id": "1a0aade2-22d4-4dd4-9e60-718f95faa5da",
   "metadata": {},
   "outputs": [
    {
     "ename": "NameError",
     "evalue": "name 'f' is not defined",
     "output_type": "error",
     "traceback": [
      "\u001b[0;31m---------------------------------------------------------------------------\u001b[0m",
      "\u001b[0;31mNameError\u001b[0m                                 Traceback (most recent call last)",
      "\u001b[0;32m<ipython-input-22-9b1b2ea71b9c>\u001b[0m in \u001b[0;36m<module>\u001b[0;34m\u001b[0m\n\u001b[0;32m----> 1\u001b[0;31m \u001b[0mtype\u001b[0m\u001b[0;34m(\u001b[0m\u001b[0mf\u001b[0m\u001b[0;34m)\u001b[0m\u001b[0;34m\u001b[0m\u001b[0;34m\u001b[0m\u001b[0m\n\u001b[0m",
      "\u001b[0;31mNameError\u001b[0m: name 'f' is not defined"
     ]
    }
   ],
   "source": [
    "type(f)"
   ]
  },
  {
   "cell_type": "markdown",
   "id": "45c66f9b-da13-4df3-a719-34a8600a8ba4",
   "metadata": {},
   "source": [
    "We can actually have our function produce these kind of messages rather than just a simple print() output.\n",
    "\n",
    "For now we need to use existing types of errors, but luckily one of the predefined ones is *ValueError* which is exactly what we have happening here.  It is possible to make your own types of errors if you need them, but it is a topic for a later class."
   ]
  },
  {
   "cell_type": "code",
   "execution_count": 38,
   "id": "2772a828-17ac-4016-9d6e-549c33a14070",
   "metadata": {},
   "outputs": [],
   "source": [
    "def factorial(n):\n",
    "    '''\n",
    "    Factorial function produces n! when given an integer value.\n",
    "    '''\n",
    "\n",
    "    if type(n)!=int:\n",
    "        raise ValueError('{} is not an integer.'.format(n))\n",
    "    elif n<=1:\n",
    "        return 1\n",
    "    else:\n",
    "        return n*factorial(n-1)"
   ]
  },
  {
   "cell_type": "code",
   "execution_count": 39,
   "id": "f83c6d7f-9ff6-449e-9122-031ea1388f1d",
   "metadata": {},
   "outputs": [
    {
     "ename": "ValueError",
     "evalue": "1.1 is not an integer.",
     "output_type": "error",
     "traceback": [
      "\u001b[0;31m---------------------------------------------------------------------------\u001b[0m",
      "\u001b[0;31mValueError\u001b[0m                                Traceback (most recent call last)",
      "\u001b[0;32m<ipython-input-39-7adb15c844a2>\u001b[0m in \u001b[0;36m<module>\u001b[0;34m\u001b[0m\n\u001b[0;32m----> 1\u001b[0;31m \u001b[0mfactorial\u001b[0m\u001b[0;34m(\u001b[0m\u001b[0;36m1.1\u001b[0m\u001b[0;34m)\u001b[0m\u001b[0;34m\u001b[0m\u001b[0;34m\u001b[0m\u001b[0m\n\u001b[0m",
      "\u001b[0;32m<ipython-input-38-c4ab4e767b3d>\u001b[0m in \u001b[0;36mfactorial\u001b[0;34m(n)\u001b[0m\n\u001b[1;32m      5\u001b[0m \u001b[0;34m\u001b[0m\u001b[0m\n\u001b[1;32m      6\u001b[0m     \u001b[0;32mif\u001b[0m \u001b[0mtype\u001b[0m\u001b[0;34m(\u001b[0m\u001b[0mn\u001b[0m\u001b[0;34m)\u001b[0m\u001b[0;34m!=\u001b[0m\u001b[0mint\u001b[0m\u001b[0;34m:\u001b[0m\u001b[0;34m\u001b[0m\u001b[0;34m\u001b[0m\u001b[0m\n\u001b[0;32m----> 7\u001b[0;31m         \u001b[0;32mraise\u001b[0m \u001b[0mValueError\u001b[0m\u001b[0;34m(\u001b[0m\u001b[0;34m'{} is not an integer.'\u001b[0m\u001b[0;34m.\u001b[0m\u001b[0mformat\u001b[0m\u001b[0;34m(\u001b[0m\u001b[0mn\u001b[0m\u001b[0;34m)\u001b[0m\u001b[0;34m)\u001b[0m\u001b[0;34m\u001b[0m\u001b[0;34m\u001b[0m\u001b[0m\n\u001b[0m\u001b[1;32m      8\u001b[0m     \u001b[0;32melif\u001b[0m \u001b[0mn\u001b[0m\u001b[0;34m<=\u001b[0m\u001b[0;36m1\u001b[0m\u001b[0;34m:\u001b[0m\u001b[0;34m\u001b[0m\u001b[0;34m\u001b[0m\u001b[0m\n\u001b[1;32m      9\u001b[0m         \u001b[0;32mreturn\u001b[0m \u001b[0;36m1\u001b[0m\u001b[0;34m\u001b[0m\u001b[0;34m\u001b[0m\u001b[0m\n",
      "\u001b[0;31mValueError\u001b[0m: 1.1 is not an integer."
     ]
    }
   ],
   "source": [
    "factorial(1.1)"
   ]
  },
  {
   "cell_type": "markdown",
   "id": "5d810d43-d98b-415b-8a1c-8f4417e369a9",
   "metadata": {},
   "source": [
    "Note that *raise* brings the function to a halt and so we do not need a return. In fact in a sense the function returns the error raised and the message attached to it."
   ]
  },
  {
   "cell_type": "code",
   "execution_count": null,
   "id": "df356038-edec-49f8-9f79-e7a7f1acf2f1",
   "metadata": {},
   "outputs": [],
   "source": [
    "\n",
    "\n",
    "\n",
    "\n",
    "\n"
   ]
  },
  {
   "cell_type": "markdown",
   "id": "08bee277-b841-4f2f-b3c3-e0d2ca0a90c1",
   "metadata": {},
   "source": [
    "# Writing a Function for Fibonacci Sequence\n",
    "\n",
    "The fibonacci sequence is defined via the recursive definition (note we use the same word for both the mathematics and the programming!):\n",
    "\n",
    "$$ x_{n} = x_{n-1} + x_{n-2} $$\n",
    "\n",
    "Of course the sequence has to be seeded by two values. Typically these are $$x_0 = 0$$ and $$x_1 = 1$$.\n",
    "\n",
    "For example then:  $$x_2 = x_1 + x_0 = 1 $$ and \n",
    "\n",
    "$$ x_3 = x_2 + x_1 = 1 + 1 = 2 $$\n",
    "\n",
    "Let's define a function that computes the value of $$x_n$$ for a given n.\n",
    "\n",
    "## Leap of Faith\n",
    "\n",
    "What our book calls a *Leap of Faith* is the first part of writing a function:  We write the function assuming that the input is correct. "
   ]
  },
  {
   "cell_type": "code",
   "execution_count": null,
   "id": "b37e925a-b467-4e55-8e97-8729218d7578",
   "metadata": {},
   "outputs": [],
   "source": [
    "\n",
    "\n",
    "\n",
    "\n",
    "\n"
   ]
  },
  {
   "cell_type": "markdown",
   "id": "cbd0ab01-95bb-4028-9b25-259a76e9aed3",
   "metadata": {},
   "source": [
    "## Next add a Docstring\n",
    "\n",
    "\n",
    "## Error Checking and Handling\n",
    "\n",
    "Now the final step is making sure our function produces meaningful output or error messages when the input is not correct. Add ValueError messages to your function to deal with the cases when the input is incorrect.\n",
    "\n"
   ]
  },
  {
   "cell_type": "code",
   "execution_count": null,
   "id": "bb015b9c-8d02-4664-8e5b-0affac7d905d",
   "metadata": {},
   "outputs": [],
   "source": []
  },
  {
   "cell_type": "code",
   "execution_count": null,
   "id": "51cd6c79-aea7-4650-b3c8-989c08065424",
   "metadata": {},
   "outputs": [],
   "source": []
  }
 ],
 "metadata": {
  "kernelspec": {
   "display_name": "Python 3 (ipykernel)",
   "language": "python",
   "name": "python3"
  },
  "language_info": {
   "codemirror_mode": {
    "name": "ipython",
    "version": 3
   },
   "file_extension": ".py",
   "mimetype": "text/x-python",
   "name": "python",
   "nbconvert_exporter": "python",
   "pygments_lexer": "ipython3",
   "version": "3.9.7"
  }
 },
 "nbformat": 4,
 "nbformat_minor": 5
}
