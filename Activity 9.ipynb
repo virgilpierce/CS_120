{
 "cells": [
  {
   "cell_type": "markdown",
   "id": "2638682c-3d22-422f-abb4-cad8d63d2ade",
   "metadata": {},
   "source": [
    "# Activity - 9:  Swapping and Mutability\n",
    "\n",
    "Today we will explore the possibilities available from the mutability of lists. Using an example of a couple of common operations we would want to do with a list of things that are comparable (numbers or strings).\n",
    "\n",
    "## 1 - Swap:\n",
    "Write a function called *swap* that takes a list x, and two indices i and j as inputs and returns a new list that is x but with the elements in position i and j swapped. Be careful to do this in a way that the original list is not changed. Verify that after the call the original list is the same as it was."
   ]
  },
  {
   "cell_type": "code",
   "execution_count": null,
   "id": "62840c18-fcfd-4d17-bc6c-96abf3175549",
   "metadata": {},
   "outputs": [],
   "source": []
  },
  {
   "cell_type": "markdown",
   "id": "bd17d237-8af2-473d-a407-ac0bca04e77e",
   "metadata": {},
   "source": [
    "## 2 - Swap - in place:\n",
    "We could however write our swap function so that instead of returning a new list, it manipulates the list it is passed and makes the change in place. Write a function called *swap_in_place* that takes the same inputs but now does not return anything and instead modifies the list x. "
   ]
  },
  {
   "cell_type": "code",
   "execution_count": null,
   "id": "a9e09498-57fe-4f37-b884-41d19c2ef374",
   "metadata": {},
   "outputs": [],
   "source": []
  },
  {
   "cell_type": "markdown",
   "id": "f66e94e6-734b-4a3e-9091-a98724731216",
   "metadata": {},
   "source": [
    "## 3 - What does this do\n",
    "\n",
    "Implement the following algorithm using swap, call it the function *f* and it should take a list *x* as input and return a new list without modifying x:\n",
    "\n",
    "f(x) where x is a list: <br>\n",
    "let n = length(x) <br>\n",
    "for i from 0 to n-1 <br>\n",
    "&nbsp;&nbsp; for j from i+1 to n-1 <br>\n",
    "&nbsp;&nbsp;&nbsp;&nbsp; if x[i] > x[j] then swap x[i] with x[j].\n",
    "\n",
    "Once you have coded the algorithm, decide what it does. Can you explain why it works?  "
   ]
  },
  {
   "cell_type": "code",
   "execution_count": null,
   "id": "bc95e4d5-f725-464a-a117-c0816e648df1",
   "metadata": {},
   "outputs": [],
   "source": []
  },
  {
   "cell_type": "markdown",
   "id": "d05820ea-819f-4cf7-b09b-240708173271",
   "metadata": {},
   "source": [
    "## 4 - In place\n",
    "\n",
    "Redo the function above but have it modify the list x in place. Call it *f_inplace*. \n",
    "\n",
    "What are the differences between f and f_inplace beyond just using or not using mutability?  Does one use more memory? Does one use more steps?\n"
   ]
  },
  {
   "cell_type": "code",
   "execution_count": null,
   "id": "f33a89e9-dadf-4cf9-9439-33ebcbb442c0",
   "metadata": {},
   "outputs": [],
   "source": []
  }
 ],
 "metadata": {
  "kernelspec": {
   "display_name": "Python 3 (ipykernel)",
   "language": "python",
   "name": "python3"
  },
  "language_info": {
   "codemirror_mode": {
    "name": "ipython",
    "version": 3
   },
   "file_extension": ".py",
   "mimetype": "text/x-python",
   "name": "python",
   "nbconvert_exporter": "python",
   "pygments_lexer": "ipython3",
   "version": "3.9.5"
  }
 },
 "nbformat": 4,
 "nbformat_minor": 5
}
