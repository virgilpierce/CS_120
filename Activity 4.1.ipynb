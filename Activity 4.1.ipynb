{
 "cells": [
  {
   "cell_type": "markdown",
   "id": "0e889f08-bf9a-42a7-a006-943b95c3eb7f",
   "metadata": {},
   "source": [
    "# Activity 4.1:  Euclidean Algorithm\n",
    "\n",
    "The Euclidean Algorithm is a method for computing the greatest common divisor of two numbers. \n",
    "\n",
    "Suppose we are given 1345 and 75 and asked to find the greatest common divisor of them:\n",
    "\n",
    "1. We compute the relationship: 1345 == 17 * 75 + 70\n",
    "2. We then replace 1345 with 75 and 75 with 70 to compute: 75 = 1 * 70 + 5\n",
    "3. Finally we replace 75 with 70 and 70 with 5 to compute: 70 = 14 * 5 + 0\n",
    "\n",
    "This works because the gcd(1345, 75) = gcd(75, 70) = gcd(70, 5) = gcd(5, 0) = 5\n",
    "\n",
    "What we want to do today is write a function that implements the Euclidean Algorithm and produces the gcd of two numbers.\n",
    "\n",
    "Note that there is a gcd function already written in *numpy* but let's not use that, and there is probably one written in other modules. The point is to write our own."
   ]
  },
  {
   "cell_type": "code",
   "execution_count": null,
   "id": "f80e6fe1-d0f3-4af7-8aa9-bd95ee7ef9be",
   "metadata": {},
   "outputs": [],
   "source": []
  }
 ],
 "metadata": {
  "kernelspec": {
   "display_name": "Python 3 (ipykernel)",
   "language": "python",
   "name": "python3"
  },
  "language_info": {
   "codemirror_mode": {
    "name": "ipython",
    "version": 3
   },
   "file_extension": ".py",
   "mimetype": "text/x-python",
   "name": "python",
   "nbconvert_exporter": "python",
   "pygments_lexer": "ipython3",
   "version": "3.9.5"
  }
 },
 "nbformat": 4,
 "nbformat_minor": 5
}
