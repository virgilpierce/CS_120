{
 "cells": [
  {
   "cell_type": "markdown",
   "id": "68b85d04-4473-4957-978d-b9216bea9157",
   "metadata": {},
   "source": [
    "# Homework 6 - Loops and Lists\n",
    "\n",
    "Read Chapter 7 in the textbook.\n",
    "\n",
    "1. Another approximation of $\\pi$ that derived by Madhava of Sangamagrama is the infinite series:\n",
    "\n",
    "$$ \\pi = \\sqrt{12} \\sum_{k=0}^{\\infty} \\frac{(-3)^{-k}}{2k+1} $$ \n",
    "\n",
    "Write a while loop that finds the first term that is less than $10^{-15}$.\n",
    "\n",
    "2. Use a list generator to add up the terms to that point to get an approximation of $\\pi$.\n",
    "\n",
    "3. Write a for loop to find the first 20 terms of the fibonacci sequence: $x_0 = 1$, $x_1 = 1$, and \n",
    "\n",
    "$$ x_{n+1} = x_n + x_{n-1} $$\n",
    "\n",
    "4. Given a sequence of numbers $a_n$ the continued fraction of the sequence is found by:\n",
    "\n",
    "$$ x = a_0 + \\frac{1}{a_1 + \\frac{1}{a_2 + \\frac{1}{a_3 + \\dots} } }$$\n",
    "\n",
    "Write a function that takes a finite sequence and finds the continued fraction of it. Find the continued fraction of the fibonacci sequence in 3."
   ]
  },
  {
   "cell_type": "code",
   "execution_count": null,
   "id": "47454493-ede4-47f5-aa96-13fed2c233b2",
   "metadata": {},
   "outputs": [],
   "source": []
  }
 ],
 "metadata": {
  "kernelspec": {
   "display_name": "Python 3 (ipykernel)",
   "language": "python",
   "name": "python3"
  },
  "language_info": {
   "codemirror_mode": {
    "name": "ipython",
    "version": 3
   },
   "file_extension": ".py",
   "mimetype": "text/x-python",
   "name": "python",
   "nbconvert_exporter": "python",
   "pygments_lexer": "ipython3",
   "version": "3.9.7"
  }
 },
 "nbformat": 4,
 "nbformat_minor": 5
}
