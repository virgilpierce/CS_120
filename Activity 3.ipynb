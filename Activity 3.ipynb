{
 "cells": [
  {
   "cell_type": "markdown",
   "id": "0e889f08-bf9a-42a7-a006-943b95c3eb7f",
   "metadata": {},
   "source": [
    "# Activity 3:  Factorial and Odd Factorial\n",
    "\n",
    "The Factorial function takes an integer and returns the result of multiplying that integer and each previous integer down to 1 together. \n",
    "\n",
    "1! = 1\n",
    "2! = 2\n",
    "3! = 6 \n",
    "\n",
    "and so on.\n",
    "\n",
    "1. Write a function that returns the factorial of an integer. Note that we may be missing something we need to make this function work, what do we need?\n",
    "\n",
    "Be sure to test it!  \n",
    "\n",
    "2. See if you can break your function!\n",
    "\n",
    "\n",
    "\n",
    "4. The Odd Factorial takes an odd integer and returns the result of multpyling that integer by each previous odd integer down to 1 together. Write a function that returns the odd factorial of an odd integer.\n"
   ]
  },
  {
   "cell_type": "code",
   "execution_count": null,
   "id": "f80e6fe1-d0f3-4af7-8aa9-bd95ee7ef9be",
   "metadata": {},
   "outputs": [],
   "source": []
  }
 ],
 "metadata": {
  "kernelspec": {
   "display_name": "Python 3 (ipykernel)",
   "language": "python",
   "name": "python3"
  },
  "language_info": {
   "codemirror_mode": {
    "name": "ipython",
    "version": 3
   },
   "file_extension": ".py",
   "mimetype": "text/x-python",
   "name": "python",
   "nbconvert_exporter": "python",
   "pygments_lexer": "ipython3",
   "version": "3.9.5"
  }
 },
 "nbformat": 4,
 "nbformat_minor": 5
}
