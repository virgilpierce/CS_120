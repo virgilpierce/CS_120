{
 "cells": [
  {
   "cell_type": "markdown",
   "id": "f2eace22-047c-49d0-b2e6-703f725d6d14",
   "metadata": {},
   "source": [
    "## Drawing Other Things\n",
    "\n",
    "Matplotlib can do more.\n",
    "\n"
   ]
  },
  {
   "cell_type": "code",
   "execution_count": 11,
   "id": "c5745747-31ed-46ca-a981-4c20a49523a9",
   "metadata": {},
   "outputs": [
    {
     "data": {
      "image/png": "[encoded data removed]",
      "text/plain": [
       "<Figure size 432x288 with 1 Axes>"
      ]
     },
     "metadata": {
      "needs_background": "light"
     },
     "output_type": "display_data"
    }
   ],
   "source": [
    "x = [0, 3, 0]\n",
    "y = [0, 0, 2]\n",
    "plt.figure()\n",
    "plt.scatter(x, y, color='purple')\n",
    "\n",
    "triangle = plt.Polygon(np.array([x, y]).transpose(), color='purple')\n",
    "plt.gca().add_patch(triangle)\n",
    "\n",
    "plt.savefig('triangle.png')\n",
    "\n",
    "plt.show()"
   ]
  },
  {
   "cell_type": "code",
   "execution_count": null,
   "id": "250cb85a-38c6-4085-bc1c-4f78dec5ef32",
   "metadata": {},
   "outputs": [],
   "source": []
  },
  {
   "cell_type": "markdown",
   "id": "e80dc756-1582-40b7-b719-2fb414f4ae9e",
   "metadata": {},
   "source": [
    "# Boolean Type\n",
    "\n",
    "One final type of variable that we have not seen yet, is arguably the simplest: A Boolean varialbe, named after George Boole, can only have two values  *False* and *True*."
   ]
  },
  {
   "cell_type": "code",
   "execution_count": 1,
   "id": "9644cfe5-3b45-4201-bfbd-ae9b6d89dd8d",
   "metadata": {},
   "outputs": [
    {
     "data": {
      "text/plain": [
       "bool"
      ]
     },
     "execution_count": 1,
     "metadata": {},
     "output_type": "execute_result"
    }
   ],
   "source": [
    "r = True\n",
    "type(r)"
   ]
  },
  {
   "cell_type": "markdown",
   "id": "8c5a87b9-835c-442d-a990-cd2569968b95",
   "metadata": {},
   "source": [
    "Boolean values have a special kind of arithemetic associated with them. We can combine them using the keywords *and* and *or*.\n",
    "\n",
    "- **a and b** will give a new Boolean variable that will have the value True if both a and b are True; and otherwise it will give False.\n",
    "- **a or b** will give a new Boolean variable that will have the value True if either a or b are True; and False only if both a and b are False."
   ]
  },
  {
   "cell_type": "code",
   "execution_count": 2,
   "id": "e7ac8964-584b-444c-bdc6-0dc5f66497dc",
   "metadata": {},
   "outputs": [
    {
     "data": {
      "text/plain": [
       "(False, True)"
      ]
     },
     "execution_count": 2,
     "metadata": {},
     "output_type": "execute_result"
    }
   ],
   "source": [
    "a = True\n",
    "b = False\n",
    "a and b, a or b"
   ]
  },
  {
   "cell_type": "markdown",
   "id": "d5a61f1b-69ef-4115-925a-9922e551f598",
   "metadata": {},
   "source": [
    "Another keyword, **not** takes the opposite of a Boolean varialbe i.e. False becomes True and True becomes False."
   ]
  },
  {
   "cell_type": "code",
   "execution_count": 3,
   "id": "d74bbf2d-e9c9-44fd-bab7-02d010c81cde",
   "metadata": {},
   "outputs": [
    {
     "data": {
      "text/plain": [
       "False"
      ]
     },
     "execution_count": 3,
     "metadata": {},
     "output_type": "execute_result"
    }
   ],
   "source": [
    "not a"
   ]
  },
  {
   "cell_type": "markdown",
   "id": "be917601-fbc0-42e6-85b0-7af7ad86f96a",
   "metadata": {},
   "source": [
    "Just to give you a taste of some things we can do: there is a relationship between and and or using not:"
   ]
  },
  {
   "cell_type": "code",
   "execution_count": 4,
   "id": "aa8071dc-aa50-4c06-a16c-e3ce0f8fa2ee",
   "metadata": {},
   "outputs": [
    {
     "data": {
      "text/plain": [
       "(True, True)"
      ]
     },
     "execution_count": 4,
     "metadata": {},
     "output_type": "execute_result"
    }
   ],
   "source": [
    "a = True\n",
    "b = False\n",
    "a or b, not (a and b)"
   ]
  },
  {
   "cell_type": "markdown",
   "id": "cc69cf1f-3e02-4e44-aeef-f31680be5980",
   "metadata": {},
   "source": [
    "Try it - use all 4 possible combinations of True and False for a and b and show that both values are always the same.\n",
    "\n",
    "This is one of the laws known as Demorgans Law."
   ]
  },
  {
   "cell_type": "markdown",
   "id": "659cfd67-aa24-4bf9-95cd-7b67cd26ef3b",
   "metadata": {},
   "source": [
    "## Conditionals\n",
    "\n",
    "Boolean variables come up frequently when we make comparisons of numbers and strings:\n"
   ]
  },
  {
   "cell_type": "code",
   "execution_count": 5,
   "id": "ce244181-0dd5-4742-bea1-4ddd37a88587",
   "metadata": {},
   "outputs": [
    {
     "data": {
      "text/plain": [
       "True"
      ]
     },
     "execution_count": 5,
     "metadata": {},
     "output_type": "execute_result"
    }
   ],
   "source": [
    "x = 5\n",
    "y = 25\n",
    "\n",
    "x**2 == y"
   ]
  },
  {
   "cell_type": "code",
   "execution_count": 6,
   "id": "38cc1b83-f235-4982-a7a7-33c9d01cffa3",
   "metadata": {},
   "outputs": [
    {
     "data": {
      "text/plain": [
       "False"
      ]
     },
     "execution_count": 6,
     "metadata": {},
     "output_type": "execute_result"
    }
   ],
   "source": [
    "x > y"
   ]
  },
  {
   "cell_type": "code",
   "execution_count": 7,
   "id": "615aac22-746b-4ed5-a876-2b65e332d24b",
   "metadata": {},
   "outputs": [
    {
     "data": {
      "text/plain": [
       "True"
      ]
     },
     "execution_count": 7,
     "metadata": {},
     "output_type": "execute_result"
    }
   ],
   "source": [
    "y >= x"
   ]
  },
  {
   "cell_type": "markdown",
   "id": "f4bb5f97-4188-48e1-ba84-2cdf6d76e4d4",
   "metadata": {},
   "source": [
    "# Control\n",
    "\n",
    "Finally we have a control structure we can use to branch our code depending on the value of a Boolean variable:"
   ]
  },
  {
   "cell_type": "code",
   "execution_count": 8,
   "id": "4b72554a-ba6f-4b65-a363-d97a71a94a11",
   "metadata": {},
   "outputs": [
    {
     "data": {
      "text/plain": [
       "6"
      ]
     },
     "execution_count": 8,
     "metadata": {},
     "output_type": "execute_result"
    }
   ],
   "source": [
    "x = 5\n",
    "y = 25\n",
    "\n",
    "if x**2 == y:\n",
    "    x += 1\n",
    "else:\n",
    "    x += 2\n",
    "    \n",
    "x"
   ]
  },
  {
   "cell_type": "markdown",
   "id": "a3aef7b5-a055-4ca3-acf3-275a59ff9a2f",
   "metadata": {},
   "source": []
  }
 ],
 "metadata": {
  "kernelspec": {
   "display_name": "Python 3 (ipykernel)",
   "language": "python",
   "name": "python3"
  },
  "language_info": {
   "codemirror_mode": {
    "name": "ipython",
    "version": 3
   },
   "file_extension": ".py",
   "mimetype": "text/x-python",
   "name": "python",
   "nbconvert_exporter": "python",
   "pygments_lexer": "ipython3",
   "version": "3.9.7"
  }
 },
 "nbformat": 4,
 "nbformat_minor": 5
}
