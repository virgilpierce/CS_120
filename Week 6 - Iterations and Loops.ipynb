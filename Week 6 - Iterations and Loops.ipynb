{
 "cells": [
  {
   "cell_type": "markdown",
   "id": "3ef7b322-467f-4a66-a975-66f9e8596601",
   "metadata": {
    "tags": []
   },
   "source": [
    "# Iterations and Loops\n",
    "\n",
    "Let's review what we have learned so far.\n",
    "\n",
    "We can write functions that refer to themselves. And this gives us a way of repeating a computation multiple times. Suppose we want to compute \n",
    "\n",
    "$$ \\sum_{n=0}^5 2^n = 1 + 2^1 + 2^2 + 2^3 + 2^4 + 2^5 $$"
   ]
  },
  {
   "cell_type": "code",
   "execution_count": 1,
   "id": "ba67dff2-6b38-409f-9b81-5d856ca78e73",
   "metadata": {},
   "outputs": [
    {
     "data": {
      "text/plain": [
       "63"
      ]
     },
     "execution_count": 1,
     "metadata": {},
     "output_type": "execute_result"
    }
   ],
   "source": [
    "def find_sum(n):\n",
    "    if n==0:\n",
    "        return 1\n",
    "    else:\n",
    "        return 2**n + find_sum(n-1)\n",
    "    \n",
    "find_sum(5)"
   ]
  },
  {
   "cell_type": "markdown",
   "id": "a49bc635-4b34-4daf-9d64-b97ab7da422e",
   "metadata": {},
   "source": [
    "Essentially this gives us code that loops through itself until it reaches the termination **OR** until it hits the limitation MAX_RECURSION.\n",
    "\n",
    "However what are some problems you have noticed?"
   ]
  },
  {
   "cell_type": "code",
   "execution_count": 3,
   "id": "6a6bde79-b271-40d1-8448-6061eb68725a",
   "metadata": {},
   "outputs": [
    {
     "ename": "RecursionError",
     "evalue": "maximum recursion depth exceeded in comparison",
     "output_type": "error",
     "traceback": [
      "\u001b[0;31m---------------------------------------------------------------------------\u001b[0m",
      "\u001b[0;31mRecursionError\u001b[0m                            Traceback (most recent call last)",
      "\u001b[0;32m<ipython-input-3-7f8b91e63e7b>\u001b[0m in \u001b[0;36m<module>\u001b[0;34m\u001b[0m\n\u001b[1;32m      1\u001b[0m \u001b[0;31m# Max Iteration: The Python Max Recursion Limit is Machine dependent and quite low\u001b[0m\u001b[0;34m\u001b[0m\u001b[0;34m\u001b[0m\u001b[0;34m\u001b[0m\u001b[0m\n\u001b[0;32m----> 2\u001b[0;31m \u001b[0mfind_sum\u001b[0m\u001b[0;34m(\u001b[0m\u001b[0;36m5000\u001b[0m\u001b[0;34m)\u001b[0m\u001b[0;34m\u001b[0m\u001b[0;34m\u001b[0m\u001b[0m\n\u001b[0m",
      "\u001b[0;32m<ipython-input-1-690217d79a01>\u001b[0m in \u001b[0;36mfind_sum\u001b[0;34m(n)\u001b[0m\n\u001b[1;32m      3\u001b[0m         \u001b[0;32mreturn\u001b[0m \u001b[0;36m1\u001b[0m\u001b[0;34m\u001b[0m\u001b[0;34m\u001b[0m\u001b[0m\n\u001b[1;32m      4\u001b[0m     \u001b[0;32melse\u001b[0m\u001b[0;34m:\u001b[0m\u001b[0;34m\u001b[0m\u001b[0;34m\u001b[0m\u001b[0m\n\u001b[0;32m----> 5\u001b[0;31m         \u001b[0;32mreturn\u001b[0m \u001b[0;36m2\u001b[0m\u001b[0;34m**\u001b[0m\u001b[0mn\u001b[0m \u001b[0;34m+\u001b[0m \u001b[0mfind_sum\u001b[0m\u001b[0;34m(\u001b[0m\u001b[0mn\u001b[0m\u001b[0;34m-\u001b[0m\u001b[0;36m1\u001b[0m\u001b[0;34m)\u001b[0m\u001b[0;34m\u001b[0m\u001b[0;34m\u001b[0m\u001b[0m\n\u001b[0m\u001b[1;32m      6\u001b[0m \u001b[0;34m\u001b[0m\u001b[0m\n\u001b[1;32m      7\u001b[0m \u001b[0mfind_sum\u001b[0m\u001b[0;34m(\u001b[0m\u001b[0;36m5\u001b[0m\u001b[0;34m)\u001b[0m\u001b[0;34m\u001b[0m\u001b[0;34m\u001b[0m\u001b[0m\n",
      "... last 1 frames repeated, from the frame below ...\n",
      "\u001b[0;32m<ipython-input-1-690217d79a01>\u001b[0m in \u001b[0;36mfind_sum\u001b[0;34m(n)\u001b[0m\n\u001b[1;32m      3\u001b[0m         \u001b[0;32mreturn\u001b[0m \u001b[0;36m1\u001b[0m\u001b[0;34m\u001b[0m\u001b[0;34m\u001b[0m\u001b[0m\n\u001b[1;32m      4\u001b[0m     \u001b[0;32melse\u001b[0m\u001b[0;34m:\u001b[0m\u001b[0;34m\u001b[0m\u001b[0;34m\u001b[0m\u001b[0m\n\u001b[0;32m----> 5\u001b[0;31m         \u001b[0;32mreturn\u001b[0m \u001b[0;36m2\u001b[0m\u001b[0;34m**\u001b[0m\u001b[0mn\u001b[0m \u001b[0;34m+\u001b[0m \u001b[0mfind_sum\u001b[0m\u001b[0;34m(\u001b[0m\u001b[0mn\u001b[0m\u001b[0;34m-\u001b[0m\u001b[0;36m1\u001b[0m\u001b[0;34m)\u001b[0m\u001b[0;34m\u001b[0m\u001b[0;34m\u001b[0m\u001b[0m\n\u001b[0m\u001b[1;32m      6\u001b[0m \u001b[0;34m\u001b[0m\u001b[0m\n\u001b[1;32m      7\u001b[0m \u001b[0mfind_sum\u001b[0m\u001b[0;34m(\u001b[0m\u001b[0;36m5\u001b[0m\u001b[0;34m)\u001b[0m\u001b[0;34m\u001b[0m\u001b[0;34m\u001b[0m\u001b[0m\n",
      "\u001b[0;31mRecursionError\u001b[0m: maximum recursion depth exceeded in comparison"
     ]
    }
   ],
   "source": [
    "# Max Iteration: The Python Max Recursion Limit is Machine dependent and quite low\n",
    "find_sum(5000)\n"
   ]
  },
  {
   "cell_type": "markdown",
   "id": "2af66e1f-090e-4526-9b30-62ef16f8a98c",
   "metadata": {},
   "source": [
    "## What if the Pattern Changes\n",
    "\n",
    "In the example above there is a specified formula for the expression we are summing up. But that is not always the case. For example what if we want to sum up the first 20 prime numbers?  There is no formula for them. \n",
    "\n",
    "### Lists\n",
    "\n",
    "Enter lists. Lists in Python let us assemble objects (integers, floats, strings, lists themselves) into an ordered sequence:\n"
   ]
  },
  {
   "cell_type": "code",
   "execution_count": 4,
   "id": "5bcae25a-4b44-4065-895c-e7b195257377",
   "metadata": {},
   "outputs": [],
   "source": [
    "list_of_integers = list(range(2, 100))"
   ]
  },
  {
   "cell_type": "markdown",
   "id": "932ea11d-eede-4a75-a2a0-24da1ee9338f",
   "metadata": {},
   "source": [
    "We can pull out elements of a list by refering to their position in brackets. **Warning:** so a choice has to be made about what the First element of a list is numbered by. Some programming languages start with 1; and others start with 0. Python starts with 0."
   ]
  },
  {
   "cell_type": "code",
   "execution_count": 5,
   "id": "43963451-0fed-4513-b122-b1b83b32abac",
   "metadata": {},
   "outputs": [
    {
     "data": {
      "text/plain": [
       "2"
      ]
     },
     "execution_count": 5,
     "metadata": {},
     "output_type": "execute_result"
    }
   ],
   "source": [
    "list_of_integers[0] # first element"
   ]
  },
  {
   "cell_type": "markdown",
   "id": "8859aa54-5936-48dd-8e7b-9524899f658a",
   "metadata": {},
   "source": [
    "There are some neat tricks. For exmaple -1 means the last element; -2 the second to last etc:"
   ]
  },
  {
   "cell_type": "code",
   "execution_count": 6,
   "id": "a790339e-1273-4c19-ad15-5e13633003f4",
   "metadata": {},
   "outputs": [
    {
     "data": {
      "text/plain": [
       "99"
      ]
     },
     "execution_count": 6,
     "metadata": {},
     "output_type": "execute_result"
    }
   ],
   "source": [
    "list_of_integers[-1]"
   ]
  },
  {
   "cell_type": "markdown",
   "id": "f9b04dad-01a6-4071-ba91-74bc7d86f9cb",
   "metadata": {},
   "source": [
    "#### Slices\n",
    "\n",
    "A principle thing we need to do is take parts of a list out. These are called *slices*:"
   ]
  },
  {
   "cell_type": "code",
   "execution_count": 7,
   "id": "18197545-19b2-4d6e-a625-372dbb5d27c6",
   "metadata": {},
   "outputs": [
    {
     "data": {
      "text/plain": [
       "[2, 3, 4, 5, 6, 7, 8, 9, 10, 11]"
      ]
     },
     "execution_count": 7,
     "metadata": {},
     "output_type": "execute_result"
    }
   ],
   "source": [
    "list_of_integers[:10]\n",
    "# The first 10"
   ]
  },
  {
   "cell_type": "code",
   "execution_count": 8,
   "id": "2b89632a-9264-4bb5-af54-8938769ea3ea",
   "metadata": {},
   "outputs": [
    {
     "data": {
      "text/plain": [
       "[90, 91, 92, 93, 94, 95, 96, 97, 98, 99]"
      ]
     },
     "execution_count": 8,
     "metadata": {},
     "output_type": "execute_result"
    }
   ],
   "source": [
    "list_of_integers[-10:]\n",
    "# the last 10"
   ]
  },
  {
   "cell_type": "code",
   "execution_count": 9,
   "id": "bd3fc546-23e1-460d-bf65-2c76d813be99",
   "metadata": {},
   "outputs": [
    {
     "data": {
      "text/plain": [
       "[12, 13, 14, 15, 16, 17, 18, 19, 20, 21]"
      ]
     },
     "execution_count": 9,
     "metadata": {},
     "output_type": "execute_result"
    }
   ],
   "source": [
    "list_of_integers[10:20]\n",
    "# a middle 10"
   ]
  },
  {
   "cell_type": "code",
   "execution_count": 10,
   "id": "2160fadb-5ca7-4bc2-b31d-6ed592c058fc",
   "metadata": {},
   "outputs": [
    {
     "data": {
      "text/plain": [
       "[2, 5, 8, 11, 14, 17, 20]"
      ]
     },
     "execution_count": 10,
     "metadata": {},
     "output_type": "execute_result"
    }
   ],
   "source": [
    "list_of_integers[:20:3]\n",
    "# skipping some"
   ]
  },
  {
   "cell_type": "markdown",
   "id": "5018eda3-a179-493b-b905-0aebce8603f4",
   "metadata": {},
   "source": [
    "## Operations on Lists\n",
    "\n",
    "Some of our binary operations, like - and / do not make sense with lists.\n",
    "\n",
    "However + and * do make sense. Explain what they do:"
   ]
  },
  {
   "cell_type": "code",
   "execution_count": 12,
   "id": "a7b1c9a4-12bf-4f16-9f35-79da0c337f83",
   "metadata": {},
   "outputs": [
    {
     "data": {
      "text/plain": [
       "[1, 1, 2, 2, 3, 3, 4, 4]"
      ]
     },
     "execution_count": 12,
     "metadata": {},
     "output_type": "execute_result"
    }
   ],
   "source": [
    "[1,1,2,2] + [3,3,4,4]"
   ]
  },
  {
   "cell_type": "code",
   "execution_count": 13,
   "id": "442c9086-4f07-415a-8ba6-6802d1f085db",
   "metadata": {},
   "outputs": [
    {
     "data": {
      "text/plain": [
       "[4, 2, 4, 2, 4, 2, 4, 2]"
      ]
     },
     "execution_count": 13,
     "metadata": {},
     "output_type": "execute_result"
    }
   ],
   "source": [
    "[4,2]*4"
   ]
  },
  {
   "cell_type": "markdown",
   "id": "2d4475a8-7e85-4226-b5ce-612a150a33d3",
   "metadata": {},
   "source": [
    "### Length\n",
    "\n",
    "One of the primary pieces of information a list contains is how many elements it contains. We can access this with the *len* (for length):"
   ]
  },
  {
   "cell_type": "code",
   "execution_count": 14,
   "id": "6aa583bb-37c9-43db-8fbb-e816c53374c3",
   "metadata": {},
   "outputs": [
    {
     "data": {
      "text/plain": [
       "8"
      ]
     },
     "execution_count": 14,
     "metadata": {},
     "output_type": "execute_result"
    }
   ],
   "source": [
    "len([4,2]*4)"
   ]
  },
  {
   "cell_type": "markdown",
   "id": "b10a0c46-7ad2-4d8e-8ec6-54c73ccd2e44",
   "metadata": {},
   "source": [
    "## Looping Over a List\n",
    "\n",
    "As you have already seen, a lot of what we do can be described as *Looping Over (or Through) a List*.  This is accomplished with a *for* loop. \n"
   ]
  },
  {
   "cell_type": "code",
   "execution_count": 15,
   "id": "4f38566f-846a-48f7-8aef-8328c3a66b2c",
   "metadata": {},
   "outputs": [
    {
     "name": "stdout",
     "output_type": "stream",
     "text": [
      "chloe is a good dog!\n",
      "missy is a good dog!\n",
      "sophie is a good dog!\n",
      "ellie is a good dog!\n",
      "shadow is a good dog!\n",
      "achilles is a good dog!\n",
      "wolf is a good dog!\n"
     ]
    }
   ],
   "source": [
    "list_of_dogs = ['chloe', 'missy', 'sophie', 'ellie', 'shadow', 'achilles', 'wolf']\n",
    "for x in list_of_dogs: \n",
    "    print('{} is a good dog!'.format(x) )"
   ]
  },
  {
   "cell_type": "markdown",
   "id": "9a5f61aa-61af-498c-a4f8-5d23966eddea",
   "metadata": {},
   "source": [
    "and you should get a little tickle as you realize the power we have. \n",
    "\n",
    "For example we could go through a list of the first 100 integers and ask which ones are divisible by 13:"
   ]
  },
  {
   "cell_type": "code",
   "execution_count": 16,
   "id": "46a55685-040e-48c4-934c-2ae7097e1881",
   "metadata": {},
   "outputs": [
    {
     "name": "stdout",
     "output_type": "stream",
     "text": [
      "13 is divisible by 13\n",
      "26 is divisible by 13\n",
      "39 is divisible by 13\n",
      "52 is divisible by 13\n",
      "65 is divisible by 13\n",
      "78 is divisible by 13\n",
      "91 is divisible by 13\n"
     ]
    }
   ],
   "source": [
    "for x in list_of_integers:\n",
    "    \n",
    "    if x % 13 == 0:\n",
    "        print('{} is divisible by 13'.format(x))"
   ]
  },
  {
   "cell_type": "markdown",
   "id": "6db2d299-b49e-4ada-82fa-829f9b242734",
   "metadata": {},
   "source": [
    "In fact we can skip the whole *list_of_integers* and just put the range command in the for command. \n",
    "\n",
    "Why:  Well *for* looks for what Python calls an iterator to loop through. Iterators are more general than just lists, and so in practice anything that works as an iterator will work. \n"
   ]
  },
  {
   "cell_type": "markdown",
   "id": "0f9d5f20-e419-4d64-92ca-fb525f94b022",
   "metadata": {},
   "source": [
    "### Summing up the geometric series\n",
    "\n",
    "Let's use a for loop to compute \n",
    "\n",
    "$$ \\sum_{n=0}^5 2^n $$\n"
   ]
  },
  {
   "cell_type": "code",
   "execution_count": 17,
   "id": "d302b172-3304-4d51-a404-54a6dc7af7c2",
   "metadata": {},
   "outputs": [
    {
     "data": {
      "text/plain": [
       "[1, 2, 4, 8, 16, 32]"
      ]
     },
     "execution_count": 17,
     "metadata": {},
     "output_type": "execute_result"
    }
   ],
   "source": [
    "# Make a list of the values using a list generator:\n",
    "\n",
    "terms = [2**n for n in range(6)]\n",
    "terms"
   ]
  },
  {
   "cell_type": "code",
   "execution_count": 18,
   "id": "5dc28519-db57-4373-b36a-2b8f56f9c441",
   "metadata": {},
   "outputs": [
    {
     "data": {
      "text/plain": [
       "63"
      ]
     },
     "execution_count": 18,
     "metadata": {},
     "output_type": "execute_result"
    }
   ],
   "source": [
    "# Summing up a list is a common operation so it is built-in\n",
    "sum(terms)"
   ]
  },
  {
   "cell_type": "code",
   "execution_count": null,
   "id": "ca0d3a14-4249-4e65-b223-4b52cf932c2d",
   "metadata": {},
   "outputs": [],
   "source": []
  },
  {
   "cell_type": "markdown",
   "id": "703148c1-bf89-4e82-9288-36da39b705bd",
   "metadata": {},
   "source": [
    "## The Seive of Eratosthens\n",
    "\n",
    "Okay so let's see what we can do with this problem:  We want to build a list of prime integers. \n",
    "\n",
    "Eratosthens idea was to start with a list of all of the integers from 2 up, and then remove the ones that were multiples of 2; and then from that list remove the ones that were multiples of 3; and then .....\n",
    "\n",
    "It would be nice if we could do the same. However removing lists from lists is hard. What is easier is building lists - and in fact Python gives us a little shortcut that combines lists with for loops, called a *list generator expression*.\n"
   ]
  },
  {
   "cell_type": "code",
   "execution_count": 22,
   "id": "7c53bdb2-9a0f-48b4-a445-9f3854e87a8d",
   "metadata": {},
   "outputs": [
    {
     "data": {
      "text/plain": [
       "[2, 3, 4, 5, 6, 7, 8, 9, 10, 11, 12, 13, 14, 15, 16, 17, 18, 19, 20, 21, 22]"
      ]
     },
     "execution_count": 22,
     "metadata": {},
     "output_type": "execute_result"
    }
   ],
   "source": [
    "seive = list(range(2, 23))\n",
    "seive"
   ]
  },
  {
   "cell_type": "code",
   "execution_count": 23,
   "id": "af7ace22-9f91-44ad-b2e7-2b76e46138ea",
   "metadata": {},
   "outputs": [
    {
     "data": {
      "text/plain": [
       "[3, 5, 7, 9, 11, 13, 15, 17, 19, 21]"
      ]
     },
     "execution_count": 23,
     "metadata": {},
     "output_type": "execute_result"
    }
   ],
   "source": [
    "primes = [2]\n",
    "seive = [x for x in seive if x%2 != 0 ]\n",
    "seive"
   ]
  },
  {
   "cell_type": "code",
   "execution_count": 24,
   "id": "156920a7-dea7-4161-a1d2-3b71cc8f7bac",
   "metadata": {},
   "outputs": [
    {
     "data": {
      "text/plain": [
       "[5, 7, 11, 13, 17, 19]"
      ]
     },
     "execution_count": 24,
     "metadata": {},
     "output_type": "execute_result"
    }
   ],
   "source": [
    "primes += [3]\n",
    "seive = [x for x in seive if x%3 != 0 ]\n",
    "seive"
   ]
  },
  {
   "cell_type": "code",
   "execution_count": 25,
   "id": "0459f4a6-ca3f-4138-9f40-a0a871b5778b",
   "metadata": {},
   "outputs": [
    {
     "data": {
      "text/plain": [
       "[7, 11, 13, 17, 19]"
      ]
     },
     "execution_count": 25,
     "metadata": {},
     "output_type": "execute_result"
    }
   ],
   "source": [
    "primes += [5]\n",
    "seive = [x for x in seive if x%5 != 0 ]\n",
    "seive"
   ]
  },
  {
   "cell_type": "markdown",
   "id": "8ca746cf-9ce3-4457-a48c-166bb4d0a8d4",
   "metadata": {},
   "source": [
    "And so on. Notice that we want to continue this process while the seive list is non-empty.\n",
    "\n",
    "**While** that is another idea:  It would be helpful if we could loop until a condition is meant. For example your *sqrt* function you wrote for homework!\n",
    "\n",
    "### While Loops\n",
    "\n",
    "*for* loops are helpful when we have an iterator (list) of things we know we want to go all the way through taking some action for each one. \n",
    "\n",
    "*while* loops are for situations where we want to repeat a task repeatedly until a condition is satisfied and we do not know (or are not certain) how many times that will take. \n",
    "\n",
    "Note immediately the danger. *for* loops will only run as long as there are items in the iterator left to use. Once the end of the iterator is reached the for loop is finished.  While loops will run until the condition is False; which means they could, if we are not careful, try to run forever == *Infinite Loop*"
   ]
  },
  {
   "cell_type": "code",
   "execution_count": 26,
   "id": "15b0da5b-e3ac-4d21-873c-386b2a710dca",
   "metadata": {},
   "outputs": [
    {
     "name": "stdout",
     "output_type": "stream",
     "text": [
      "0 is not yet 20\n",
      "1 is not yet 20\n",
      "2 is not yet 20\n",
      "3 is not yet 20\n",
      "4 is not yet 20\n",
      "5 is not yet 20\n",
      "6 is not yet 20\n",
      "7 is not yet 20\n",
      "8 is not yet 20\n",
      "9 is not yet 20\n",
      "10 is not yet 20\n",
      "11 is not yet 20\n",
      "12 is not yet 20\n",
      "13 is not yet 20\n",
      "14 is not yet 20\n",
      "15 is not yet 20\n",
      "16 is not yet 20\n",
      "17 is not yet 20\n",
      "18 is not yet 20\n",
      "19 is not yet 20\n",
      "Now x is 20!\n"
     ]
    }
   ],
   "source": [
    "x = 0\n",
    "while x<20:\n",
    "    print('{} is not yet 20'.format(x))\n",
    "    x += 1\n",
    "    \n",
    "print('Now x is 20!')"
   ]
  },
  {
   "cell_type": "markdown",
   "id": "8964761e-b36d-4b05-aa96-78c09b7e6f88",
   "metadata": {},
   "source": [
    "A fun excercise:  Usually you can do anything with any type of loop.  Suppose we want to find the first value of $n$ for which $$\\frac{1}{2^n (1+n^3)}$$ is smaller than $10^{-20}$."
   ]
  },
  {
   "cell_type": "code",
   "execution_count": 30,
   "id": "785b1c5d-f5cb-4970-88c9-ab38f906199e",
   "metadata": {},
   "outputs": [
    {
     "name": "stdout",
     "output_type": "stream",
     "text": [
      "0 is not yet 20\n",
      "1 is not yet 20\n",
      "2 is not yet 20\n",
      "3 is not yet 20\n",
      "4 is not yet 20\n",
      "5 is not yet 20\n",
      "6 is not yet 20\n",
      "7 is not yet 20\n",
      "8 is not yet 20\n",
      "9 is not yet 20\n",
      "10 is not yet 20\n",
      "11 is not yet 20\n",
      "12 is not yet 20\n",
      "13 is not yet 20\n",
      "14 is not yet 20\n",
      "15 is not yet 20\n",
      "16 is not yet 20\n",
      "17 is not yet 20\n",
      "18 is not yet 20\n",
      "19 is not yet 20\n",
      "Now x is 20\n"
     ]
    }
   ],
   "source": [
    "for x in range(20):\n",
    "    print('{} is not yet 20'.format(x))\n",
    "\n",
    "x+=1\n",
    "print('Now x is 20')"
   ]
  },
  {
   "cell_type": "code",
   "execution_count": 32,
   "id": "fe06a043-e604-47b8-8a24-4690290ca807",
   "metadata": {},
   "outputs": [
    {
     "name": "stdout",
     "output_type": "stream",
     "text": [
      "0 is not yet 20\n",
      "1 is not yet 20\n",
      "2 is not yet 20\n",
      "3 is not yet 20\n",
      "4 is not yet 20\n",
      "5 is not yet 20\n",
      "6 is not yet 20\n",
      "7 is not yet 20\n",
      "8 is not yet 20\n",
      "9 is not yet 20\n",
      "10 is not yet 20\n",
      "11 is not yet 20\n",
      "12 is not yet 20\n",
      "13 is not yet 20\n",
      "14 is not yet 20\n",
      "15 is not yet 20\n",
      "16 is not yet 20\n",
      "17 is not yet 20\n",
      "18 is not yet 20\n",
      "19 is not yet 20\n",
      "Now x is 20\n"
     ]
    }
   ],
   "source": [
    "def iterate_x(x):\n",
    "    if x==20:\n",
    "        print('Now x is 20')\n",
    "    else:\n",
    "        print('{} is not yet 20'.format(x))\n",
    "        iterate_x(x+1)\n",
    "              \n",
    "iterate_x(0)"
   ]
  },
  {
   "cell_type": "code",
   "execution_count": null,
   "id": "cfab2c1c-4000-4c10-87d1-b991eec5535e",
   "metadata": {},
   "outputs": [],
   "source": []
  },
  {
   "cell_type": "markdown",
   "id": "7af92d72-5ab9-4800-bf29-0f16a654fb89",
   "metadata": {},
   "source": [
    "## Seive of Eratosthens\n",
    "\n",
    "So let's go back to our seive and explain what we want to do:\n",
    "\n",
    "Here is what the Pseudocode might look like:\n",
    "\n",
    "1. Start with a seive of the integers from 2 up to some large n; and a list of primes that begins empty.\n",
    "\n",
    "2. *While* the seive is not emtpy:\n",
    "\n",
    "&emsp;&emsp;  a. take the first element from the seive and add it to the list of primes\n",
    "\n",
    "&emsp;&emsp;  b. make a new seive that is all the elements from the old one except those divisible by the integer we just removed.\n"
   ]
  },
  {
   "cell_type": "code",
   "execution_count": 33,
   "id": "28248690-8045-40dc-89ee-b11331754329",
   "metadata": {},
   "outputs": [],
   "source": [
    "def find_primes(n):\n",
    "    seive = list(range(2, n))\n",
    "    primes = []\n",
    "    \n",
    "    while len(seive)!=0:\n",
    "        primes += [seive[0]]\n",
    "        seive = [x for x in seive if x%seive[0]!= 0]\n",
    "        \n",
    "    return primes"
   ]
  },
  {
   "cell_type": "code",
   "execution_count": 35,
   "id": "75e6d8f3-7184-4447-9eff-789a327980fe",
   "metadata": {},
   "outputs": [
    {
     "data": {
      "text/plain": [
       "[2, 3, 5, 7, 11, 13, 17, 19, 23, 29, 31, 37, 41, 43, 47]"
      ]
     },
     "execution_count": 35,
     "metadata": {},
     "output_type": "execute_result"
    }
   ],
   "source": [
    "find_primes(50)"
   ]
  },
  {
   "cell_type": "markdown",
   "id": "d95e8fa3-4aaf-4ad2-9f89-2c0319abc95b",
   "metadata": {},
   "source": [
    "Now that we have our list of primes, we can do things like add up the prime numbers less than 200."
   ]
  },
  {
   "cell_type": "code",
   "execution_count": 37,
   "id": "61eef85b-1cd4-44cd-92bf-17f271bc785e",
   "metadata": {},
   "outputs": [
    {
     "data": {
      "text/plain": [
       "46"
      ]
     },
     "execution_count": 37,
     "metadata": {},
     "output_type": "execute_result"
    }
   ],
   "source": [
    "# How many primes are there less than 200?\n",
    "len(find_primes(200))"
   ]
  },
  {
   "cell_type": "code",
   "execution_count": 38,
   "id": "b13b382d-b385-48c5-9379-299161096651",
   "metadata": {},
   "outputs": [
    {
     "data": {
      "text/plain": [
       "4227"
      ]
     },
     "execution_count": 38,
     "metadata": {},
     "output_type": "execute_result"
    }
   ],
   "source": [
    "# What is the sum of the primes less than 200?\n",
    "sum(find_primes(200))"
   ]
  },
  {
   "cell_type": "markdown",
   "id": "1a32f591-6b2a-45fb-af8e-f4e296c427e6",
   "metadata": {},
   "source": [
    "# Question?\n",
    "\n",
    "- How would you modify this to add up the first 100 prime numbers?\n",
    "- What if you wanted to find the mean of the distances between the first 100 prime numbers?"
   ]
  },
  {
   "cell_type": "code",
   "execution_count": null,
   "id": "68daea66-bb72-46f5-ade7-69c4ea1025dc",
   "metadata": {},
   "outputs": [],
   "source": []
  }
 ],
 "metadata": {
  "kernelspec": {
   "display_name": "Python 3 (ipykernel)",
   "language": "python",
   "name": "python3"
  },
  "language_info": {
   "codemirror_mode": {
    "name": "ipython",
    "version": 3
   },
   "file_extension": ".py",
   "mimetype": "text/x-python",
   "name": "python",
   "nbconvert_exporter": "python",
   "pygments_lexer": "ipython3",
   "version": "3.9.7"
  }
 },
 "nbformat": 4,
 "nbformat_minor": 5
}
