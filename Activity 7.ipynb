{
 "cells": [
  {
   "cell_type": "markdown",
   "id": "e49e17ec-b596-443e-92be-206fd47bc7cc",
   "metadata": {},
   "source": [
    "# Activity 7 - String Methods\n",
    "\n",
    "A Caesar cypher is a weak form of encryption that involves *rotating* each letter by a fixed number of places. To rotate a letter means to shift it through the alphabet, wrapping around to the beginning if necessary, so 'A' rotated by 3 is 'D' and 'Z' rotated by 3 is 'C'. \n",
    "\n",
    "To encode a word in the cypher, you rotated each letter by the fixed amount. So 'GOOD DOG' rotated by 3 would encoded as: 'JRRG GRJ' Note that to decode a message you rotate each letter backwards by the agreed upon amount.\n",
    "\n",
    "Caesar describes this cypher in one of his papers. It has been used in history (the American Civil War for example).\n",
    "\n",
    "Already you can see this is not a very secure cypher:  We know the first word is one with a repeated letter, and the most common repeated letter pair in English is?  So it is easy to guess that the rotation was by 3 for this message. A method generally cracking such messages is to write down all of the possible rotations of part of the code and see which ones make sense. 26 is not such a large number to even attempt doing this by hand, but once computers arrived it became trivial.\n",
    "\n",
    "Let's make a function that takes a message as a string and the shift n; and produces the encoded message. \n",
    "\n",
    "1. Early codes simplified messages by using only capital letters. Make a string that is the alphabet we will use in capital letters. \n",
    "\n",
    "2. Write a function that takes a capital letter and a rotation amount n and produces the new capital letter rotated by that amount. This should be easy until you get to a position bigger than 26 (or less than 0 if we are decoding). You will need to somehow address that. I.e. so that 'Z' rotated by 3 wraps around to 'C'.\n",
    "\n",
    "3. Write a function that takes a string and an integer shift n:  \n",
    "\n",
    "  - converts it to all capital letters if it is not already.\n",
    "  - produces a new string where each letter has been shifted by n and spaces (\" \") are left as spaces.\n",
    "  \n",
    "4. Use your function to decode the string: 'IKHZKTFFBGZ KNEXL, FTMA WKHHEL'"
   ]
  },
  {
   "cell_type": "code",
   "execution_count": null,
   "id": "5b007934-f626-4755-bed8-ca1dbc6c6ba6",
   "metadata": {},
   "outputs": [],
   "source": []
  }
 ],
 "metadata": {
  "kernelspec": {
   "display_name": "Python 3 (ipykernel)",
   "language": "python",
   "name": "python3"
  },
  "language_info": {
   "codemirror_mode": {
    "name": "ipython",
    "version": 3
   },
   "file_extension": ".py",
   "mimetype": "text/x-python",
   "name": "python",
   "nbconvert_exporter": "python",
   "pygments_lexer": "ipython3",
   "version": "3.9.5"
  }
 },
 "nbformat": 4,
 "nbformat_minor": 5
}
