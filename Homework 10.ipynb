{
 "cells": [
  {
   "cell_type": "markdown",
   "id": "ed620c22-602a-457b-81f2-110467502140",
   "metadata": {},
   "source": [
    "# Homework 10 - Dictionaries\n",
    "\n",
    "A permutation is a map that gives a reordering of some items. For example the permutation:  'a' -> 'b', 'b'->'c', 'c'->'a' maps a to b, b to c, and c to d.\n",
    "\n",
    "We can represent a permutation as a dictionary where the key is the item being mapped and the value is the item it is mapped to.\n",
    "\n",
    "## 1 - There are 6 permutations of the three letters 'a', 'b', and 'c'.  Define the six dictionaries we could use to represent these.\n",
    "\n",
    "Note that one of the six permutations is the one that just sense 'a' -> 'a', 'b' -> 'b', and 'c'->'c'. We call this the identity permutation.\n",
    "\n",
    "## 2 - Permutations can be combined by doing one and then the other. Write a function called prod that takes two dictionaries giving permutations and finds the new permutation given by their doing one and then the other.\n",
    "\n",
    "Write your function so that it works on any permutation, not just one on 'a', 'b', and 'c':  i.e. it should not assume that these are permutations on 3 letters.\n",
    "\n",
    "## 3 - Use your function prod and the \"==\" test to find the multiplication table for our six permutations.\n",
    "\n",
    "There should be 36 different products you need to compute -- be careful, this is similar to multiplication but not exactly the same.\n",
    "\n",
    "## 4 - Write an order function:\n",
    "\n",
    "The order of a permutation $s$ is the smallest integer n such that $s^n$ is the identity permutaiton. Write a function called order that takes a dictionary representing a permutation and computes the order n."
   ]
  },
  {
   "cell_type": "code",
   "execution_count": null,
   "id": "7074385c-e0ae-4c25-b93c-e505a8b6c21b",
   "metadata": {},
   "outputs": [],
   "source": []
  }
 ],
 "metadata": {
  "kernelspec": {
   "display_name": "Python 3 (ipykernel)",
   "language": "python",
   "name": "python3"
  },
  "language_info": {
   "codemirror_mode": {
    "name": "ipython",
    "version": 3
   },
   "file_extension": ".py",
   "mimetype": "text/x-python",
   "name": "python",
   "nbconvert_exporter": "python",
   "pygments_lexer": "ipython3",
   "version": "3.9.5"
  }
 },
 "nbformat": 4,
 "nbformat_minor": 5
}
