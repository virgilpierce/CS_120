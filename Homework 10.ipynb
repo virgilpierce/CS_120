{
  "cells": [
    {
      "cell_type": "markdown",
      "id": "ed620c22-602a-457b-81f2-110467502140",
      "metadata": {
        "id": "ed620c22-602a-457b-81f2-110467502140"
      },
      "source": [
        "# Homework 10 - Dictionaries\n",
        "\n",
        "Write a function that takes a dictionary whose values are integers, for example:"
      ]
    },
    {
      "cell_type": "code",
      "execution_count": 2,
      "id": "7074385c-e0ae-4c25-b93c-e505a8b6c21b",
      "metadata": {
        "id": "7074385c-e0ae-4c25-b93c-e505a8b6c21b",
        "outputId": "57ed95c6-88bb-430e-d9fd-617d2a531586",
        "colab": {
          "base_uri": "https://localhost:8080/"
        }
      },
      "outputs": [
        {
          "output_type": "execute_result",
          "data": {
            "text/plain": [
              "{'eight': 5,\n",
              " 'eleven': 6,\n",
              " 'five': 4,\n",
              " 'four': 4,\n",
              " 'nine': 4,\n",
              " 'one': 3,\n",
              " 'seven': 5,\n",
              " 'six': 3,\n",
              " 'ten': 3,\n",
              " 'thirteen': 8,\n",
              " 'three': 5,\n",
              " 'twelve': 6,\n",
              " 'two': 3}"
            ]
          },
          "metadata": {},
          "execution_count": 2
        }
      ],
      "source": [
        "test_dict = { 'one':3, 'two':3, 'three':5, 'four':4, 'five':4, 'six':3, 'seven':5, 'eight':5, 'nine':4, 'ten':3, 'eleven':6, 'twelve':6, 'thirteen':8 }\n",
        "test_dict"
      ]
    },
    {
      "cell_type": "markdown",
      "id": "274d6886-26d8-4246-ab49-01c79bbc573d",
      "metadata": {
        "id": "274d6886-26d8-4246-ab49-01c79bbc573d"
      },
      "source": [
        "and produces a dictionary that is just the keys and  values for the three largest values.\n",
        "\n",
        "Hint: values = list(test_dict.values()) gives a list of the dictionary values; and calling values.sort() reordered this list in increasing order."
      ]
    },
    {
      "cell_type": "code",
      "execution_count": 7,
      "id": "c433418b-4e32-4a98-bfd6-4dbb11ba538e",
      "metadata": {
        "id": "c433418b-4e32-4a98-bfd6-4dbb11ba538e",
        "outputId": "27e4a6f7-6550-44d8-d6c4-630079413435",
        "colab": {
          "base_uri": "https://localhost:8080/"
        }
      },
      "outputs": [
        {
          "output_type": "execute_result",
          "data": {
            "text/plain": [
              "[3, 4, 5, 6, 8]"
            ]
          },
          "metadata": {},
          "execution_count": 7
        }
      ],
      "source": [
        "values = list(set(test_dict.values()))\n",
        "values.sort()\n",
        "values"
      ]
    },
    {
      "cell_type": "code",
      "execution_count": 6,
      "id": "122f6d28-f674-4005-b8a0-5fd26ac21024",
      "metadata": {
        "id": "122f6d28-f674-4005-b8a0-5fd26ac21024",
        "outputId": "b3b02105-de25-453f-9982-fded74ba37ab",
        "colab": {
          "base_uri": "https://localhost:8080/"
        }
      },
      "outputs": [
        {
          "output_type": "execute_result",
          "data": {
            "text/plain": [
              "[3, 3, 3, 3, 4, 4, 4, 5, 5, 5, 6, 6, 8]"
            ]
          },
          "metadata": {},
          "execution_count": 6
        }
      ],
      "source": [
        "values = list(test_dict.values())\n",
        "values.sort()\n",
        "values"
      ]
    },
    {
      "cell_type": "code",
      "source": [
        ""
      ],
      "metadata": {
        "id": "0SfQiv85CVIh"
      },
      "id": "0SfQiv85CVIh",
      "execution_count": null,
      "outputs": []
    }
  ],
  "metadata": {
    "kernelspec": {
      "display_name": "Python 3 (ipykernel)",
      "language": "python",
      "name": "python3"
    },
    "language_info": {
      "codemirror_mode": {
        "name": "ipython",
        "version": 3
      },
      "file_extension": ".py",
      "mimetype": "text/x-python",
      "name": "python",
      "nbconvert_exporter": "python",
      "pygments_lexer": "ipython3",
      "version": "3.9.7"
    },
    "colab": {
      "name": "Homework 10.ipynb",
      "provenance": []
    }
  },
  "nbformat": 4,
  "nbformat_minor": 5
}