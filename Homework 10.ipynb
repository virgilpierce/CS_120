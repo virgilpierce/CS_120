{
 "cells": [
  {
   "cell_type": "markdown",
   "id": "ed620c22-602a-457b-81f2-110467502140",
   "metadata": {},
   "source": [
    "# Homework 10 - Dictionaries\n",
    "\n",
    "Write a function that takes a dictionary whose values are integers, for example:"
   ]
  },
  {
   "cell_type": "code",
   "execution_count": 27,
   "id": "7074385c-e0ae-4c25-b93c-e505a8b6c21b",
   "metadata": {},
   "outputs": [
    {
     "data": {
      "text/plain": [
       "{'one': 3,\n",
       " 'two': 3,\n",
       " 'three': 5,\n",
       " 'four': 4,\n",
       " 'five': 4,\n",
       " 'six': 3,\n",
       " 'seven': 5,\n",
       " 'eight': 5,\n",
       " 'nine': 4,\n",
       " 'ten': 3,\n",
       " 'eleven': 6,\n",
       " 'twelve': 6,\n",
       " 'thirteen': 8}"
      ]
     },
     "execution_count": 27,
     "metadata": {},
     "output_type": "execute_result"
    }
   ],
   "source": [
    "test_dict = { 'one':3, 'two':3, 'three':5, 'four':4, 'five':4, 'six':3, 'seven':5, 'eight':5, 'nine':4, 'ten':3, 'eleven':6, 'twelve':6, 'thirteen':8 }\n",
    "test_dict"
   ]
  },
  {
   "cell_type": "markdown",
   "id": "274d6886-26d8-4246-ab49-01c79bbc573d",
   "metadata": {},
   "source": [
    "and produces a dictionary that is just the keys and  values for the three largest values.\n",
    "\n",
    "Hint: values = list(test_dict.values()) gives a list of the dictionary values; and calling values.sort() reordered this list in increasing order."
   ]
  },
  {
   "cell_type": "code",
   "execution_count": 28,
   "id": "c433418b-4e32-4a98-bfd6-4dbb11ba538e",
   "metadata": {},
   "outputs": [
    {
     "data": {
      "text/plain": [
       "[3, 3, 3, 3, 4, 4, 4, 5, 5, 5, 6, 6, 8]"
      ]
     },
     "execution_count": 28,
     "metadata": {},
     "output_type": "execute_result"
    }
   ],
   "source": [
    "values = list(test_dict.values())\n",
    "values.sort()\n",
    "values"
   ]
  },
  {
   "cell_type": "code",
   "execution_count": null,
   "id": "122f6d28-f674-4005-b8a0-5fd26ac21024",
   "metadata": {},
   "outputs": [],
   "source": []
  }
 ],
 "metadata": {
  "kernelspec": {
   "display_name": "Python 3 (ipykernel)",
   "language": "python",
   "name": "python3"
  },
  "language_info": {
   "codemirror_mode": {
    "name": "ipython",
    "version": 3
   },
   "file_extension": ".py",
   "mimetype": "text/x-python",
   "name": "python",
   "nbconvert_exporter": "python",
   "pygments_lexer": "ipython3",
   "version": "3.9.7"
  }
 },
 "nbformat": 4,
 "nbformat_minor": 5
}
