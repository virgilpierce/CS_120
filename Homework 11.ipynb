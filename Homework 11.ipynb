{
 "cells": [
  {
   "cell_type": "markdown",
   "id": "6faebc45-26fa-4358-9ab5-f9f0e703405d",
   "metadata": {},
   "source": [
    "# Homework 11 - Final Project Proposal\n",
    "\n",
    "Your last homework project is going to be to submit a proposal for what your final project in the class will be. You do not need to give me a lot of information, but here are the parameters:\n",
    "\n",
    "The final project should be a programming exercise that:\n",
    "\n",
    "- demonstrates the knowledge you have gained with Python and programming;\n",
    "- uses loops, conditions, and functions;\n",
    "- uses text file input/output;\n",
    "- uses lists, tuples, or dictionaries;\n",
    "- uses multiple functions you have written and a py file; and\n",
    "- gives an example of how a problem or computation can be done.\n",
    "\n",
    "You can choose anything you like provided that it demonstrates your knowledge of Python. If it is built around one of the activities, homeworks, or other projects you should be sure to extend the idea further than we took it.\n",
    "\n",
    "Some ideas (just riffing):\n",
    "\n",
    "- Quaternion Numbers are a generalization of Complex Numbers. Write a package for doing arithemetic with them or taking square roots of them.\n",
    "- Sudoku: write a package for reading and writing sudoku puzzles from a text file and solving them.\n",
    "- Grade Book: write a package for reading and writing, and entering students grades for class assignments.\n",
    "- Check Book: write a package for keeping track of expenses and deposits, and balancing a checking account.\n",
    "- Polynomial Arithmetic and Calculus: write a package for doing arithemetic and calculus with polynomial functions.\n"
   ]
  },
  {
   "cell_type": "code",
   "execution_count": null,
   "id": "c41d770e-8cd7-4d3d-b663-628863b8037b",
   "metadata": {},
   "outputs": [],
   "source": []
  }
 ],
 "metadata": {
  "kernelspec": {
   "display_name": "Python 3 (ipykernel)",
   "language": "python",
   "name": "python3"
  },
  "language_info": {
   "codemirror_mode": {
    "name": "ipython",
    "version": 3
   },
   "file_extension": ".py",
   "mimetype": "text/x-python",
   "name": "python",
   "nbconvert_exporter": "python",
   "pygments_lexer": "ipython3",
   "version": "3.9.5"
  }
 },
 "nbformat": 4,
 "nbformat_minor": 5
}
