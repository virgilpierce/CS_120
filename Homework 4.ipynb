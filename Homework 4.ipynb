{
 "cells": [
  {
   "cell_type": "markdown",
   "id": "a7226225-51fe-406c-aa3f-9b7a98bcff11",
   "metadata": {},
   "source": [
    "# Homework 4\n",
    "\n",
    "**Reading:** Chapter 6 in the textbook\n",
    "\n",
    "## Question 1:\n",
    "\n",
    "Submit a full refined set of functions for estimating the $ \\sqrt{S}$ from an initial guess that gives a result accurate to $10^{-4}$ or produces an error that max recursion has been reached.\n",
    "\n",
    "## Question 2:\n",
    "\n",
    "Take your function that takes an $x$ and computes the $n$ such that $ n! < x < (n+1)!$.  Use this to write a function that given a number $x$ computes this $n$, prints the value of n to the screen, and then finds $y = x - n!$ and then repeats this computation until $ y < 1$. \n",
    "\n",
    "## Question 3:\n",
    "\n",
    "For your function in question 2:  If the initial x is an integer what do you notice?"
   ]
  },
  {
   "cell_type": "code",
   "execution_count": null,
   "id": "790d0218-7300-4747-93e5-9b39abd0c061",
   "metadata": {},
   "outputs": [],
   "source": []
  }
 ],
 "metadata": {
  "kernelspec": {
   "display_name": "Python 3 (ipykernel)",
   "language": "python",
   "name": "python3"
  },
  "language_info": {
   "codemirror_mode": {
    "name": "ipython",
    "version": 3
   },
   "file_extension": ".py",
   "mimetype": "text/x-python",
   "name": "python",
   "nbconvert_exporter": "python",
   "pygments_lexer": "ipython3",
   "version": "3.9.5"
  }
 },
 "nbformat": 4,
 "nbformat_minor": 5
}
