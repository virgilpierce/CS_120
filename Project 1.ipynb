{
 "cells": [
  {
   "cell_type": "markdown",
   "id": "5aa1e1fa-b489-4153-8d7b-bae73919f92e",
   "metadata": {},
   "source": [
    "# Project 1\n",
    "\n",
    "As we go on in the class and have more structure available, you will have more options for the projects.  For the first project we are going to play a bit with the representation of numbers and arithmetic; or an excersise using strings. Please choose one or the other to complete but not both.\n",
    "\n",
    "### 1:  Binary Representation\n",
    "\n",
    "Given an integer x you can write x as a sum:\n",
    "\n",
    "$$ x = a_0 + a_1 \\cdot 2 + a_2 \\cdot 2^2 + a_3 \\cdot 2^3 + .... =  \\sum_{k=0} a_k 2^k $$\n",
    "\n",
    "where the sequnece $[a_0, a_1, a_2, a_3, \\dots]$ is made up of $a_k$ that are all just 0 or 1 (and eventually all 0).\n",
    "\n",
    "a: Write a function that given an integer x, computes the sequence of 0 and 1s that give the binary representation of x.\n",
    "\n",
    "b: Write a second function that takes a finite sequence of 0 and 1s and gives the number in decimal form it represents.\n",
    "\n",
    "c: Write a function that takes two finite sequences of 0 and 1s (of the same length if that helps) and adds them together to produce the sequence that corresponds to the sum of the numbers they represent.\n",
    "\n",
    "OR\n",
    "\n",
    "### 2: Repeated Letters\n",
    "\n",
    "You might recall that we asked in class when we saw the Caesar Cypher, what the most repeated letter in English is. Lets use our list of puzzle words from class (Week 8) to check on this. Here is my suggestion:\n",
    "\n",
    "a:  Write a function that checks if a letter in a word is repeated by the next letter and return the position of that letter in the alphanet, i.e. 'a' repeated returns 0; 'b' repeated returns 1; ...; 'z' repeated returns 25. If no letter is repeated have it return 26 (you'll see why in a b).  For a word that uses two repeated letters, we will just take the first one.\n",
    "\n",
    "b: For this program we will use a count variable that has 27 different values. The first 26 of them represent the number of times the corresponding letter has been repeated. I.e. count[0] will be the number of times 'a' was repeated. The 27th value is the number of words without a repeated letter. Start by initializing count to be 27 0s. \n",
    "\n",
    "c: Now loop all of the words in the puzzle list, check if they have a repeated letter and increment that value of count.  For example when we get to the word 'aadvark' we find that 'a' is repeated and so we use count[0] += 1 to increment the count for 'a' by one. When we get to the word 'arm' our program will increment the last value of count by one with count[26]+= 1.  Identify which letter has the largest count.\n",
    "\n"
   ]
  },
  {
   "cell_type": "code",
   "execution_count": null,
   "id": "dfac432e-ef65-4d93-9a20-06ed7382da07",
   "metadata": {},
   "outputs": [],
   "source": []
  }
 ],
 "metadata": {
  "kernelspec": {
   "display_name": "Python 3 (ipykernel)",
   "language": "python",
   "name": "python3"
  },
  "language_info": {
   "codemirror_mode": {
    "name": "ipython",
    "version": 3
   },
   "file_extension": ".py",
   "mimetype": "text/x-python",
   "name": "python",
   "nbconvert_exporter": "python",
   "pygments_lexer": "ipython3",
   "version": "3.9.7"
  }
 },
 "nbformat": 4,
 "nbformat_minor": 5
}
