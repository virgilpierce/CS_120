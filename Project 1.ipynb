{
 "cells": [
  {
   "cell_type": "markdown",
   "id": "5aa1e1fa-b489-4153-8d7b-bae73919f92e",
   "metadata": {},
   "source": [
    "# Project 1\n",
    "\n",
    "As we go on in the class and have more structure available, you will have more options for the projects.  For the first project we are going to play a bit with the representation of numbers and arithmetic. \n",
    "\n",
    "### 1:  Binary Representation\n",
    "\n",
    "Given an integer x you can write x as a sum:\n",
    "\n",
    "$$ x = a_0 + a_1 \\cdot 2 + a_2 \\cdot 2^2 + a_3 \\cdot 2^3 + .... =  \\sum_{k=0} a_k 2^k $$\n",
    "\n",
    "where the sequnece $[a_0, a_1, a_2, a_3, \\dots]$ is made up of $a_k$ that are all just 0 or 1 (and eventually all 0).\n",
    "\n",
    "a: Write a function that given an integer x, computes the sequence of 0 and 1s that give the binary representation of x.\n",
    "\n",
    "b: Write a second function that takes a finite sequence of 0 and 1s and gives the number in decimal form it represents.\n",
    "\n",
    "c: Write a function that takes two finite sequences of 0 and 1s (of the same length if that helps) and adds them together to produce the sequence that corresponds to the sum of the numbers they represent.\n",
    "\n",
    "### 2: Hexadecimal Representation\n",
    "\n",
    "You can do the same trick with any base (binary is base 2, and our usual system is what we call base 10). \n",
    "\n",
    "Write functions to convert from base 10 to base 16. I.e. given an integer n produce a sequence $[b_0, b_1, b_2, \\dots]$ with $0 \\leq b_k < 16$ such that \n",
    "\n",
    "$$ x = \\sum_{k=0} b_k 16^k $$\n",
    "\n",
    "Write a function to go the other direction; and finally write a function that implements addition.\n",
    "\n",
    "### 3:  Discuss what the advantages and disadvantages are to smaller versus larger bases. Why might we choose one over the other?\n",
    "\n",
    "### 4: Other representations\n",
    "\n",
    "Note that the representation of numbers in base $b$ for an integer b are exact and we know exist. \n",
    "\n",
    "Another representation we have seen in class is by factorials:  I.e. given an integer x, we find a sequence of integers $[n_0, n_1, n_2, \\dots] $ of integers such that x is the sum of the factorials of these integers. An OPEN hypothesis is that in fact every integer is the sum of 3 or fewer factorials!  \n",
    "\n",
    "Write functions (you can fix the ones from your homework) to take an integer x and produce the one, two, or three integers whose factorials sum to x. \n",
    "\n",
    "Discuss - what are some advantages you can see to representing numbers like this?\n",
    "\n"
   ]
  },
  {
   "cell_type": "code",
   "execution_count": null,
   "id": "7b49304f-7ac7-4f82-bc09-cc650ec33078",
   "metadata": {},
   "outputs": [],
   "source": []
  }
 ],
 "metadata": {
  "kernelspec": {
   "display_name": "Python 3 (ipykernel)",
   "language": "python",
   "name": "python3"
  },
  "language_info": {
   "codemirror_mode": {
    "name": "ipython",
    "version": 3
   },
   "file_extension": ".py",
   "mimetype": "text/x-python",
   "name": "python",
   "nbconvert_exporter": "python",
   "pygments_lexer": "ipython3",
   "version": "3.9.7"
  }
 },
 "nbformat": 4,
 "nbformat_minor": 5
}
