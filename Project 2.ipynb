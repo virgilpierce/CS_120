{
 "cells": [
  {
   "cell_type": "markdown",
   "id": "70e2b5af-6c95-4575-9ea8-54e548725eb6",
   "metadata": {},
   "source": [
    "# Project 2\n",
    "\n",
    "For project 2, I would like you to grapple with a problem requiring the use of lists or strings to solve, expanding on something that we have done in this part of class. Please choose one of the questions below and complete a program that implements it - these are all extnesions of activities or homework we have done so follow the same guidelines.\n",
    "\n",
    "To achieve a 4 or a 5 you will need to include comments explaining what the steps are doing. I am purposefully leaving these open ended, you can discuss your ideas with me!\n",
    "\n",
    "**Continued Fractions:**  You wrote a function that takes a list and computes the continued fraction using those values. Write a function that goes in the other direction:  It takes a float x and produces the sequences of $[ a_0, a_1, a_2, \\dots ]$ so that \n",
    "\n",
    "$$ x \\approx a_0 + \\frac{1}{a_1 + \\frac{1}{a_2 + \\dots }} $$\n",
    "\n",
    "*Note that lists in Python must be finite, so you will need to make a deicision aobut how far out to computer this result*\n",
    "\n",
    "**Codes:** We implemented the Caesar Cypher, but saw that it was not a very sophistacated code and in fact using Python is trivial to break. Find a variation of the Caesar Cypher that is more secure and implement it. If you want to talk about an idea, see me.\n",
    "\n",
    "For a 4 you should have a function that takes a message and a key and encodes it; and another that takes the code and the key and decodes it to give the message. Show that it works and you can reproduce the message.\n",
    "\n",
    "**Sorting:** You can look up sorting algorithms on wikipedia. Write functions implementing some other sorting algorithms. To achieve a 4 on this one you should implement multiple sorting algorithms so you can compare them with each other.\n",
    "\n",
    "Describe what the algorithm does.\n",
    "\n",
    "**Analyzing Frankenstein:** Count the frequency of words in Mary Shelley's Frankenstine. Give a list of the 10 most common words of five letters or more. *Note that you probably want to use a dictionary to implement this*.\n",
    "\n",
    "Your solution may use dictionaries, sets, and tuples if they are useful, but other than *Analyzing Hamlet* they would not be necessary.\n"
   ]
  },
  {
   "cell_type": "code",
   "execution_count": null,
   "id": "5b7d1fb5-38b1-40bc-a9ba-f2939c49b84d",
   "metadata": {},
   "outputs": [],
   "source": []
  }
 ],
 "metadata": {
  "kernelspec": {
   "display_name": "Python 3 (ipykernel)",
   "language": "python",
   "name": "python3"
  },
  "language_info": {
   "codemirror_mode": {
    "name": "ipython",
    "version": 3
   },
   "file_extension": ".py",
   "mimetype": "text/x-python",
   "name": "python",
   "nbconvert_exporter": "python",
   "pygments_lexer": "ipython3",
   "version": "3.9.7"
  }
 },
 "nbformat": 4,
 "nbformat_minor": 5
}
