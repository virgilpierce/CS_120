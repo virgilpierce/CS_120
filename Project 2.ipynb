{
 "cells": [
  {
   "cell_type": "markdown",
   "id": "70e2b5af-6c95-4575-9ea8-54e548725eb6",
   "metadata": {},
   "source": [
    "# Project 2\n",
    "\n",
    "For project 2, let grapple with a common use of dictionaries in Python keep track of how frequencies:\n",
    "\n",
    "You can find a copy of Mary Shelley's Frankenstine on Project Guttenberg: https://www.gutenberg.org/files/84/84-0.txt\n",
    "\n",
    "Your task is to compute the following items from this text:  \n",
    "\n",
    "- Find the five most common words that had more than 3 letters.\n",
    "\n",
    "Here is an outline of how I would approach it, but if you see another way by all means do that, your result should be answers to the bullet above:\n",
    "\n",
    "1. First inspect the book by just openning the link in your browser and notice that Project Guttenberg has added some items to the beginning and the end, you will need to determine how to get Python to not include this material, not written by Mary Shelley in your analysis.\n",
    "\n",
    "2. You can open the book use the urlopen package we used earlier in class and read it line by line.\n",
    "\n",
    "3. The str.split() method is a useful way to break up a line of text into words.\n",
    "\n",
    "4. You might want to deal with punctuation.\n",
    "\n",
    "5. After that write code that will count the frequency of each word used: I suggest using a dictionary (that starts as an empty diction count = dict() ) as we will show in class to count the frequency of words.  If the word is in the dictionary key already increment its counter by 1; otherwise if the word is not in the dictionary key add it with a counter value of 1. Remember to check the length of a word.\n",
    "\n",
    "6. You will then need a function that takes your dictionary with the counts and sorts it to find the five most frequently used words.\n",
    "\n"
   ]
  },
  {
   "cell_type": "code",
   "execution_count": null,
   "id": "5b7d1fb5-38b1-40bc-a9ba-f2939c49b84d",
   "metadata": {},
   "outputs": [],
   "source": []
  }
 ],
 "metadata": {
  "kernelspec": {
   "display_name": "Python 3 (ipykernel)",
   "language": "python",
   "name": "python3"
  },
  "language_info": {
   "codemirror_mode": {
    "name": "ipython",
    "version": 3
   },
   "file_extension": ".py",
   "mimetype": "text/x-python",
   "name": "python",
   "nbconvert_exporter": "python",
   "pygments_lexer": "ipython3",
   "version": "3.9.7"
  }
 },
 "nbformat": 4,
 "nbformat_minor": 5
}
