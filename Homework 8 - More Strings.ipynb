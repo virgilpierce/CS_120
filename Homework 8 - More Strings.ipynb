{
 "cells": [
  {
   "cell_type": "markdown",
   "id": "09fc07f2-ca19-452b-ac7d-eb47a4eeb7c7",
   "metadata": {},
   "source": [
    "# Homework 8 - More Strings\n",
    "\n",
    "Using the puzzle words file we used in class and inspired by Wordle, let's write a code to answer the following questions:\n",
    "\n",
    "1. Which five letter words use distinct letters.\n",
    "\n",
    "2. Which five letter words use 4 vowels; 3 vowels?"
   ]
  },
  {
   "cell_type": "code",
   "execution_count": null,
   "id": "9f12c88f-9e5e-4b37-a0e0-630de3e3ba05",
   "metadata": {},
   "outputs": [],
   "source": []
  }
 ],
 "metadata": {
  "kernelspec": {
   "display_name": "Python 3 (ipykernel)",
   "language": "python",
   "name": "python3"
  },
  "language_info": {
   "codemirror_mode": {
    "name": "ipython",
    "version": 3
   },
   "file_extension": ".py",
   "mimetype": "text/x-python",
   "name": "python",
   "nbconvert_exporter": "python",
   "pygments_lexer": "ipython3",
   "version": "3.9.7"
  }
 },
 "nbformat": 4,
 "nbformat_minor": 5
}
