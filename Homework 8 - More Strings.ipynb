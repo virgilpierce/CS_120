{
 "cells": [
  {
   "cell_type": "markdown",
   "id": "09fc07f2-ca19-452b-ac7d-eb47a4eeb7c7",
   "metadata": {},
   "source": [
    "# Homework 8 - More Strings\n",
    "\n",
    "You can get the text of Hamlet from various places on the internet, for example from here: http://library.beau.org/gutenberg/etext00/0ws2610.txt\n",
    "\n",
    "Note that the actual play starts part way down with the line \"The Tragedie of Hamlet\"\n",
    "\n",
    "1. Find a copy of the text as a .txt file and save it to your Jupyter directory and then load it as a file; or use the url method we discussed in class to load it as a file. \n",
    "\n",
    "2. Write a short while loop that reads lines from the file until you get to the start of the play.\n",
    "\n",
    "3. A Major theme of Shakespeare's Hamlet is *corruption*.  Compile a list of words that represent corruption and may (or may not) appear in the play. For example 'decay', 'death', 'poison', 'rotten', 'mould', and any other words you feel would capture this. The larger your list the better.\n",
    "\n",
    "4. Write a function that takes a string and checks if a word from your *corruption* list is appears in the string.\n",
    "\n",
    "5. Write a program that searches the .txt of hamlet and counts how many times a word from your *corruption* list is used. "
   ]
  },
  {
   "cell_type": "code",
   "execution_count": null,
   "id": "9f12c88f-9e5e-4b37-a0e0-630de3e3ba05",
   "metadata": {},
   "outputs": [],
   "source": []
  }
 ],
 "metadata": {
  "kernelspec": {
   "display_name": "Python 3 (ipykernel)",
   "language": "python",
   "name": "python3"
  },
  "language_info": {
   "codemirror_mode": {
    "name": "ipython",
    "version": 3
   },
   "file_extension": ".py",
   "mimetype": "text/x-python",
   "name": "python",
   "nbconvert_exporter": "python",
   "pygments_lexer": "ipython3",
   "version": "3.9.5"
  }
 },
 "nbformat": 4,
 "nbformat_minor": 5
}
